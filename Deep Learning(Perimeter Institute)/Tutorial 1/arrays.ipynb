{
 "cells": [
  {
   "cell_type": "markdown",
   "metadata": {},
   "source": [
    "# Working with arrays"
   ]
  },
  {
   "cell_type": "markdown",
   "metadata": {},
   "source": [
    "In this notebook, we show why it is crucial to use the correct numpy notation instead of `for` loops when working with arrays in Python."
   ]
  },
  {
   "cell_type": "markdown",
   "metadata": {},
   "source": [
    "> Consider a binary random sequence. Count the number of times that a $0$ is followed by a $1$. Compare the performance when using a `for` loop and when using the array sintax. How does it scale with the length of the sequence?"
   ]
  },
  {
   "cell_type": "markdown",
   "metadata": {},
   "source": [
    "Import the numpy library"
   ]
  },
  {
   "cell_type": "code",
   "execution_count": 1,
   "metadata": {
    "ExecuteTime": {
     "end_time": "2019-04-26T18:21:14.116226Z",
     "start_time": "2019-04-26T18:21:13.542984Z"
    }
   },
   "outputs": [],
   "source": [
    "import numpy as np "
   ]
  },
  {
   "cell_type": "markdown",
   "metadata": {},
   "source": [
    "Choose the length of the sequence"
   ]
  },
  {
   "cell_type": "code",
   "execution_count": 2,
   "metadata": {
    "ExecuteTime": {
     "end_time": "2019-04-26T18:21:14.116226Z",
     "start_time": "2019-04-26T18:21:13.542984Z"
    }
   },
   "outputs": [],
   "source": [
    "N = 10**8"
   ]
  },
  {
   "cell_type": "markdown",
   "metadata": {},
   "source": [
    "Extract a random sequence (lower bound is included, upper bound is excluded) with length $N$"
   ]
  },
  {
   "cell_type": "code",
   "execution_count": 3,
   "metadata": {
    "ExecuteTime": {
     "end_time": "2019-04-26T19:22:27.730774Z",
     "start_time": "2019-04-26T19:22:27.403210Z"
    }
   },
   "outputs": [],
   "source": [
    "s = np.random.randint(0,2, size=N)"
   ]
  },
  {
   "cell_type": "code",
   "execution_count": 4,
   "metadata": {
    "ExecuteTime": {
     "end_time": "2019-04-26T19:22:27.821672Z",
     "start_time": "2019-04-26T19:22:27.818678Z"
    }
   },
   "outputs": [
    {
     "data": {
      "text/plain": [
       "array([1, 0, 0, ..., 0, 0, 1])"
      ]
     },
     "execution_count": 4,
     "metadata": {},
     "output_type": "execute_result"
    }
   ],
   "source": [
    "s"
   ]
  },
  {
   "cell_type": "markdown",
   "metadata": {},
   "source": [
    "We define a function that performs the calculation using the `for` sintax: we go through all the array and for each element we check whether it has value zero and it is followed by a one"
   ]
  },
  {
   "cell_type": "code",
   "execution_count": 5,
   "metadata": {
    "ExecuteTime": {
     "end_time": "2019-04-26T18:21:40.178179Z",
     "start_time": "2019-04-26T18:21:16.175274Z"
    }
   },
   "outputs": [],
   "source": [
    "def zero_to_one(s):\n",
    "    n = 0\n",
    "    for i in range(N-1):\n",
    "        if s[i]==0 and s[i+1]==1:\n",
    "            n += 1\n",
    "    return n"
   ]
  },
  {
   "cell_type": "code",
   "execution_count": 6,
   "metadata": {
    "ExecuteTime": {
     "end_time": "2019-04-26T18:21:40.178179Z",
     "start_time": "2019-04-26T18:21:16.175274Z"
    }
   },
   "outputs": [
    {
     "data": {
      "text/plain": [
       "25000623"
      ]
     },
     "execution_count": 6,
     "metadata": {},
     "output_type": "execute_result"
    }
   ],
   "source": [
    "zero_to_one(s)"
   ]
  },
  {
   "cell_type": "markdown",
   "metadata": {},
   "source": [
    "We perform the same calculation using the numpy array sintax. We consider two arrays, one that starts at $0$ and ends at $N-1$, and the other that starts at $1$ and ends at $N$. We compare _elementwise_ the elements of the two arrays. As the result of the operation, we get an array whose elements are the boolean results of the comparison (`False`$=0$, `True` $=1$ )"
   ]
  },
  {
   "cell_type": "code",
   "execution_count": 9,
   "metadata": {
    "ExecuteTime": {
     "end_time": "2019-04-26T19:50:33.522274Z",
     "start_time": "2019-04-26T19:50:33.519318Z"
    }
   },
   "outputs": [],
   "source": [
    "#\n",
    "#   x[:-1] = x[0] x[1] x[2] ... x[N-1]\n",
    "#     ^        ^    ^    ^         ^\n",
    "#   x[1:]  = x[1] x[2] x[3] ... x[N]\n",
    "#"
   ]
  },
  {
   "cell_type": "code",
   "execution_count": 10,
   "metadata": {
    "ExecuteTime": {
     "end_time": "2019-04-26T19:50:33.947091Z",
     "start_time": "2019-04-26T19:50:33.832831Z"
    }
   },
   "outputs": [
    {
     "data": {
      "text/plain": [
       "25000623"
      ]
     },
     "execution_count": 10,
     "metadata": {},
     "output_type": "execute_result"
    }
   ],
   "source": [
    "np.count_nonzero(s[:-1] < s[1:])"
   ]
  },
  {
   "cell_type": "markdown",
   "metadata": {},
   "source": [
    "A simple way to measure the execution time: `%prun`"
   ]
  },
  {
   "cell_type": "code",
   "execution_count": 11,
   "metadata": {},
   "outputs": [
    {
     "name": "stdout",
     "output_type": "stream",
     "text": [
      " "
     ]
    }
   ],
   "source": [
    "%prun zero_to_one(s)"
   ]
  },
  {
   "cell_type": "code",
   "execution_count": 14,
   "metadata": {},
   "outputs": [
    {
     "name": "stdout",
     "output_type": "stream",
     "text": [
      " "
     ]
    }
   ],
   "source": [
    "%prun np.count_nonzero(s[:-1] < s[1:])"
   ]
  }
 ],
 "metadata": {
  "kernelspec": {
   "display_name": "Python 3",
   "language": "python",
   "name": "python3"
  },
  "language_info": {
   "codemirror_mode": {
    "name": "ipython",
    "version": 3
   },
   "file_extension": ".py",
   "mimetype": "text/x-python",
   "name": "python",
   "nbconvert_exporter": "python",
   "pygments_lexer": "ipython3",
   "version": "3.7.4"
  },
  "toc": {
   "base_numbering": 1,
   "nav_menu": {},
   "number_sections": true,
   "sideBar": true,
   "skip_h1_title": false,
   "title_cell": "Table of Contents",
   "title_sidebar": "Contents",
   "toc_cell": false,
   "toc_position": {},
   "toc_section_display": true,
   "toc_window_display": false
  }
 },
 "nbformat": 4,
 "nbformat_minor": 2
}
