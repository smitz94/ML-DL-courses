{
 "cells": [
  {
   "cell_type": "markdown",
   "metadata": {},
   "source": [
    "## Introduction"
   ]
  },
  {
   "cell_type": "markdown",
   "metadata": {},
   "source": [
    "In this tutorial we will work with the **gym** environment CartPole.\n",
    "Gym is OpenAI library that comes with a lot of environments already implemented, such that you have to think of the Reinforcement Learning part of the problem.\n",
    "\n",
    "<img src=\"http://wwwuser.gwdg.de/~lsarra/ml4p/04/images\\cartpole.png\" alt=\"Drawing\" style=\"width: 300px;\"/>\n",
    "\n",
    "CartPole is one of the most famous ones. The goal is to balance a pole on top of a moving cart, and the only (two) actions available are pushes to the cart in the left or right direction.\n",
    "An episode is \"failed\" if the pole is more than 15 degrees from the vertical or if the cart moves more than 2.4 units from the center of the environment.\n",
    "At each timestep, the RL agent gets a reward=+1 if the pole is still standing. \n",
    "The goal is to balance the pole for 200 timesteps (then an episode is considered successful).\n",
    "The environment is considered **solved** if the RL agent can balance the pole for at least 195 timesteps in 100 consecutive trials (you can challenge other people on the [openAI website](https://gym.openai.com/envs/CartPole-v0/)!) \n",
    "\n",
    "Let's now define all the ingredients that we need:\n",
    "- State: list of 4 values (position and velocity of the cart, angle of the pole (in radians) and pole velocity at the tip)\n",
    "- Actions: 0 (push cart to the left) or 1 (push cart to the right)\n",
    "- Reward: +1 for each time step, until the episode is done\n",
    "\n",
    "It's very easy to use a gym environment.\n",
    "First, you have to define it:"
   ]
  },
  {
   "cell_type": "code",
   "execution_count": 45,
   "metadata": {},
   "outputs": [
    {
     "data": {
      "text/plain": [
       "array([ 0.02993718,  0.00134646, -0.02271697,  0.03615845])"
      ]
     },
     "execution_count": 45,
     "metadata": {},
     "output_type": "execute_result"
    }
   ],
   "source": [
    "import gym\n",
    "env = gym.make('CartPole-v0')\n",
    "env.reset()"
   ]
  },
  {
   "cell_type": "markdown",
   "metadata": {},
   "source": [
    "You can see that `env.reset()` returns the initial state of the environment.\n",
    "Then, you can simply act on it. Each environment has an internal function called `action_space.sample()` that allows you to sample random actions.\n",
    "With `render()` you can also check what is happening.\n",
    "The function `step()` outputs the current state of the environment, the reward obtained for the last action, a `done` boolean variable that indicates if the episode is over, and some other info (that we don't need).\n",
    "To stop the environment after `done=True`, we need to put a `break`:"
   ]
  },
  {
   "cell_type": "code",
   "execution_count": 47,
   "metadata": {},
   "outputs": [
    {
     "name": "stdout",
     "output_type": "stream",
     "text": [
      "Episode finished after 15 timesteps\n"
     ]
    }
   ],
   "source": [
    "t=0\n",
    "env.reset()\n",
    "while True:\n",
    "    env.render()\n",
    "    next_state, reward, done, _ = env.step(env.action_space.sample())\n",
    "    t+=1\n",
    "    if done:\n",
    "        print(\"Episode finished after \" + str(t) + \" timesteps\")\n",
    "        break"
   ]
  },
  {
   "cell_type": "markdown",
   "metadata": {},
   "source": [
    "Since the actions are random, the episode is over after a few timesteps.\n",
    "Here you can see a full trained RL agent:\n",
    "<img src=\"http://wwwuser.gwdg.de/~lsarra/ml4p/04/images\\cartpole.gif\" alt=\"Drawing\" style=\"width: 300px;\"/>"
   ]
  },
  {
   "cell_type": "markdown",
   "metadata": {},
   "source": [
    "## Import libraries"
   ]
  },
  {
   "cell_type": "code",
   "execution_count": 48,
   "metadata": {},
   "outputs": [],
   "source": [
    "import gym\n",
    "import numpy as np\n",
    "import random\n",
    "import math\n",
    "%matplotlib inline\n",
    "import matplotlib.pyplot as plt\n",
    "\n",
    "\n",
    "env = gym.make('CartPole-v0')\n",
    "\n",
    "low = env.observation_space.low\n",
    "high= env.observation_space.high\n",
    "\n",
    "input_dim  = env.observation_space.shape[0]\n",
    "output_dim = env.action_space.n\n",
    "\n",
    "discount_factor = 0.99 "
   ]
  },
  {
   "cell_type": "markdown",
   "metadata": {},
   "source": [
    "_low_ and _high_ contain respectively the minimum and maximum values that the state can assume."
   ]
  },
  {
   "cell_type": "markdown",
   "metadata": {},
   "source": [
    "## Setup Q_table"
   ]
  },
  {
   "cell_type": "markdown",
   "metadata": {},
   "source": [
    "<img src=\"http://wwwuser.gwdg.de/~lsarra/ml4p/04/images\\qlearning.png\" alt=\"Drawing\" style=\"width: 1000px;\"/>\n",
    "<br><br>\n",
    "\n",
    "Since the state is intrinsically continuous, we need to discretize it to apply Q-learning. \n",
    "Empirically, we can ignore the position and velocity of the cart for the training to accelerate the training, since it's uncommon that a trained agent will go out of the bounds in just 200 steps.\n",
    "\n",
    "First, we define a Q-table with dimension [1,1,6,3], where each number stands for the discrete bins that we choose to discretize each part of the state (1 means that there is only one bin == we ignore it). <br>\n",
    "Now, you have to implement the Q-learning update rule:\n",
    "$$Q^{new}(s_t,a_t)=Q^{old}(s_t,a_t)+\\alpha (r_t+\\gamma \\underset{a}{max} Q^{old}(s_{t+1},a) -Q^{old}(s_t,a_t))$$\n",
    "where $\\alpha$ is the learning rate and $\\gamma$ the discount factor."
   ]
  },
  {
   "cell_type": "code",
   "execution_count": 49,
   "metadata": {},
   "outputs": [],
   "source": [
    "N_discr = [1,1,6,3]  # [position, velocity, angle, angular velocity]\n",
    "\n",
    "q_table = np.zeros(N_discr + [output_dim,])\n",
    "\n",
    "def q_learning_update(state, next_state, action, reward):\n",
    "    learning_rate = get_learning_rate(episode)\n",
    "    \n",
    "    best_q = np.amax(q_table[next_state])\n",
    "    q_table[state + (action,)] += ..............."
   ]
  },
  {
   "cell_type": "markdown",
   "metadata": {},
   "source": [
    "### Discretize states"
   ]
  },
  {
   "cell_type": "markdown",
   "metadata": {},
   "source": [
    "We now define a function to discretize a state like this:\n",
    "<img src=\"http://wwwuser.gwdg.de/~lsarra/ml4p/04/images\\state_discr.png\" alt=\"Drawing\" style=\"width: 600px;\"/>\n",
    "<br>\n",
    "_discretize_state_ should receive a state as an input and return a tuple, e.g. (0,0,3,2).\n",
    "We choose the pole angle to be from -15° to 15°, since the episode will be anyway done above this inclination."
   ]
  },
  {
   "cell_type": "code",
   "execution_count": 50,
   "metadata": {},
   "outputs": [],
   "source": [
    "low[3], high[3] = -math.radians(15), math.radians(15)\n",
    "\n",
    "def discretize_state(state):\n",
    "    discretized_state = []\n",
    "    for i in range(len(state)):\n",
    "        if state[i] <= low[i]:\n",
    "            index = 0\n",
    "        if state[i] >= high[i]:\n",
    "            index = N_discr[i] - 1\n",
    "        else:\n",
    "            index = ...............\n",
    "        discretized_state.append(index)\n",
    "\n",
    "    return tuple(discretized_state)"
   ]
  },
  {
   "cell_type": "markdown",
   "metadata": {},
   "source": [
    "### Define learning and exploration rates"
   ]
  },
  {
   "cell_type": "code",
   "execution_count": 51,
   "metadata": {},
   "outputs": [],
   "source": [
    "min_learning_rate = 0.1\n",
    "beta=0.04\n",
    "\n",
    "def get_learning_rate(episode):\n",
    "    return  ...............\n",
    "\n",
    "min_eps=0.01 \n",
    "max_eps=1 \n",
    "gamma=0.02\n",
    "\n",
    "def get_explore_rate(episode):\n",
    "    return  ..............."
   ]
  },
  {
   "cell_type": "markdown",
   "metadata": {},
   "source": [
    "Then, we need to define the exploration rate for the agent.\n",
    "A very important concept in RL is the exploitation-exploration rate ($\\epsilon$-greedy).\n",
    "I want my agent to act with the best action available at each timestep, but to learn what that is, I have to explore every now and then (and a lot more in the beginning!).\n",
    "Basically, what we will do is to follow this policy:\n",
    "$$ action=\\begin{cases} \\mbox{random action} &\\mbox{with probability } \\epsilon \\\\ \n",
    "\\underset{a}{max} Q(s,a) & \\mbox{with probability } 1-\\epsilon \\end{cases}\n",
    "$$\n",
    "Usually, a good choice for $\\epsilon$ is an exponential decay that stops when it reaches a certain value. Implement this function for $\\epsilon$:\n",
    "$$ \\epsilon_{min}+(\\epsilon_{max}-\\epsilon_{min}) e^{-\\beta*episode}$$\n",
    "with $\\epsilon_{min}=0.01$, $\\epsilon_{max}=1$ and $\\beta=0.02$.\n",
    "<br><br>\n",
    "It is helpful even to define a decay for the learning rate. Try to implement this:"
   ]
  },
  {
   "cell_type": "code",
   "execution_count": 56,
   "metadata": {},
   "outputs": [
    {
     "data": {
      "image/png": "[encoded data removed]",
      "text/plain": [
       "<Figure size 432x288 with 1 Axes>"
      ]
     },
     "metadata": {
      "needs_background": "light"
     },
     "output_type": "display_data"
    }
   ],
   "source": [
    "N=300\n",
    "x=np.linspace(0,N,N)\n",
    "y=[]\n",
    "for i in range(N):\n",
    "    y.append(get_learning_rate(x[i]))\n",
    "plt.plot(x,y)\n",
    "plt.xlabel('Episodes')\n",
    "plt.ylabel('Learning rate')\n",
    "plt.show()"
   ]
  },
  {
   "cell_type": "markdown",
   "metadata": {},
   "source": [
    "where the decay goes like $1-log_{10}(-\\beta*(episode+1))$ with $\\beta=0.04$"
   ]
  },
  {
   "cell_type": "markdown",
   "metadata": {},
   "source": [
    "## Rule for selection an action"
   ]
  },
  {
   "cell_type": "markdown",
   "metadata": {},
   "source": [
    "We need a function for choosing an action. Remember the $\\epsilon$-greedy approach: choose with probability $\\epsilon$ a random action and with probability $1-\\epsilon$ the best action available in the Q_table."
   ]
  },
  {
   "cell_type": "code",
   "execution_count": 58,
   "metadata": {},
   "outputs": [],
   "source": [
    "def select_action(state, episode):\n",
    "    explore_rate = get_explore_rate(episode)\n",
    "    if random.random() < explore_rate:\n",
    "        return env.action_space.sample()\n",
    "    else:\n",
    "        return ..............."
   ]
  },
  {
   "cell_type": "markdown",
   "metadata": {},
   "source": [
    "## Simulation"
   ]
  },
  {
   "cell_type": "markdown",
   "metadata": {},
   "source": [
    "Now we can actually simulate the environment and train our agent. We will update the Q-table after each time step (we could also store the data and do it every episode or so).\n",
    "Remember that the problem is considered solved if the agent can achieve a score of 195 or higher for 100 episodes in a row)"
   ]
  },
  {
   "cell_type": "code",
   "execution_count": 59,
   "metadata": {},
   "outputs": [
    {
     "name": "stderr",
     "output_type": "stream",
     "text": [
      "/usr/local/lib/python3.6/site-packages/ipykernel_launcher.py:11: RuntimeWarning: overflow encountered in float_scalars\n",
      "  # This is added back by InteractiveShellApp.init_path()\n"
     ]
    },
    {
     "name": "stdout",
     "output_type": "stream",
     "text": [
      "Episode: 0 Total reward: 18.0\n",
      "Episode: 1 Total reward: 19.0\n",
      "Episode: 2 Total reward: 44.0\n",
      "Episode: 3 Total reward: 17.0\n",
      "Episode: 4 Total reward: 16.0\n",
      "Episode: 5 Total reward: 15.0\n",
      "Episode: 6 Total reward: 10.0\n",
      "Episode: 7 Total reward: 33.0\n",
      "Episode: 8 Total reward: 16.0\n",
      "Episode: 9 Total reward: 21.0\n",
      "Episode: 10 Total reward: 16.0\n",
      "Episode: 11 Total reward: 16.0\n",
      "Episode: 12 Total reward: 15.0\n",
      "Episode: 13 Total reward: 47.0\n",
      "Episode: 14 Total reward: 10.0\n",
      "Episode: 15 Total reward: 16.0\n",
      "Episode: 16 Total reward: 49.0\n",
      "Episode: 17 Total reward: 10.0\n",
      "Episode: 18 Total reward: 22.0\n",
      "Episode: 19 Total reward: 44.0\n",
      "Episode: 20 Total reward: 13.0\n",
      "Episode: 21 Total reward: 80.0\n",
      "Episode: 22 Total reward: 27.0\n",
      "Episode: 23 Total reward: 14.0\n",
      "Episode: 24 Total reward: 73.0\n",
      "Episode: 25 Total reward: 10.0\n",
      "Episode: 26 Total reward: 32.0\n",
      "Episode: 27 Total reward: 9.0\n",
      "Episode: 28 Total reward: 40.0\n",
      "Episode: 29 Total reward: 27.0\n",
      "Episode: 30 Total reward: 9.0\n",
      "Episode: 31 Total reward: 52.0\n",
      "Episode: 32 Total reward: 80.0\n",
      "Episode: 33 Total reward: 15.0\n",
      "Episode: 34 Total reward: 47.0\n",
      "Episode: 35 Total reward: 15.0\n",
      "Episode: 36 Total reward: 34.0\n",
      "Episode: 37 Total reward: 76.0\n",
      "Episode: 38 Total reward: 9.0\n",
      "Episode: 39 Total reward: 10.0\n",
      "Episode: 40 Total reward: 30.0\n",
      "Episode: 41 Total reward: 9.0\n",
      "Episode: 42 Total reward: 54.0\n",
      "Episode: 43 Total reward: 10.0\n",
      "Episode: 44 Total reward: 12.0\n",
      "Episode: 45 Total reward: 24.0\n",
      "Episode: 46 Total reward: 88.0\n",
      "Episode: 47 Total reward: 35.0\n",
      "Episode: 48 Total reward: 14.0\n",
      "Episode: 49 Total reward: 49.0\n",
      "Episode: 50 Total reward: 33.0\n",
      "Episode: 51 Total reward: 10.0\n",
      "Episode: 52 Total reward: 200.0\n",
      "Episode: 53 Total reward: 80.0\n",
      "Episode: 54 Total reward: 11.0\n",
      "Episode: 55 Total reward: 14.0\n",
      "Episode: 56 Total reward: 28.0\n",
      "Episode: 57 Total reward: 200.0\n",
      "Episode: 58 Total reward: 200.0\n",
      "Episode: 59 Total reward: 117.0\n",
      "Episode: 60 Total reward: 8.0\n",
      "Episode: 61 Total reward: 8.0\n",
      "Episode: 62 Total reward: 17.0\n",
      "Episode: 63 Total reward: 118.0\n",
      "Episode: 64 Total reward: 57.0\n",
      "Episode: 65 Total reward: 42.0\n",
      "Episode: 66 Total reward: 44.0\n",
      "Episode: 67 Total reward: 16.0\n",
      "Episode: 68 Total reward: 24.0\n",
      "Episode: 69 Total reward: 57.0\n",
      "Episode: 70 Total reward: 10.0\n",
      "Episode: 71 Total reward: 200.0\n",
      "Episode: 72 Total reward: 200.0\n",
      "Episode: 73 Total reward: 117.0\n",
      "Episode: 74 Total reward: 13.0\n",
      "Episode: 75 Total reward: 117.0\n",
      "Episode: 76 Total reward: 11.0\n",
      "Episode: 77 Total reward: 200.0\n",
      "Episode: 78 Total reward: 200.0\n",
      "Episode: 79 Total reward: 50.0\n",
      "Episode: 80 Total reward: 10.0\n",
      "Episode: 81 Total reward: 63.0\n",
      "Episode: 82 Total reward: 9.0\n",
      "Episode: 83 Total reward: 36.0\n",
      "Episode: 84 Total reward: 27.0\n",
      "Episode: 85 Total reward: 93.0\n",
      "Episode: 86 Total reward: 10.0\n",
      "Episode: 87 Total reward: 200.0\n",
      "Episode: 88 Total reward: 200.0\n",
      "Episode: 89 Total reward: 76.0\n",
      "Episode: 90 Total reward: 9.0\n",
      "Episode: 91 Total reward: 10.0\n",
      "Episode: 92 Total reward: 200.0\n",
      "Episode: 93 Total reward: 200.0\n",
      "Episode: 94 Total reward: 200.0\n",
      "Episode: 95 Total reward: 200.0\n",
      "Episode: 96 Total reward: 200.0\n",
      "Episode: 97 Total reward: 200.0\n",
      "Episode: 98 Total reward: 200.0\n",
      "Episode: 99 Total reward: 200.0\n",
      "Episode: 100 Total reward: 200.0\n",
      "Episode: 101 Total reward: 200.0\n",
      "Episode: 102 Total reward: 200.0\n",
      "Episode: 103 Total reward: 200.0\n",
      "Episode: 104 Total reward: 200.0\n",
      "Episode: 105 Total reward: 200.0\n",
      "Episode: 106 Total reward: 200.0\n",
      "Episode: 107 Total reward: 200.0\n",
      "Episode: 108 Total reward: 200.0\n",
      "Episode: 109 Total reward: 200.0\n",
      "Episode: 110 Total reward: 200.0\n",
      "Episode: 111 Total reward: 200.0\n",
      "Episode: 112 Total reward: 200.0\n",
      "Episode: 113 Total reward: 200.0\n",
      "Episode: 114 Total reward: 200.0\n",
      "Episode: 115 Total reward: 200.0\n",
      "Episode: 116 Total reward: 200.0\n",
      "Episode: 117 Total reward: 200.0\n",
      "Episode: 118 Total reward: 200.0\n",
      "Episode: 119 Total reward: 200.0\n",
      "Episode: 120 Total reward: 200.0\n",
      "Episode: 121 Total reward: 200.0\n",
      "Episode: 122 Total reward: 200.0\n",
      "Episode: 123 Total reward: 200.0\n",
      "Episode: 124 Total reward: 200.0\n",
      "Episode: 125 Total reward: 200.0\n",
      "Episode: 126 Total reward: 200.0\n",
      "Episode: 127 Total reward: 200.0\n",
      "Episode: 128 Total reward: 200.0\n",
      "Episode: 129 Total reward: 200.0\n",
      "Episode: 130 Total reward: 200.0\n",
      "Episode: 131 Total reward: 200.0\n",
      "Episode: 132 Total reward: 200.0\n",
      "Episode: 133 Total reward: 200.0\n",
      "Episode: 134 Total reward: 200.0\n",
      "Episode: 135 Total reward: 200.0\n",
      "Episode: 136 Total reward: 200.0\n",
      "Episode: 137 Total reward: 200.0\n",
      "Episode: 138 Total reward: 200.0\n",
      "Episode: 139 Total reward: 200.0\n",
      "Episode: 140 Total reward: 200.0\n",
      "Episode: 141 Total reward: 200.0\n",
      "Episode: 142 Total reward: 200.0\n",
      "Episode: 143 Total reward: 200.0\n",
      "Episode: 144 Total reward: 200.0\n",
      "Episode: 145 Total reward: 200.0\n",
      "Episode: 146 Total reward: 200.0\n",
      "Episode: 147 Total reward: 200.0\n",
      "Episode: 148 Total reward: 200.0\n",
      "Episode: 149 Total reward: 200.0\n",
      "Episode: 150 Total reward: 200.0\n",
      "Episode: 151 Total reward: 200.0\n",
      "Episode: 152 Total reward: 200.0\n",
      "Episode: 153 Total reward: 200.0\n",
      "Episode: 154 Total reward: 200.0\n",
      "Episode: 155 Total reward: 200.0\n",
      "Episode: 156 Total reward: 200.0\n",
      "Episode: 157 Total reward: 200.0\n",
      "Episode: 158 Total reward: 200.0\n",
      "Episode: 159 Total reward: 200.0\n",
      "Episode: 160 Total reward: 200.0\n",
      "Episode: 161 Total reward: 200.0\n",
      "Episode: 162 Total reward: 200.0\n",
      "Episode: 163 Total reward: 200.0\n",
      "Episode: 164 Total reward: 200.0\n",
      "Episode: 165 Total reward: 200.0\n",
      "Episode: 166 Total reward: 200.0\n",
      "Episode: 167 Total reward: 200.0\n",
      "Episode: 168 Total reward: 200.0\n",
      "Episode: 169 Total reward: 200.0\n",
      "Episode: 170 Total reward: 200.0\n",
      "Episode: 171 Total reward: 200.0\n",
      "Episode: 172 Total reward: 200.0\n",
      "Episode: 173 Total reward: 200.0\n",
      "Episode: 174 Total reward: 200.0\n",
      "Episode: 175 Total reward: 200.0\n",
      "Episode: 176 Total reward: 200.0\n",
      "Episode: 177 Total reward: 200.0\n",
      "Episode: 178 Total reward: 200.0\n",
      "Episode: 179 Total reward: 200.0\n",
      "Episode: 180 Total reward: 200.0\n",
      "Episode: 181 Total reward: 200.0\n",
      "Episode: 182 Total reward: 200.0\n",
      "Episode: 183 Total reward: 200.0\n",
      "Episode: 184 Total reward: 200.0\n",
      "Episode: 185 Total reward: 200.0\n",
      "Episode: 186 Total reward: 200.0\n",
      "Episode: 187 Total reward: 200.0\n",
      "Episode: 188 Total reward: 200.0\n",
      "Episode: 189 Total reward: 200.0\n",
      "Episode: 190 Total reward: 200.0\n",
      "Episode: 191 Total reward: 200.0\n",
      "Episode: 192 Total reward: 200.0\n"
     ]
    }
   ],
   "source": [
    "max_episodes = 1000\n",
    "max_t = 250\n",
    "combo_goal = 100\n",
    "timesteps_goal= 195\n",
    "\n",
    "combo = 0\n",
    "R=[]\n",
    "\n",
    "for episode in range(max_episodes):\n",
    "    state = env.reset()\n",
    "    state_D = discretize_state(state)\n",
    "    cumulative_reward=0    \n",
    "    for t in range(max_t):\n",
    "        #env.render()\n",
    "        action = select_action(state_D, episode)     \n",
    "        next_state, reward, done, _ = env.step(action)\n",
    "        next_state_D = discretize_state(next_state)     \n",
    "        if done: \n",
    "            if (t >= timesteps_goal):\n",
    "                combo += 1\n",
    "            else:\n",
    "                combo = 0\n",
    "            next_state = None    \n",
    "        q_learning_update(state_D, next_state_D, action, reward)\n",
    "        state_D = next_state_D    \n",
    "        cumulative_reward+=reward\n",
    "        if done:\n",
    "            break\n",
    "            \n",
    "    print('Episode: {}'.format(episode), 'Total reward: {}'.format(cumulative_reward))\n",
    "    R.append(cumulative_reward)\n",
    "    if combo > combo_goal:\n",
    "        break"
   ]
  },
  {
   "cell_type": "code",
   "execution_count": 60,
   "metadata": {},
   "outputs": [
    {
     "data": {
      "image/png": "[encoded data removed]",
      "text/plain": [
       "<Figure size 432x288 with 1 Axes>"
      ]
     },
     "metadata": {
      "needs_background": "light"
     },
     "output_type": "display_data"
    }
   ],
   "source": [
    "plt.plot(R)\n",
    "plt.xlabel(\"Episodes\")\n",
    "plt.ylabel(\"Cumulative reward\")\n",
    "plt.show()"
   ]
  },
  {
   "cell_type": "code",
   "execution_count": null,
   "metadata": {},
   "outputs": [],
   "source": []
  }
 ],
 "metadata": {
  "kernelspec": {
   "display_name": "Python 3",
   "language": "python",
   "name": "python3"
  },
  "language_info": {
   "codemirror_mode": {
    "name": "ipython",
    "version": 3
   },
   "file_extension": ".py",
   "mimetype": "text/x-python",
   "name": "python",
   "nbconvert_exporter": "python",
   "pygments_lexer": "ipython3",
   "version": "3.7.4"
  },
  "toc": {
   "base_numbering": 1,
   "nav_menu": {},
   "number_sections": true,
   "sideBar": true,
   "skip_h1_title": false,
   "title_cell": "Table of Contents",
   "title_sidebar": "Contents",
   "toc_cell": false,
   "toc_position": {},
   "toc_section_display": true,
   "toc_window_display": false
  }
 },
 "nbformat": 4,
 "nbformat_minor": 2
}
