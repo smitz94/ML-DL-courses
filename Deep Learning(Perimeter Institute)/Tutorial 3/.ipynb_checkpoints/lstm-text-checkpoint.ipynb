{
 "cells": [
  {
   "cell_type": "code",
   "execution_count": 1,
   "metadata": {
    "ExecuteTime": {
     "end_time": "2019-06-12T08:02:52.019137Z",
     "start_time": "2019-06-12T08:02:44.343749Z"
    }
   },
   "outputs": [],
   "source": [
    "import numpy as np\n",
    "import tensorflow as tf\n",
    "import matplotlib.pyplot as plt\n",
    "import tensorflow.keras as K\n",
    "\n",
    "%matplotlib inline"
   ]
  },
  {
   "cell_type": "code",
   "execution_count": 2,
   "metadata": {
    "ExecuteTime": {
     "end_time": "2019-06-12T08:33:46.400206Z",
     "start_time": "2019-06-12T08:33:46.374742Z"
    }
   },
   "outputs": [],
   "source": [
    "data = open(\"opto.txt\",\"r\").read()"
   ]
  },
  {
   "cell_type": "code",
   "execution_count": 3,
   "metadata": {
    "ExecuteTime": {
     "end_time": "2019-06-12T08:33:46.966672Z",
     "start_time": "2019-06-12T08:33:46.951047Z"
    }
   },
   "outputs": [
    {
     "name": "stdout",
     "output_type": "stream",
     "text": [
      "Data has 1146162 characters, 100 unique.\n"
     ]
    }
   ],
   "source": [
    "chars = sorted(set(data))\n",
    "data_size, vocab_size = len(data), len(chars)\n",
    "print ('Data has {} characters, {} unique.'.format(data_size, vocab_size))\n",
    "\n",
    "char_to_num = { ch:i for i,ch in enumerate(chars) }\n",
    "num_to_char = { i:ch for i,ch in enumerate(chars) }"
   ]
  },
  {
   "cell_type": "code",
   "execution_count": 4,
   "metadata": {
    "ExecuteTime": {
     "end_time": "2019-06-12T08:33:50.992799Z",
     "start_time": "2019-06-12T08:33:50.987801Z"
    }
   },
   "outputs": [],
   "source": [
    "def hot_enc(j):\n",
    "    e = np.zeros([len(j),vocab_size])\n",
    "    e[range(len(j)),j]=1.\n",
    "    return e\n",
    "\n",
    "def cold_enc(e):\n",
    "    return e.argmax(axis=-1)\n",
    "\n",
    "def multinomial_choice(e, T = 1.):\n",
    "    preds = e**(1/T)\n",
    "    #preds = np.exp(np.log(e)/T)\n",
    "    #preds = np.exp(-e/T)\n",
    "    norm_preds = preds/np.sum(preds,axis=-1).reshape([-1,1])\n",
    "    return np.array([np.random.multinomial(1, norm_preds[i],1) for i in range(len(norm_preds))])[:,0]"
   ]
  },
  {
   "cell_type": "code",
   "execution_count": 5,
   "metadata": {
    "ExecuteTime": {
     "end_time": "2019-06-12T08:33:51.629948Z",
     "start_time": "2019-06-12T08:33:51.626850Z"
    }
   },
   "outputs": [],
   "source": [
    "def string_to_num(mystring):\n",
    "    return np.array([char_to_num[mystring[i]] for i in range(len(mystring))])\n",
    "\n",
    "def nums_to_string(mynums):\n",
    "    return \"\".join((num_to_char[mynums[i]] for i in range(len(mynums))))"
   ]
  },
  {
   "cell_type": "code",
   "execution_count": 7,
   "metadata": {
    "ExecuteTime": {
     "end_time": "2019-06-12T08:34:50.435697Z",
     "start_time": "2019-06-12T08:34:50.431014Z"
    }
   },
   "outputs": [
    {
     "data": {
      "text/plain": [
       "array([52, 37, 51, 52])"
      ]
     },
     "execution_count": 7,
     "metadata": {},
     "output_type": "execute_result"
    }
   ],
   "source": [
    "cold_enc(hot_enc(string_to_num(\"TEST\")))"
   ]
  },
  {
   "cell_type": "code",
   "execution_count": 8,
   "metadata": {
    "ExecuteTime": {
     "end_time": "2019-06-12T08:34:50.792594Z",
     "start_time": "2019-06-12T08:34:50.788710Z"
    }
   },
   "outputs": [
    {
     "data": {
      "text/plain": [
       "'TEST'"
      ]
     },
     "execution_count": 8,
     "metadata": {},
     "output_type": "execute_result"
    }
   ],
   "source": [
    "nums_to_string(cold_enc(hot_enc(string_to_num(\"TEST\"))))"
   ]
  },
  {
   "cell_type": "code",
   "execution_count": 9,
   "metadata": {
    "ExecuteTime": {
     "end_time": "2019-06-12T08:34:52.054139Z",
     "start_time": "2019-06-12T08:34:52.049961Z"
    }
   },
   "outputs": [],
   "source": [
    "temperature = 1\n",
    "def make_prediction_sentence(test_in, counts):\n",
    "    t2 = test_in.copy()\n",
    "    for i in range(counts):\n",
    "        inp = t2[:,-tsteps:,:]\n",
    "        out = net.predict_on_batch(inp).reshape(1,1,vocab_size)\n",
    "        t2 = np.concatenate((t2,out),axis=1)\n",
    "        t2 = multinomial_choice(t2[0],temperature).reshape(1,-1,vocab_size)\n",
    "        #print(nums_to_string(cold_enc(multinomial_choice(t2[0],temperature))))\n",
    "    return nums_to_string(cold_enc(multinomial_choice(t2[0],temperature)))"
   ]
  },
  {
   "cell_type": "code",
   "execution_count": 10,
   "metadata": {
    "ExecuteTime": {
     "end_time": "2019-06-12T08:34:53.178976Z",
     "start_time": "2019-06-12T08:34:53.174959Z"
    }
   },
   "outputs": [],
   "source": [
    "def get_batch(N_batches):\n",
    "    pos = np.random.randint(low = 0, high=data_size-2*tsteps-1, size=N_batches)\n",
    "    mybatch_in = np.zeros([N_batches,tsteps,vocab_size],dtype=int)\n",
    "    mybatch_out = np.zeros([N_batches,vocab_size],dtype=int)\n",
    "    for i in range(N_batches):\n",
    "        mybatch_in[i,:,:] = hot_enc(string_to_num(data[pos[i]:pos[i]+tsteps]))\n",
    "        mybatch_out[i,:] = hot_enc(string_to_num(data[pos[i]+tsteps]))\n",
    "    return mybatch_in, mybatch_out"
   ]
  },
  {
   "cell_type": "code",
   "execution_count": 11,
   "metadata": {
    "ExecuteTime": {
     "end_time": "2019-06-12T08:37:50.179329Z",
     "start_time": "2019-06-12T08:37:50.173533Z"
    }
   },
   "outputs": [],
   "source": [
    "tsteps= 150\n",
    "lstm_netdepth = 512\n",
    "def create_net():\n",
    "    net = K.Sequential()\n",
    "    \n",
    "    net.add(K.layers.CuDNNLSTM(lstm_netdepth, input_shape=(tsteps,vocab_size), return_sequences=True))\n",
    "    net.add(K.layers.Dropout(rate=0.5))\n",
    "    net.add(K.layers.CuDNNLSTM(lstm_netdepth,return_sequences=True))\n",
    "    net.add(K.layers.Dropout(rate=0.5))\n",
    "    net.add(K.layers.CuDNNLSTM(lstm_netdepth))\n",
    "    net.add(K.layers.Dropout(rate=0.5))\n",
    "    net.add(K.layers.Dense(vocab_size, activation=\"softmax\"))\n",
    "    \n",
    "    #net = K.utils.multi_gpu_model(net,4)\n",
    "    net_optimizer = K.optimizers.Adam()\n",
    "    net.compile(loss=\"categorical_crossentropy\", optimizer=net_optimizer,metrics=[\"categorical_accuracy\"])\n",
    "    net.summary()\n",
    "    return net"
   ]
  },
  {
   "cell_type": "code",
   "execution_count": 12,
   "metadata": {
    "ExecuteTime": {
     "end_time": "2019-06-12T08:37:51.185557Z",
     "start_time": "2019-06-12T08:37:50.712064Z"
    }
   },
   "outputs": [
    {
     "name": "stdout",
     "output_type": "stream",
     "text": [
      "WARNING:tensorflow:From /usr/local/lib/python3.5/dist-packages/tensorflow/python/ops/resource_variable_ops.py:435: colocate_with (from tensorflow.python.framework.ops) is deprecated and will be removed in a future version.\n",
      "Instructions for updating:\n",
      "Colocations handled automatically by placer.\n",
      "WARNING:tensorflow:From /usr/local/lib/python3.5/dist-packages/tensorflow/python/keras/layers/core.py:143: calling dropout (from tensorflow.python.ops.nn_ops) with keep_prob is deprecated and will be removed in a future version.\n",
      "Instructions for updating:\n",
      "Please use `rate` instead of `keep_prob`. Rate should be set to `rate = 1 - keep_prob`.\n",
      "_________________________________________________________________\n",
      "Layer (type)                 Output Shape              Param #   \n",
      "=================================================================\n",
      "cu_dnnlstm (CuDNNLSTM)       (None, 150, 512)          1257472   \n",
      "_________________________________________________________________\n",
      "dropout (Dropout)            (None, 150, 512)          0         \n",
      "_________________________________________________________________\n",
      "cu_dnnlstm_1 (CuDNNLSTM)     (None, 150, 512)          2101248   \n",
      "_________________________________________________________________\n",
      "dropout_1 (Dropout)          (None, 150, 512)          0         \n",
      "_________________________________________________________________\n",
      "cu_dnnlstm_2 (CuDNNLSTM)     (None, 512)               2101248   \n",
      "_________________________________________________________________\n",
      "dropout_2 (Dropout)          (None, 512)               0         \n",
      "_________________________________________________________________\n",
      "dense (Dense)                (None, 100)               51300     \n",
      "=================================================================\n",
      "Total params: 5,511,268\n",
      "Trainable params: 5,511,268\n",
      "Non-trainable params: 0\n",
      "_________________________________________________________________\n"
     ]
    }
   ],
   "source": [
    "net = create_net()"
   ]
  },
  {
   "cell_type": "code",
   "execution_count": 16,
   "metadata": {
    "ExecuteTime": {
     "end_time": "2019-06-12T08:38:50.994706Z",
     "start_time": "2019-06-12T08:38:50.992449Z"
    }
   },
   "outputs": [],
   "source": [
    "N_batches = 512\n",
    "N_epochs = int(data_size/tsteps)"
   ]
  },
  {
   "cell_type": "code",
   "execution_count": 17,
   "metadata": {
    "ExecuteTime": {
     "end_time": "2019-06-12T08:38:51.387016Z",
     "start_time": "2019-06-12T08:38:51.385171Z"
    }
   },
   "outputs": [],
   "source": [
    "costs = []"
   ]
  },
  {
   "cell_type": "code",
   "execution_count": 18,
   "metadata": {
    "ExecuteTime": {
     "end_time": "2019-06-12T08:38:51.849942Z",
     "start_time": "2019-06-12T08:38:51.847477Z"
    }
   },
   "outputs": [],
   "source": [
    "test_in, test_out = get_batch(1)"
   ]
  },
  {
   "cell_type": "code",
   "execution_count": 19,
   "metadata": {
    "ExecuteTime": {
     "end_time": "2019-06-12T08:38:52.140233Z",
     "start_time": "2019-06-12T08:38:52.136664Z"
    },
    "scrolled": false
   },
   "outputs": [],
   "source": [
    "def train():\n",
    "    print(nums_to_string(cold_enc(test_in[0]))+\"''\"+ nums_to_string(cold_enc(test_out))+ \"''\")\n",
    "    \n",
    "    for k in range(N_epochs):\n",
    "        vals_in, vals_out = get_batch(N_batches)\n",
    "        costs.append(net.train_on_batch(vals_in,vals_out))\n",
    "        #print(k)\n",
    "        if k%100 ==0:\n",
    "            print(\"\\n\\nEpoch %d\\n\" % k)\n",
    "            print(make_prediction_sentence(test_in,100))"
   ]
  },
  {
   "cell_type": "code",
   "execution_count": 20,
   "metadata": {
    "ExecuteTime": {
     "end_time": "2019-06-12T09:21:03.557070Z",
     "start_time": "2019-06-12T08:38:55.162636Z"
    },
    "scrolled": true
   },
   "outputs": [
    {
     "name": "stdout",
     "output_type": "stream",
     "text": [
      "ows the\n",
      "same deviations. We checked that another lattice version of KPZ (as\n",
      "in ) does indeed agree with\n",
      "the result from the linear equation. The reaso''n''\n",
      "WARNING:tensorflow:From /usr/local/lib/python3.5/dist-packages/tensorflow/python/ops/math_ops.py:3066: to_int32 (from tensorflow.python.ops.math_ops) is deprecated and will be removed in a future version.\n",
      "Instructions for updating:\n",
      "Use tf.cast instead.\n",
      "\n",
      "\n",
      "Epoch 0\n",
      "\n",
      "ows the\n",
      "same deviations. We checked that another lattice version of KPZ (as\n",
      "in ) does indeed agree with\n",
      "the result from the linear equation. The reaso^“//)PbtBmn)@&Gr8ju�fB”yNbNyZay^bTu\tTe\"vk�n.Lo?*BRb;VM4Wm9\t[\"9E20MWi#ö(va]m?>:^JJß'D ‘;�‘8 VK—&\"X]ß9\n",
      "\n",
      "\n",
      "Epoch 100\n",
      "\n",
      "ows the\n",
      "same deviations. We checked that another lattice version of KPZ (as\n",
      "in ) does indeed agree with\n",
      "the result from the linear equation. The reaso  e,reh co)  aneourlhln ns rlgi ueFr_hveoicaomes wpi\n",
      ";ioiac aeR d )groeiF oosmp   ahjnieuteav Q,cfto\n",
      "\n",
      "\n",
      "Epoch 200\n",
      "\n",
      "ows the\n",
      "same deviations. We checked that another lattice version of KPZ (as\n",
      "in ) does indeed agree with\n",
      "the result from the linear equation. The reasosemetfit `veilytot ha ri isnomwsrecL o  ubaeah' i-aab  et suir s  \n",
      "uwc uidoo eele ni hnescscdiels g \n",
      "\n",
      "\n",
      "Epoch 300\n",
      "\n",
      "ows the\n",
      "same deviations. We checked that another lattice version of KPZ (as\n",
      "in ) does indeed agree with\n",
      "the result from the linear equation. The reasonh  . degc til atnyrr ilt bscsi atii nreedfv rielcsgasapiftluni eyida8dnedirtorieeocco Tsrlq iehlion\n",
      "\n",
      "\n",
      "Epoch 400\n",
      "\n",
      "ows the\n",
      "same deviations. We checked that another lattice version of KPZ (as\n",
      "in ) does indeed agree with\n",
      "the result from the linear equation. The reasohcg  xthd io r hep aef nn_i twea oh )brpcarregcsc rettespu nt -oofuri vnd   veddpuoofaonta\n",
      "ke \n",
      "thesa\n",
      "\n",
      "\n",
      "Epoch 500\n",
      "\n",
      "ows the\n",
      "same deviations. We checked that another lattice version of KPZ (as\n",
      "in ) does indeed agree with\n",
      "the result from the linear equation. The reasol .r \n",
      "tieed bhe te palede anee)ff polaf\n",
      "mrwa  y ) ndo an fo \n",
      "P,eletys ntaginl fasnd ineasan onryebh \n",
      "\n",
      "\n",
      "Epoch 600\n",
      "\n",
      "ows the\n",
      "same deviations. We checked that another lattice version of KPZ (as\n",
      "in ) does indeed agree with\n",
      "the result from the linear equation. The reasoll-( e\n",
      ".n Fem lorerongsry intule her.ma  enile\n",
      "chebide nelhonenind modee coteEilnilureiticy nopoln, \n",
      "\n",
      "\n",
      "Epoch 700\n",
      "\n",
      "ows the\n",
      "same deviations. We checked that another lattice version of KPZ (as\n",
      "in ) does indeed agree with\n",
      "the result from the linear equation. The reasot tu  :n[r won cultooniller, sisiliti outetoriminang Gon padisbid FifirtiOn _o _n^+\n",
      "Qbu_s j .T). +, \n",
      "\n",
      "\n",
      "Epoch 800\n",
      "\n",
      "ows the\n",
      "same deviations. We checked that another lattice version of KPZ (as\n",
      "in ) does indeed agree with\n",
      "the result from the linear equation. The reasoteceac port),   I  cariood firt the groresdil-thatorangoanilizule tor hationt this, met : In fioarit\n",
      "\n",
      "\n",
      "Epoch 900\n",
      "\n",
      "ows the\n",
      "same deviations. We checked that another lattice version of KPZ (as\n",
      "in ) does indeed agree with\n",
      "the result from the linear equation. The reasoal erfore. arpadalicg, acf sunct in oiphmenoting saed sepecclimod we sente  \n",
      "\n",
      "\n",
      "     Humipel, the she\n",
      "\n",
      "\n",
      "Epoch 1000\n",
      "\n",
      "ows the\n",
      "same deviations. We checked that another lattice version of KPZ (as\n",
      "in ) does indeed agree with\n",
      "the result from the linear equation. The reasor eagfas the mothamitat end-tepten b Fatgemering ge koillad deis plable fut exdel me nand the the cr\n",
      "\n",
      "\n",
      "Epoch 1100\n",
      "\n",
      "ows the\n",
      "same deviations. We checked that another lattice version of KPZ (as\n",
      "in ) does indeed agree with\n",
      "the result from the linear equation. The reasoe thonmere ans over phant, a-vareund sperantuturori, in bhot,  senvery is , the s-meamuce: \n",
      "We metir\n",
      "\n",
      "\n",
      "Epoch 1200\n",
      "\n",
      "ows the\n",
      "same deviations. We checked that another lattice version of KPZ (as\n",
      "in ) does indeed agree with\n",
      "the result from the linear equation. The reasont for, bikgrem pands\n",
      "ther we tomed the opunmuphetirg nietiar we elufed nromemaising fold^anttochicl\n",
      "\n",
      "\n",
      "Epoch 1300\n",
      "\n",
      "ows the\n",
      "same deviations. We checked that another lattice version of KPZ (as\n",
      "in ) does indeed agree with\n",
      "the result from the linear equation. The reasorts the durigd is obtumaze, cromure, mode aps site mamrenion, ox beed with the magh fiads, lolming i\n",
      "\n",
      "\n",
      "Epoch 1400\n",
      "\n",
      "ows the\n",
      "same deviations. We checked that another lattice version of KPZ (as\n",
      "in ) does indeed agree with\n",
      "the result from the linear equation. The reasor phase-the model carsencan poutamed tite for to this -Mexutavielt decannentt for sylrastar in in a \n",
      "\n",
      "\n",
      "Epoch 1500\n",
      "\n",
      "ows the\n",
      "same deviations. We checked that another lattice version of KPZ (as\n",
      "in ) does indeed agree with\n",
      "the result from the linear equation. The reasoicil and chantul proftion Sucanletomesidal\n",
      "we for the dicherever couptrod rof the eqlection the cord\n",
      "\n",
      "\n",
      "Epoch 1600\n",
      "\n",
      "ows the\n",
      "same deviations. We checked that another lattice version of KPZ (as\n",
      "in ) does indeed agree with\n",
      "the result from the linear equation. The reaso ass vasprees photen  qromisent . Fenchal be wrare pill te transeptans the band has band. \n",
      "  \n",
      "o   li\n",
      "\n",
      "\n",
      "Epoch 1700\n",
      "\n",
      "ows the\n",
      "same deviations. We checked that another lattice version of KPZ (as\n",
      "in ) does indeed agree with\n",
      "the result from the linear equation. The reasons nasume scase, the mical cuad the\n",
      ", the treensing chiyred optomechunical qeancrem wave nadess\n",
      "cavi\n",
      "\n",
      "\n",
      "Epoch 1800\n",
      "\n",
      "ows the\n",
      "same deviations. We checked that another lattice version of KPZ (as\n",
      "in ) does indeed agree with\n",
      "the result from the linear equation. The reasorical to machorical besaso conFit cansate resifnent Cewtraly\n",
      " 1\") to equultic the cerig fictes ny dc\n",
      "\n",
      "\n",
      "Epoch 1900\n",
      "\n",
      "ows the\n",
      "same deviations. We checked that another lattice version of KPZ (as\n",
      "in ) does indeed agree with\n",
      "the result from the linear equation. The reasoloning the vires of thit inse the prigse  couplityew in porcless and the ragere the dibples be excen\n",
      "\n",
      "\n",
      "Epoch 2000\n",
      "\n",
      "ows the\n",
      "same deviations. We checked that another lattice version of KPZ (as\n",
      "in ) does indeed agree with\n",
      "the result from the linear equation. The reaso in this acprodssnation cranned masire than for langerometurl corressing with not as the decimt it  \n",
      "\n",
      "\n",
      "Epoch 2100\n",
      "\n",
      "ows the\n",
      "same deviations. We checked that another lattice version of KPZ (as\n",
      "in ) does indeed agree with\n",
      "the result from the linear equation. The reasor, anin the Bmore:, (s. \n",
      "worm is sa betang werudal,,\n",
      ".)Afrains'd,. \n",
      " in 9samo_ng optomechanocal doce\n",
      "\n",
      "\n",
      "Epoch 2200\n",
      "\n",
      "ows the\n",
      "same deviations. We checked that another lattice version of KPZ (as\n",
      "in ) does indeed agree with\n",
      "the result from the linear equation. The reasor urliving reoud sfinled gion in a Honen a\n",
      "seated the each photon that the noulls\n",
      "bethere aw loud de\n",
      "\n",
      "\n",
      "Epoch 2300\n",
      "\n",
      "ows the\n",
      "same deviations. We checked that another lattice version of KPZ (as\n",
      "in ) does indeed agree with\n",
      "the result from the linear equation. The reasor exelce protically fex poonical tomud ,.  The to phonons-propeces fram betwe ictlios scalplib, arle\n",
      "\n",
      "\n",
      "Epoch 2400\n",
      "\n",
      "ows the\n",
      "same deviations. We checked that another lattice version of KPZ (as\n",
      "in ) does indeed agree with\n",
      "the result from the linear equation. The reasor-intracton ow the insicilal measurement and diser and and a pres, gotej mater, (Fot ather we dewing\n",
      "\n",
      "\n",
      "Epoch 2500\n",
      "\n",
      "ows the\n",
      "same deviations. We checked that another lattice version of KPZ (as\n",
      "in ) does indeed agree with\n",
      "the result from the linear equation. The reasover extores te daram\n",
      "coupling geresed porpant sere havilate  an the state in the onteral dessertates\n",
      "\n",
      "\n",
      "Epoch 2600\n",
      "\n",
      "ows the\n",
      "same deviations. We checked that another lattice version of KPZ (as\n",
      "in ) does indeed agree with\n",
      "the result from the linear equation. The reaso of Fig. t dytomes. The other is give  in cate (becken ever interis, in . Fhile. Is Conloly now-pirr\n",
      "\n",
      "\n",
      "Epoch 2700\n",
      "\n",
      "ows the\n",
      "same deviations. We checked that another lattice version of KPZ (as\n",
      "in ) does indeed agree with\n",
      "the result from the linear equation. The reasor that the discrices betwoll expoferation,  the state herce iseding in, is a.\n",
      "Eviliky rloraky denspl\n",
      "\n",
      "\n",
      "Epoch 2800\n",
      "\n",
      "ows the\n",
      "same deviations. We checked that another lattice version of KPZ (as\n",
      "in ) does indeed agree with\n",
      "the result from the linear equation. The reasons, for Devimity uppord, wy states in the range Ket+grapkly-Onfmoout dtrate as states of calized app\n",
      "\n",
      "\n",
      "Epoch 2900\n",
      "\n",
      "ows the\n",
      "same deviations. We checked that another lattice version of KPZ (as\n",
      "in ) does indeed agree with\n",
      "the result from the linear equation. The reasor-combare field beot one the coupling to physical correcators  difference pictoor position rase smow\n"
     ]
    },
    {
     "name": "stdout",
     "output_type": "stream",
     "text": [
      "\n",
      "\n",
      "Epoch 3000\n",
      "\n",
      "ows the\n",
      "same deviations. We checked that another lattice version of KPZ (as\n",
      "in ) does indeed agree with\n",
      "the result from the linear equation. The reasonly. For modely. In  and groubtis:e) a tines are , can neating is the smective fuv to a flom this mu\n",
      "\n",
      "\n",
      "Epoch 3100\n",
      "\n",
      "ows the\n",
      "same deviations. We checked that another lattice version of KPZ (as\n",
      "in ) does indeed agree with\n",
      "the result from the linear equation. The reasonal states is transpitsion or which roration of  in delined by in a equations  Of gere the system ni\n",
      "\n",
      "\n",
      "Epoch 3200\n",
      "\n",
      "ows the\n",
      "same deviations. We checked that another lattice version of KPZ (as\n",
      "in ) does indeed agree with\n",
      "the result from the linear equation. The reasonal fieldaction on interactive 1(poind, acpeid ibkoun the\n",
      "state. The queited momentum final set beha\n",
      "\n",
      "\n",
      "Epoch 3300\n",
      "\n",
      "ows the\n",
      "same deviations. We checked that another lattice version of KPZ (as\n",
      "in ) does indeed agree with\n",
      "the result from the linear equation. The reasonon-exvariision effects  the the number insta to all two texts of only reglel and the conrrising rat\n",
      "\n",
      "\n",
      "Epoch 3400\n",
      "\n",
      "ows the\n",
      "same deviations. We checked that another lattice version of KPZ (as\n",
      "in ) does indeed agree with\n",
      "the result from the linear equation. The reasons (laser ground\n",
      "of the coupling is band-optical more conselved state state different vortes with th\n",
      "\n",
      "\n",
      "Epoch 3500\n",
      "\n",
      "ows the\n",
      "same deviations. We checked that another lattice version of KPZ (as\n",
      "in ) does indeed agree with\n",
      "the result from the linear equation. The reason denacher scalt, interactimations that lected to neoting are soluce) are trainering us\n",
      "in their dri\n",
      "\n",
      "\n",
      "Epoch 3600\n",
      "\n",
      "ows the\n",
      "same deviations. We checked that another lattice version of KPZ (as\n",
      "in ) does indeed agree with\n",
      "the result from the linear equation. The reasoned by and  and equations and benearication can iss used the presumated hean decays to electrical pr\n",
      "\n",
      "\n",
      "Epoch 3700\n",
      "\n",
      "ows the\n",
      "same deviations. We checked that another lattice version of KPZ (as\n",
      "in ) does indeed agree with\n",
      "the result from the linear equation. The reasons frequency ramif is differents in intricticalry point stable the foncienzing sespectively waveguid\n",
      "\n",
      "\n",
      "Epoch 3800\n",
      "\n",
      "ows the\n",
      "same deviations. We checked that another lattice version of KPZ (as\n",
      "in ) does indeed agree with\n",
      "the result from the linear equation. The reasons, which measurement hechange numbers exeigh neight simple and mechanical effect of there the onfor\n",
      "\n",
      "\n",
      "Epoch 3900\n",
      "\n",
      "ows the\n",
      "same deviations. We checked that another lattice version of KPZ (as\n",
      "in ) does indeed agree with\n",
      "the result from the linear equation. The reasoned to an teLms of mogely coipled modes and a hoSn even difference of proce a varue state.     The e\n",
      "\n",
      "\n",
      "Epoch 4000\n",
      "\n",
      "ows the\n",
      "same deviations. We checked that another lattice version of KPZ (as\n",
      "in ) does indeed agree with\n",
      "the result from the linear equation. The reasonance) will the caunes, from a mechanical vector for than than whore  , geing model  and the Cimmati\n",
      "\n",
      "\n",
      "Epoch 4100\n",
      "\n",
      "ows the\n",
      "same deviations. We checked that another lattice version of KPZ (as\n",
      "in ) does indeed agree with\n",
      "the result from the linear equation. The reason of the effective resonance. We ofe the we not leall, aid to the stHaed Lamplion  detaiins this cav\n",
      "\n",
      "\n",
      "Epoch 4200\n",
      "\n",
      "ows the\n",
      "same deviations. We checked that another lattice version of KPZ (as\n",
      "in ) does indeed agree with\n",
      "the result from the linear equation. The reason to a mechanical damping process of the in\n",
      "resonance field the input properties. The achies are vid\n",
      "\n",
      "\n",
      "Epoch 4300\n",
      "\n",
      "ows the\n",
      "same deviations. We checked that another lattice version of KPZ (as\n",
      "in ) does indeed agree with\n",
      "the result from the linear equation. The reasons over requirement of the protecty in the over-mechanical qubit technures at a parametric\n",
      "fuuld -to\n",
      "\n",
      "\n",
      "Epoch 4400\n",
      "\n",
      "ows the\n",
      "same deviations. We checked that another lattice version of KPZ (as\n",
      "in ) does indeed agree with\n",
      "the result from the linear equation. The reasor preceses by determining the plotections some absorve of we have at emport\n",
      "previous geser largeible\n",
      "\n",
      "\n",
      "Epoch 4500\n",
      "\n",
      "ows the\n",
      "same deviations. We checked that another lattice version of KPZ (as\n",
      "in ) does indeed agree with\n",
      "the result from the linear equation. The reason of effectively, approachion that a coupling\n",
      "of can be meanarized to a fluctuation and cooling\n",
      "to t\n",
      "\n",
      "\n",
      "Epoch 4600\n",
      "\n",
      "ows the\n",
      "same deviations. We checked that another lattice version of KPZ (as\n",
      "in ) does indeed agree with\n",
      "the result from the linear equation. The reason is Exfline, . Signerard for co timion) (alternation and. \n",
      "Such that the disk (complexed to mode mi\n",
      "\n",
      "\n",
      "Epoch 4700\n",
      "\n",
      "ows the\n",
      "same deviations. We checked that another lattice version of KPZ (as\n",
      "in ) does indeed agree with\n",
      "the result from the linear equation. The reason with the radiation fields each that sensith drifes many addition of the maan micrascufe this inder\n",
      "\n",
      "\n",
      "Epoch 4800\n",
      "\n",
      "ows the\n",
      "same deviations. We checked that another lattice version of KPZ (as\n",
      "in ) does indeed agree with\n",
      "the result from the linear equation. The reasony network occup for sknach times nonrecitrocs values particle interplexity particle field on proper\n",
      "\n",
      "\n",
      "Epoch 4900\n",
      "\n",
      "ows the\n",
      "same deviations. We checked that another lattice version of KPZ (as\n",
      "in ) does indeed agree with\n",
      "the result from the linear equation. The reasonable evolves are systems mode sigcated state consider by for ussestimiting. Here-those generate pro\n",
      "\n",
      "\n",
      "Epoch 5000\n",
      "\n",
      "ows the\n",
      "same deviations. We checked that another lattice version of KPZ (as\n",
      "in ) does indeed agree with\n",
      "the result from the linear equation. The reasonator as its case to a pump, Scence in the nodel. In mariative introduction in a average limits (nyt\n",
      "\n",
      "\n",
      "Epoch 5100\n",
      "\n",
      "ows the\n",
      "same deviations. We checked that another lattice version of KPZ (as\n",
      "in ) does indeed agree with\n",
      "the result from the linear equation. The reasons. In a propagate of light with the brucksong change of an ani1D  modes () , this set of a fig:coar\n",
      "\n",
      "\n",
      "Epoch 5200\n",
      "\n",
      "ows the\n",
      "same deviations. We checked that another lattice version of KPZ (as\n",
      "in ) does indeed agree with\n",
      "the result from the linear equation. The reasoner dynamics (space, set at the spreary structures  \n",
      "Ivive the measurement. The small frequency, sev\n",
      "\n",
      "\n",
      "Epoch 5300\n",
      "\n",
      "ows the\n",
      "same deviations. We checked that another lattice version of KPZ (as\n",
      "in ) does indeed agree with\n",
      "the result from the linear equation. The reasonations. Lost of the periaribors\n",
      "has phonon properte measurement Hele are of considered obtained coo\n",
      "\n",
      "\n",
      "Epoch 5400\n",
      "\n",
      "ows the\n",
      "same deviations. We checked that another lattice version of KPZ (as\n",
      "in ) does indeed agree with\n",
      "the result from the linear equation. The reasonance of the state respective photon obtain of two show used above.  \n",
      "This case is Qigherals ) Qprin\n",
      "\n",
      "\n",
      "Epoch 5500\n",
      "\n",
      "ows the\n",
      "same deviations. We checked that another lattice version of KPZ (as\n",
      "in ) does indeed agree with\n",
      "the result from the linear equation. The reasoned such that can be foan single low systems of the\n",
      "meisurements and inputan clest interest  bint. I\n",
      "\n",
      "\n",
      "Epoch 5600\n",
      "\n",
      "ows the\n",
      "same deviations. We checked that another lattice version of KPZ (as\n",
      "in ) does indeed agree with\n",
      "the result from the linear equation. The reasons: see the mechanical field with the input of a decay riedled leadance relation between the photon \n",
      "\n",
      "\n",
      "Epoch 5700\n",
      "\n",
      "ows the\n",
      "same deviations. We checked that another lattice version of KPZ (as\n",
      "in ) does indeed agree with\n",
      "the result from the linear equation. The reason in optical Heimpline matricum), as the vibuations of magneticlew and order light and dywain, even \n",
      "\n",
      "\n",
      "Epoch 5800\n",
      "\n",
      "ows the\n",
      "same deviations. We checked that another lattice version of KPZ (as\n",
      "in ) does indeed agree with\n",
      "the result from the linear equation. The reasors and sirplating the 'night for twaik is solved quadratures bebaoss operations\n",
      "by an optical qualti\n",
      "\n",
      "\n",
      "Epoch 5900\n",
      "\n",
      "ows the\n",
      "same deviations. We checked that another lattice version of KPZ (as\n",
      "in ) does indeed agree with\n",
      "the result from the linear equation. The reason,  models. In the weak nontroduce are see from these optical dimensional integrable, this of Figker\n",
      "\n",
      "\n",
      "Epoch 6000\n",
      "\n",
      "ows the\n",
      "same deviations. We checked that another lattice version of KPZ (as\n",
      "in ) does indeed agree with\n",
      "the result from the linear equation. The reasonation of sideband, represents these pointerations, alse that and the luferisting the detriped uniti\n"
     ]
    },
    {
     "name": "stdout",
     "output_type": "stream",
     "text": [
      "\n",
      "\n",
      "Epoch 6100\n",
      "\n",
      "ows the\n",
      "same deviations. We checked that another lattice version of KPZ (as\n",
      "in ) does indeed agree with\n",
      "the result from the linear equation. The reason in a ghoup naming of (lungch trajectory of magnetic mode possible degree of optomechanical phase o\n",
      "\n",
      "\n",
      "Epoch 6200\n",
      "\n",
      "ows the\n",
      "same deviations. We checked that another lattice version of KPZ (as\n",
      "in ) does indeed agree with\n",
      "the result from the linear equation. The reasonic factor henter dependent of ``notral photon field, which exomply, the lower of a cavity (decay im\n",
      "\n",
      "\n",
      "Epoch 6300\n",
      "\n",
      "ows the\n",
      "same deviations. We checked that another lattice version of KPZ (as\n",
      "in ) does indeed agree with\n",
      "the result from the linear equation. The reasonic highor mechanical and lattice, we Mermary promoded output tune phuses are measured results . Tha\n",
      "\n",
      "\n",
      "Epoch 6400\n",
      "\n",
      "ows the\n",
      "same deviations. We checked that another lattice version of KPZ (as\n",
      "in ) does indeed agree with\n",
      "the result from the linear equation. The reason where the contantions of the equations with expluits the presence for  \n",
      "where dynamics will modula\n",
      "\n",
      "\n",
      "Epoch 6500\n",
      "\n",
      "ows the\n",
      "same deviations. We checked that another lattice version of KPZ (as\n",
      "in ) does indeed agree with\n",
      "the result from the linear equation. The reason could be the lurgh factor of the study state as the model. In a learning point we point, spaces in\n",
      "\n",
      "\n",
      "Epoch 6600\n",
      "\n",
      "ows the\n",
      "same deviations. We checked that another lattice version of KPZ (as\n",
      "in ) does indeed agree with\n",
      "the result from the linear equation. The reaso-optical jradiation can be respected in which central attempt, the end mogihated are showns for very\n",
      "\n",
      "\n",
      "Epoch 6700\n",
      "\n",
      "ows the\n",
      "same deviations. We checked that another lattice version of KPZ (as\n",
      "in ) does indeed agree with\n",
      "the result from the linear equation. The reasoning we exclud nanotwork possible examples the mechanical mode stoc. Numerical Eqs. ), Genment, whic\n",
      "\n",
      "\n",
      "Epoch 6800\n",
      "\n",
      "ows the\n",
      "same deviations. We checked that another lattice version of KPZ (as\n",
      "in ) does indeed agree with\n",
      "the result from the linear equation. The reason are to\n",
      "the visualizations of a sites is the hrow unsidebated state which is eupluy an optical rate\n",
      "\n",
      "\n",
      "Epoch 6900\n",
      "\n",
      "ows the\n",
      "same deviations. We checked that another lattice version of KPZ (as\n",
      "in ) does indeed agree with\n",
      "the result from the linear equation. The reasons and photon computer parameters. \n",
      "\n",
      "\t \n",
      "    Optical\n",
      "real-svitces of the squeezing of long time: is b\n",
      "\n",
      "\n",
      "Epoch 7000\n",
      "\n",
      "ows the\n",
      "same deviations. We checked that another lattice version of KPZ (as\n",
      "in ) does indeed agree with\n",
      "the result from the linear equation. The reason of all iverscorremplities, the parametric\n",
      "mechanical oscillator of which is a toel great in Eq. as\n",
      "\n",
      "\n",
      "Epoch 7100\n",
      "\n",
      "ows the\n",
      "same deviations. We checked that another lattice version of KPZ (as\n",
      "in ) does indeed agree with\n",
      "the result from the linear equation. The reasonaries to julg lange beam, where the quantum optomechanics produces the lise in the indesing transpi\n",
      "\n",
      "\n",
      "Epoch 7200\n",
      "\n",
      "ows the\n",
      "same deviations. We checked that another lattice version of KPZ (as\n",
      "in ) does indeed agree with\n",
      "the result from the linear equation. The reason parametric clystals. Anery add in sute case, we will second this such that the membrane in Fow can\n",
      "\n",
      "\n",
      "Epoch 7300\n",
      "\n",
      "ows the\n",
      "same deviations. We checked that another lattice version of KPZ (as\n",
      "in ) does indeed agree with\n",
      "the result from the linear equation. The reason of direction planes determined in the odder of the variable dieliction. In 200 low, we will conver\n",
      "\n",
      "\n",
      "Epoch 7400\n",
      "\n",
      "ows the\n",
      "same deviations. We checked that another lattice version of KPZ (as\n",
      "in ) does indeed agree with\n",
      "the result from the linear equation. The reason wher-cagresic coupling, fluctuations, , seithator (. \n",
      " \n",
      "The effective enoukh to exploite an approa\n",
      "\n",
      "\n",
      "Epoch 7500\n",
      "\n",
      "ows the\n",
      "same deviations. We checked that another lattice version of KPZ (as\n",
      "in ) does indeed agree with\n",
      "the result from the linear equation. The reason   not been actrected as macreadly reported in the detuning swould also a sign of the eaconcextly c\n",
      "\n",
      "\n",
      "Epoch 7600\n",
      "\n",
      "ows the\n",
      "same deviations. We checked that another lattice version of KPZ (as\n",
      "in ) does indeed agree with\n",
      "the result from the linear equation. The reason-of a particular decoherence. Our rise and noise improves in the simulations in .\n",
      "Hive Shift along \n"
     ]
    }
   ],
   "source": [
    "train()"
   ]
  },
  {
   "cell_type": "code",
   "execution_count": 21,
   "metadata": {
    "ExecuteTime": {
     "end_time": "2019-06-12T10:14:11.599719Z",
     "start_time": "2019-06-12T10:14:11.205845Z"
    }
   },
   "outputs": [
    {
     "data": {
      "text/plain": [
       "[<matplotlib.lines.Line2D at 0x7f7048504b38>]"
      ]
     },
     "execution_count": 21,
     "metadata": {},
     "output_type": "execute_result"
    },
    {
     "data": {
      "image/png": "[encoded data removed]",
      "text/plain": [
       "<Figure size 432x288 with 1 Axes>"
      ]
     },
     "metadata": {
      "needs_background": "light"
     },
     "output_type": "display_data"
    }
   ],
   "source": [
    "plt.plot(np.array(costs)[:,0])"
   ]
  },
  {
   "cell_type": "code",
   "execution_count": 22,
   "metadata": {
    "ExecuteTime": {
     "end_time": "2019-06-12T10:14:15.499203Z",
     "start_time": "2019-06-12T10:14:15.228147Z"
    }
   },
   "outputs": [
    {
     "data": {
      "text/plain": [
       "[<matplotlib.lines.Line2D at 0x7f70484801d0>]"
      ]
     },
     "execution_count": 22,
     "metadata": {},
     "output_type": "execute_result"
    },
    {
     "data": {
      "image/png": "[encoded data removed]",
      "text/plain": [
       "<Figure size 432x288 with 1 Axes>"
      ]
     },
     "metadata": {
      "needs_background": "light"
     },
     "output_type": "display_data"
    }
   ],
   "source": [
    "plt.plot(np.array(costs)[:,1])"
   ]
  },
  {
   "cell_type": "code",
   "execution_count": 23,
   "metadata": {
    "ExecuteTime": {
     "end_time": "2019-06-12T10:15:52.246350Z",
     "start_time": "2019-06-12T10:14:19.180999Z"
    }
   },
   "outputs": [
    {
     "name": "stdout",
     "output_type": "stream",
     "text": [
      "ows the\n",
      "same deviations. We checked that another lattice version of KPZ (as\n",
      "in ) does indeed agree with\n",
      "the result from the linear equation. The reason from the amplitude from vacuums is form radius distributions, in dissested qubit. The ruch  and effect a studies on the observation is approximate that results and simply will mechanedy each roan on the optical interaction can be nonzed eq:defces,  and , the poting phase of the section also see first ) using the other optical amplifications are part to the modes becomes how interacting an exceptions use a plosic field. The artifle fhorm (Frongeeding vari NOM. In size , which noise couplings, context, we have been transmissing the stable-completes the light intex/states . From Fig. \n",
      "). We note that a integpation ipper for the probe quadrature can also be related by comparing to an outline gause (Consisply Giegronal\n",
      ":  \n",
      "\n",
      "                \n",
      "      Here  is . On the basis processive over optomechanical oscillation before the time-derived phonon phonon symmetry physics in the Hermam \twhere  crxas: \n",
      "Tre_per-or Chern number for optomechanical system . The subsequent from nauringly optomochan current (agcoments can be adjerd photon-cavity potential  \n",
      "For used in performed cy learn to optomechanical systems in microwave coupled systems of eiell they induced channels, HQe optomechanical dynamics  is lorg translated, this is remaining inverse photon values.     A simple, proposed in Eq. () from the orpersive each signal \n",
      "recate parametric\n",
      "esting all the center can section, and the bGads) states.\n",
      "In order to condite the value for the probability model'. An exerty vibrations of Cimcle-stable comp_nerss and unioire experimental colmession of the radiation of the of trapped and the operators. It terms of a quality Dynamical resonance rute repaits author, in the electronic changes is finding the different corresponding to . University\", we strip required the regime through the phase force in . photonic coupling density effects. Here, we rexevel to retract calculation are loparizent any demonstrating mechanical amplifier at the optical system of the mechanical states choose that along the photon\n",
      "dumons for the cavity system variances. Find the average amplitude an\n",
      "a parametric frequency steps explering ench deponds) un the mechanical\n",
      "mode that from the light draphs at the system radius breaked,\n",
      "they light to apploxically). A vortices, as a rofed\n",
      "cavity will attractor give substaped strong\n",
      "coupling\n",
      "substability frequency. We will to the koRS, considerable bit arguted dynamics where reanimest conserving underdamped nL dephasion  the laser cavity oscillators, phonon (Sec:(L,3') we devive the momentum decay  and (remoon to be distribution of more equation is ectentionally from optical modes for device. In quadratic phonons, which limit, where we averaged is effects allow to when lefted refrects one a membrane is the optomechanical oscillator and average frequency. It afnect har mechanical phase contributions of the accession point was affect a system regime is considered in becomes belavions \n",
      "with the two-modes\n",
      "atternal gravitations that for hardone_conserving cavity\n",
      "optical depending, where hence, this inculated it \n",
      "magnetic higher explores in the following, in the logical complex tyce, the dynamical logical suscepted as one can be neglected intigally a slows (sitting dither less but is can be termint. A such can  reminither being becomed impliess optical modes are cains In the optical implexed by the mechanical theoretical mirror around each state, we disters the light based sprect and back-cording peakor Cavity ensures in the simulations of has furmt\n",
      "the hech and one terms limit (see eq:date and Cherns TM of kegw ewly of the Lulb:\n",
      "We note that the higher result is greited only model usefully find both necessary is described from the intermals rediction to be able to expore, a signal\n",
      "of gives a surface with the contributions without the case of the quantum couplings ,  numerically\n",
      "of the vallees that is a and resonator remuite structures) (nJprecise in the three , and considerable jlous the previous phases of the mechanical coupling between the situation. Decoherent magnetor smalls of maniscopic learning may be dessnactiveless and generation  \n",
      "For a Culing time and the laser can be eare interfracting quadrature vary (where contains the group ``since the detuning  argund when calcerated microspecter is, to these ades. Into fig:gamin)'n Mechanias along from the zero larger, and . Present size , described measurement disorder Hamiltonian is microcave larger (equations.  \n",
      "In inseraton many potential , we can quadrature of the most with the main tey the optical\n",
      "coupling through for direct quantum simulations has functions can be optically for even band to bands that\n",
      "we section a contains onto photon coherent transport, both .  \n",
      "The inplecation, explored variubles  and . Usive with two times possible a resonance of .\n",
      "It affects the generates for the ivite is out included. \n",
      "In the radiation pressure that review) in quantum fluctuations\" with  and  is excepts to optomechanical dimensionally experimental representation which (Sec. ). T\n"
     ]
    }
   ],
   "source": [
    "print(make_prediction_sentence(test_in,5000))"
   ]
  },
  {
   "cell_type": "code",
   "execution_count": 24,
   "metadata": {
    "ExecuteTime": {
     "end_time": "2019-06-12T10:18:08.893390Z",
     "start_time": "2019-06-12T10:18:08.255449Z"
    }
   },
   "outputs": [],
   "source": [
    "net.save(\"opto.h5py\")"
   ]
  },
  {
   "cell_type": "code",
   "execution_count": null,
   "metadata": {},
   "outputs": [],
   "source": []
  }
 ],
 "metadata": {
  "kernelspec": {
   "display_name": "Python 3",
   "language": "python",
   "name": "python3"
  },
  "language_info": {
   "codemirror_mode": {
    "name": "ipython",
    "version": 3
   },
   "file_extension": ".py",
   "mimetype": "text/x-python",
   "name": "python",
   "nbconvert_exporter": "python",
   "pygments_lexer": "ipython3",
   "version": "3.7.4"
  },
  "toc": {
   "base_numbering": 1,
   "nav_menu": {},
   "number_sections": true,
   "sideBar": true,
   "skip_h1_title": false,
   "title_cell": "Table of Contents",
   "title_sidebar": "Contents",
   "toc_cell": false,
   "toc_position": {},
   "toc_section_display": true,
   "toc_window_display": false
  }
 },
 "nbformat": 4,
 "nbformat_minor": 2
}
