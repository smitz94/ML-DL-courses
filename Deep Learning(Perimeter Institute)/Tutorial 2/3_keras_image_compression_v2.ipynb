{
 "cells": [
  {
   "cell_type": "markdown",
   "metadata": {},
   "source": [
    "# Import libraries"
   ]
  },
  {
   "cell_type": "code",
   "execution_count": 1,
   "metadata": {
    "ExecuteTime": {
     "end_time": "2019-05-22T14:10:42.568385Z",
     "start_time": "2019-05-22T14:10:42.364370Z"
    }
   },
   "outputs": [],
   "source": [
    "import numpy as np\n",
    "import matplotlib.pyplot as plt\n",
    "from mpl_toolkits.mplot3d import Axes3D\n",
    "%matplotlib inline"
   ]
  },
  {
   "cell_type": "markdown",
   "metadata": {
    "ExecuteTime": {
     "end_time": "2019-05-16T20:40:43.882640Z",
     "start_time": "2019-05-16T20:40:43.874662Z"
    }
   },
   "source": [
    "You can install this package by running in a terminal (you can also open it within Jupyter)\n",
    "\n",
    "` pip install imageio `"
   ]
  },
  {
   "cell_type": "code",
   "execution_count": 2,
   "metadata": {
    "ExecuteTime": {
     "end_time": "2019-05-22T14:10:42.877649Z",
     "start_time": "2019-05-22T14:10:42.752273Z"
    }
   },
   "outputs": [],
   "source": [
    "import imageio"
   ]
  },
  {
   "cell_type": "markdown",
   "metadata": {},
   "source": [
    "The following library is used to clean the output of a Jupyter cell"
   ]
  },
  {
   "cell_type": "code",
   "execution_count": 3,
   "metadata": {
    "ExecuteTime": {
     "end_time": "2019-05-22T14:10:43.158099Z",
     "start_time": "2019-05-22T14:10:43.155093Z"
    }
   },
   "outputs": [],
   "source": [
    "import IPython.display as jpt"
   ]
  },
  {
   "cell_type": "markdown",
   "metadata": {},
   "source": [
    "Import Keras libraries from the Tensorflow namespace"
   ]
  },
  {
   "cell_type": "code",
   "execution_count": 4,
   "metadata": {
    "ExecuteTime": {
     "end_time": "2019-05-22T14:10:44.553403Z",
     "start_time": "2019-05-22T14:10:43.566563Z"
    }
   },
   "outputs": [],
   "source": [
    "import tensorflow.keras as K"
   ]
  },
  {
   "cell_type": "markdown",
   "metadata": {},
   "source": [
    "# Define the image to learn"
   ]
  },
  {
   "cell_type": "code",
   "execution_count": 5,
   "metadata": {
    "ExecuteTime": {
     "end_time": "2019-05-22T14:10:44.656435Z",
     "start_time": "2019-05-22T14:10:44.554965Z"
    }
   },
   "outputs": [
    {
     "data": {
      "image/png": "[encoded data removed]",
      "text/plain": [
       "<Figure size 432x288 with 1 Axes>"
      ]
     },
     "metadata": {
      "needs_background": "light"
     },
     "output_type": "display_data"
    }
   ],
   "source": [
    "img = imageio.imread('smile.png')\n",
    "\n",
    "plt.imshow(img)\n",
    "plt.show()"
   ]
  },
  {
   "cell_type": "code",
   "execution_count": 6,
   "metadata": {
    "ExecuteTime": {
     "end_time": "2019-05-22T14:10:44.661198Z",
     "start_time": "2019-05-22T14:10:44.658138Z"
    }
   },
   "outputs": [
    {
     "data": {
      "text/plain": [
       "(194, 194, 4)"
      ]
     },
     "execution_count": 6,
     "metadata": {},
     "output_type": "execute_result"
    }
   ],
   "source": [
    "np.shape(img)"
   ]
  },
  {
   "cell_type": "code",
   "execution_count": 7,
   "metadata": {
    "ExecuteTime": {
     "end_time": "2019-05-22T14:10:44.668677Z",
     "start_time": "2019-05-22T14:10:44.662854Z"
    }
   },
   "outputs": [],
   "source": [
    "img = imageio.imread('smile.png')\n",
    "# Select only b/w channel of the image (imagesd with colors have other 3 channels (rgb))\n",
    "img = img[:,:,0]\n",
    "\n",
    "# img is now a [194,194] array of numbers between 0 and 255 (each one representing a pixel)\n",
    "# We want to normalize this array from 0 to 1\n",
    "\n",
    "img = img/255\n",
    "\n",
    "img_size = np.shape(img)[0] # L_pixel = 194\n",
    "\n",
    "def Function(x,y):\n",
    "    # Map a real input between 0 and 1 to a pixel (between 0 and img_size-1)\n",
    "    x_int = (x*(img_size-1)).astype(dtype='int')\n",
    "    y_int = (y*(img_size-1)).astype(dtype='int')\n",
    "    return img[x_int,y_int].reshape([-1,1])"
   ]
  },
  {
   "cell_type": "code",
   "execution_count": 8,
   "metadata": {
    "ExecuteTime": {
     "end_time": "2019-05-22T14:10:44.764986Z",
     "start_time": "2019-05-22T14:10:44.670160Z"
    }
   },
   "outputs": [
    {
     "data": {
      "image/png": "[encoded data removed]",
      "text/plain": [
       "<Figure size 432x288 with 1 Axes>"
      ]
     },
     "metadata": {
      "needs_background": "light"
     },
     "output_type": "display_data"
    }
   ],
   "source": [
    "plt.imshow(img)\n",
    "plt.show()"
   ]
  },
  {
   "cell_type": "code",
   "execution_count": 9,
   "metadata": {
    "ExecuteTime": {
     "end_time": "2019-05-22T14:10:44.821055Z",
     "start_time": "2019-05-22T14:10:44.818757Z"
    }
   },
   "outputs": [],
   "source": [
    "def get_batch(batchsize):\n",
    "    y_in = np.random.uniform(low=0, high=1, size=[batchsize,2]) # [[x1,y1], [x2,y2], ...]\n",
    "    f_out = Function(y_in[:,0],y_in[:,1])\n",
    "    return (y_in, f_out)"
   ]
  },
  {
   "cell_type": "markdown",
   "metadata": {},
   "source": [
    "# Define the neural network"
   ]
  },
  {
   "cell_type": "code",
   "execution_count": 10,
   "metadata": {
    "ExecuteTime": {
     "end_time": "2019-05-22T14:10:45.614968Z",
     "start_time": "2019-05-22T14:10:45.482742Z"
    }
   },
   "outputs": [
    {
     "name": "stdout",
     "output_type": "stream",
     "text": [
      "WARNING:tensorflow:From /Users/lsarra/miniconda3/envs/neuralnets/lib/python3.6/site-packages/tensorflow/python/ops/resource_variable_ops.py:435: colocate_with (from tensorflow.python.framework.ops) is deprecated and will be removed in a future version.\n",
      "Instructions for updating:\n",
      "Colocations handled automatically by placer.\n",
      "WARNING:tensorflow:From /Users/lsarra/miniconda3/envs/neuralnets/lib/python3.6/site-packages/tensorflow/python/keras/utils/losses_utils.py:170: to_float (from tensorflow.python.ops.math_ops) is deprecated and will be removed in a future version.\n",
      "Instructions for updating:\n",
      "Use tf.cast instead.\n",
      "_________________________________________________________________\n",
      "Layer (type)                 Output Shape              Param #   \n",
      "=================================================================\n",
      "dense (Dense)                (None, 150)               450       \n",
      "_________________________________________________________________\n",
      "dense_1 (Dense)              (None, 150)               22650     \n",
      "_________________________________________________________________\n",
      "dense_2 (Dense)              (None, 100)               15100     \n",
      "_________________________________________________________________\n",
      "dense_3 (Dense)              (None, 1)                 101       \n",
      "=================================================================\n",
      "Total params: 38,301\n",
      "Trainable params: 38,301\n",
      "Non-trainable params: 0\n",
      "_________________________________________________________________\n"
     ]
    }
   ],
   "source": [
    "eta=0.5\n",
    "\n",
    "net = K.models.Sequential()\n",
    "net.add(K.layers.Dense(150,input_shape=(2,), activation='relu'))\n",
    "net.add(K.layers.Dense(150,activation='relu'))\n",
    "net.add(K.layers.Dense(100,activation='relu'))\n",
    "net.add(K.layers.Dense(1, activation='linear'))\n",
    "net.compile(loss='mean_squared_error', optimizer=K.optimizers.SGD(lr=eta)) \n",
    "net.summary()"
   ]
  },
  {
   "cell_type": "markdown",
   "metadata": {},
   "source": [
    "# Train the network"
   ]
  },
  {
   "cell_type": "code",
   "execution_count": 11,
   "metadata": {
    "ExecuteTime": {
     "end_time": "2019-05-22T14:10:46.402059Z",
     "start_time": "2019-05-22T14:10:46.399226Z"
    }
   },
   "outputs": [],
   "source": [
    "costs=[]\n",
    "N_batch = 40000\n",
    "batchsize = 500"
   ]
  },
  {
   "cell_type": "code",
   "execution_count": 15,
   "metadata": {
    "ExecuteTime": {
     "end_time": "2019-05-22T14:12:27.928475Z",
     "start_time": "2019-05-22T14:10:52.035603Z"
    }
   },
   "outputs": [
    {
     "data": {
      "image/png": "[encoded data removed]",
      "text/plain": [
       "<Figure size 864x432 with 4 Axes>"
      ]
     },
     "metadata": {
      "needs_background": "light"
     },
     "output_type": "display_data"
    },
    {
     "name": "stdout",
     "output_type": "stream",
     "text": [
      "Training: 39000/40000,\tCost = 0.0133643\n",
      "Network has been trained: final cost 5.0390032120e-03\n",
      "Did we overfit?\n"
     ]
    }
   ],
   "source": [
    "for k in range(N_batch):\n",
    "    y_in, f_out = get_batch(batchsize)\n",
    "    costs.append(net.train_on_batch(y_in, f_out))\n",
    "    \n",
    "    if k%(int(N_batch/40)) == 0:\n",
    "        jpt.clear_output(wait=True)\n",
    "        plot_sampled_output()\n",
    "        print(\"Training: %d/%d,\\tCost = %2.7f\" % (k,N_batch,costs[-1]))\n",
    "        \n",
    "print(\"Network has been trained: final cost %.10e\" %costs[-1])\n",
    "print(\"Did we overfit?\")"
   ]
  },
  {
   "cell_type": "code",
   "execution_count": 13,
   "metadata": {
    "ExecuteTime": {
     "end_time": "2019-05-22T14:10:47.433757Z",
     "start_time": "2019-05-22T14:10:47.321543Z"
    }
   },
   "outputs": [
    {
     "data": {
      "image/png": "[encoded data removed]",
      "text/plain": [
       "<Figure size 432x288 with 1 Axes>"
      ]
     },
     "metadata": {
      "needs_background": "light"
     },
     "output_type": "display_data"
    }
   ],
   "source": [
    "plt.figure()\n",
    "plt.title(\"Cost function\")\n",
    "plt.plot(costs)\n",
    "plt.xlabel(\"Training steps\")\n",
    "plt.ylabel(\"Cost\")\n",
    "plt.show()"
   ]
  },
  {
   "cell_type": "markdown",
   "metadata": {},
   "source": [
    "# Evaluate the model and plot the results"
   ]
  },
  {
   "cell_type": "code",
   "execution_count": 14,
   "metadata": {
    "ExecuteTime": {
     "end_time": "2019-05-22T14:10:48.957557Z",
     "start_time": "2019-05-22T14:10:48.951512Z"
    }
   },
   "outputs": [],
   "source": [
    "def plot_sampled_output():\n",
    "    x_start = 0\n",
    "    x_end = 1\n",
    "    \n",
    "    y_start = 0\n",
    "    y_end = 1\n",
    "    \n",
    "    Mx = 50\n",
    "    x_in = np.linspace(x_start,x_end,Mx)\n",
    "    \n",
    "    My = 50\n",
    "    y_in = np.linspace(y_start,y_end,My)\n",
    "    \n",
    "    x_test, y_test = np.meshgrid(x_in, y_in)\n",
    "    \n",
    "    net_in = np.array([x_test.flatten(),y_test.flatten()]).transpose()\n",
    "    f_out = net.predict_on_batch(net_in)\n",
    "    f_out = f_out.reshape([My,Mx])\n",
    "    \n",
    "    f_true = Function(x_test,y_test)\n",
    "    \n",
    "    fig = plt.figure(figsize=[12,6])\n",
    "    plt.subplot(1,2,1)\n",
    "    plt.contourf(x_test,y_test,np.flipud(f_true.reshape([My,Mx]).transpose()))\n",
    "    plt.title(\"Real function\")\n",
    "    plt.gca().set_aspect('equal')\n",
    "    plt.xlabel(\"x\")\n",
    "    plt.ylabel(\"y\")\n",
    "    plt.colorbar()\n",
    "    \n",
    "    plt.subplot(1,2,2)\n",
    "    plt.contourf(x_test,y_test,np.flipud(f_out.transpose()))\n",
    "    plt.title(\"Approximated function\")\n",
    "    plt.gca().set_aspect('equal')\n",
    "    plt.xlabel(\"x\")\n",
    "    plt.ylabel(\"y\")\n",
    "    plt.colorbar()\n",
    "    \n",
    "    \n",
    "    plt.show()"
   ]
  },
  {
   "cell_type": "code",
   "execution_count": null,
   "metadata": {},
   "outputs": [],
   "source": []
  }
 ],
 "metadata": {
  "kernelspec": {
   "display_name": "Python 3",
   "language": "python",
   "name": "python3"
  },
  "language_info": {
   "codemirror_mode": {
    "name": "ipython",
    "version": 3
   },
   "file_extension": ".py",
   "mimetype": "text/x-python",
   "name": "python",
   "nbconvert_exporter": "python",
   "pygments_lexer": "ipython3",
   "version": "3.6.7"
  },
  "toc": {
   "base_numbering": 1,
   "nav_menu": {},
   "number_sections": true,
   "sideBar": true,
   "skip_h1_title": false,
   "title_cell": "Table of Contents",
   "title_sidebar": "Contents",
   "toc_cell": false,
   "toc_position": {},
   "toc_section_display": true,
   "toc_window_display": false
  }
 },
 "nbformat": 4,
 "nbformat_minor": 2
}
