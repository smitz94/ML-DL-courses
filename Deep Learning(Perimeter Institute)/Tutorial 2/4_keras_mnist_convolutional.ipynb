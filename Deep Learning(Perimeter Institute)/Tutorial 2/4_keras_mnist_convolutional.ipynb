{
 "cells": [
  {
   "cell_type": "markdown",
   "metadata": {},
   "source": [
    "# Import libraries"
   ]
  },
  {
   "cell_type": "code",
   "execution_count": 2,
   "metadata": {},
   "outputs": [
    {
     "name": "stderr",
     "output_type": "stream",
     "text": [
      "Using TensorFlow backend.\n"
     ]
    }
   ],
   "source": [
    "import numpy as np\n",
    "import matplotlib.pyplot as plt\n",
    "%matplotlib inline\n",
    "\n",
    "import tensorflow.keras as K"
   ]
  },
  {
   "cell_type": "code",
   "execution_count": 3,
   "metadata": {},
   "outputs": [],
   "source": [
    "import pickle\n",
    "import gzip"
   ]
  },
  {
   "cell_type": "markdown",
   "metadata": {},
   "source": [
    "# Load the MNIST dataset"
   ]
  },
  {
   "cell_type": "markdown",
   "metadata": {},
   "source": [
    "The dataset is composed in three parts: training, validation and test. We can load each of them in a different variable with the following command. The file is also stored locally on the Tutorials website."
   ]
  },
  {
   "cell_type": "code",
   "execution_count": 4,
   "metadata": {},
   "outputs": [],
   "source": [
    "dataset = gzip.open('mnist.pkl.gz', 'rb')\n",
    "training_data, validation_data, test_data = pickle.load(dataset,encoding='bytes')\n",
    "dataset.close()"
   ]
  },
  {
   "cell_type": "markdown",
   "metadata": {},
   "source": [
    "We define the one_hot encoding function that is able to convert the label that gives the correct digit into a vector of dimension 10."
   ]
  },
  {
   "cell_type": "code",
   "execution_count": 5,
   "metadata": {},
   "outputs": [],
   "source": [
    "n_categories = 10\n",
    "def hot_enc(j):\n",
    "    e = np.zeros([len(j),n_categories])\n",
    "    e[range(len(j)),j]=1.\n",
    "    return e"
   ]
  },
  {
   "cell_type": "markdown",
   "metadata": {},
   "source": [
    "Each part of the dataset has two parts: the image and its correct classification. We save the images in a variable and the label in another variable. In order to apply the _crossentropy_ cost function, we apply one hot encoding to the labels, i.e. $3 \\rightarrow (0,0,0,1,0,0,0,0,0,0)$."
   ]
  },
  {
   "cell_type": "code",
   "execution_count": 6,
   "metadata": {},
   "outputs": [],
   "source": [
    "training_in, training_out = training_data \n",
    "N_pixels = np.shape(training_in)[1]\n",
    "N_width = int(np.sqrt(N_pixels))\n",
    "\n",
    "# training_in = 50000 images of [28,28] pixels \n",
    "# training_out = int number between 0 and 9 \n",
    "\n",
    "training_out_HOT = hot_enc(training_out)\n",
    "N_samples = len(training_in)\n",
    "\n",
    "test_in, test_out = test_data # test_in = 10000 images of [28,28] pixels \n",
    "test_out_HOT = hot_enc(test_out)\n",
    "N_test = len(test_in)"
   ]
  },
  {
   "cell_type": "markdown",
   "metadata": {},
   "source": [
    "Reshape the images so that they are `N_width x N_width x 1` instead of `N_pixels`. The last 1 indicates black and white image (single channel)"
   ]
  },
  {
   "cell_type": "code",
   "execution_count": 7,
   "metadata": {},
   "outputs": [],
   "source": [
    "training_in = training_in.reshape([-1, N_width, N_width, 1])  # -1 automatically calculates the remaining dimension\n",
    "test_in = test_in.reshape([-1, N_width, N_width, 1])"
   ]
  },
  {
   "cell_type": "markdown",
   "metadata": {},
   "source": [
    "# Define the neural network "
   ]
  },
  {
   "cell_type": "code",
   "execution_count": 8,
   "metadata": {},
   "outputs": [],
   "source": [
    "def create_net():\n",
    "    net = K.models.Sequential()\n",
    "    \n",
    "    net.add(K.layers.Conv2D(input_shape=(N_width,N_width,1), # width X height X channels (in this case b/w is 1 channel)\n",
    "           filters=8, # number of features to extract\n",
    "           kernel_size=[5,5], #size of the kernel\n",
    "           activation='relu',\n",
    "           padding='same')) # \"boundary\" conditions\n",
    "    \n",
    "    net.add(K.layers.AveragePooling2D(pool_size=2))\n",
    "    \n",
    "    net.add(K.layers.Conv2D(\n",
    "           filters=8,\n",
    "           kernel_size=[5,5],\n",
    "           activation='relu',\n",
    "           padding='same'))\n",
    "    \n",
    "    net.add(K.layers.AveragePooling2D(pool_size=2))\n",
    "    \n",
    "    net.add(K.layers.Flatten())\n",
    "    net.add(K.layers.Dense(n_categories, activation=\"softmax\"))   \n",
    "    \n",
    "    net.compile(loss=\"categorical_crossentropy\", \n",
    "               metrics=[\"categorical_accuracy\"],\n",
    "               optimizer='adam')\n",
    "    net.summary()\n",
    "    return net"
   ]
  },
  {
   "cell_type": "code",
   "execution_count": 9,
   "metadata": {},
   "outputs": [
    {
     "name": "stdout",
     "output_type": "stream",
     "text": [
      "_________________________________________________________________\n",
      "Layer (type)                 Output Shape              Param #   \n",
      "=================================================================\n",
      "conv2d_1 (Conv2D)            (None, 28, 28, 8)         208       \n",
      "_________________________________________________________________\n",
      "average_pooling2d_1 (Average (None, 14, 14, 8)         0         \n",
      "_________________________________________________________________\n",
      "conv2d_2 (Conv2D)            (None, 14, 14, 8)         1608      \n",
      "_________________________________________________________________\n",
      "average_pooling2d_2 (Average (None, 7, 7, 8)           0         \n",
      "_________________________________________________________________\n",
      "flatten_1 (Flatten)          (None, 392)               0         \n",
      "_________________________________________________________________\n",
      "dense_1 (Dense)              (None, 10)                3930      \n",
      "=================================================================\n",
      "Total params: 5,746\n",
      "Trainable params: 5,746\n",
      "Non-trainable params: 0\n",
      "_________________________________________________________________\n"
     ]
    }
   ],
   "source": [
    "net = create_net()"
   ]
  },
  {
   "cell_type": "markdown",
   "metadata": {},
   "source": [
    "# Train the network"
   ]
  },
  {
   "cell_type": "code",
   "execution_count": 10,
   "metadata": {},
   "outputs": [],
   "source": [
    "costs = []\n",
    "batchsize = 100\n",
    "N_batches = int(N_samples/batchsize)-1"
   ]
  },
  {
   "cell_type": "markdown",
   "metadata": {},
   "source": [
    "Keep in mind that we call _Epoch_ each time we go through the entire dataset. In other words, the code below trains the network for a single epoch."
   ]
  },
  {
   "cell_type": "code",
   "execution_count": 11,
   "metadata": {},
   "outputs": [
    {
     "name": "stdout",
     "output_type": "stream",
     "text": [
      "Training: 0/499,\tCost = 2.2836599\n",
      "Training: 1/499,\tCost = 2.2823019\n",
      "Training: 2/499,\tCost = 2.2809696\n",
      "Training: 3/499,\tCost = 2.2889576\n",
      "Training: 4/499,\tCost = 2.2572775\n",
      "Training: 5/499,\tCost = 2.2778716\n",
      "Training: 6/499,\tCost = 2.2480998\n",
      "Training: 7/499,\tCost = 2.2620327\n",
      "Training: 8/499,\tCost = 2.2348483\n",
      "Training: 9/499,\tCost = 2.2341194\n",
      "Training: 10/499,\tCost = 2.2210548\n",
      "Training: 11/499,\tCost = 2.2199509\n",
      "Training: 12/499,\tCost = 2.2408574\n",
      "Training: 13/499,\tCost = 2.1480520\n",
      "Training: 14/499,\tCost = 2.1703069\n",
      "Training: 15/499,\tCost = 2.1723359\n",
      "Training: 16/499,\tCost = 2.1322086\n",
      "Training: 17/499,\tCost = 2.1153266\n",
      "Training: 18/499,\tCost = 2.0920041\n",
      "Training: 19/499,\tCost = 2.0849936\n",
      "Training: 20/499,\tCost = 2.0612295\n",
      "Training: 21/499,\tCost = 2.0126357\n",
      "Training: 22/499,\tCost = 2.0163093\n",
      "Training: 23/499,\tCost = 2.0030754\n",
      "Training: 24/499,\tCost = 1.9753823\n",
      "Training: 25/499,\tCost = 1.8937659\n",
      "Training: 26/499,\tCost = 1.9063717\n",
      "Training: 27/499,\tCost = 1.8324051\n",
      "Training: 28/499,\tCost = 1.7285645\n",
      "Training: 29/499,\tCost = 1.7764288\n",
      "Training: 30/499,\tCost = 1.8709347\n",
      "Training: 31/499,\tCost = 1.7329196\n",
      "Training: 32/499,\tCost = 1.7319856\n",
      "Training: 33/499,\tCost = 1.6375548\n",
      "Training: 34/499,\tCost = 1.6013702\n",
      "Training: 35/499,\tCost = 1.5768265\n",
      "Training: 36/499,\tCost = 1.3946530\n",
      "Training: 37/499,\tCost = 1.4137237\n",
      "Training: 38/499,\tCost = 1.3349658\n",
      "Training: 39/499,\tCost = 1.3781209\n",
      "Training: 40/499,\tCost = 1.2839677\n",
      "Training: 41/499,\tCost = 1.2474046\n",
      "Training: 42/499,\tCost = 1.1309485\n",
      "Training: 43/499,\tCost = 1.1829056\n",
      "Training: 44/499,\tCost = 1.1272137\n",
      "Training: 45/499,\tCost = 0.8418799\n",
      "Training: 46/499,\tCost = 1.0497712\n",
      "Training: 47/499,\tCost = 1.0430719\n",
      "Training: 48/499,\tCost = 0.9876810\n",
      "Training: 49/499,\tCost = 0.9861569\n",
      "Training: 50/499,\tCost = 0.8952554\n",
      "Training: 51/499,\tCost = 0.8622082\n",
      "Training: 52/499,\tCost = 0.8299844\n",
      "Training: 53/499,\tCost = 0.8406160\n",
      "Training: 54/499,\tCost = 0.6993734\n",
      "Training: 55/499,\tCost = 0.7427207\n",
      "Training: 56/499,\tCost = 0.7708700\n",
      "Training: 57/499,\tCost = 0.7586891\n",
      "Training: 58/499,\tCost = 0.7664162\n",
      "Training: 59/499,\tCost = 0.6580042\n",
      "Training: 60/499,\tCost = 0.5708594\n",
      "Training: 61/499,\tCost = 0.6155068\n",
      "Training: 62/499,\tCost = 0.6487945\n",
      "Training: 63/499,\tCost = 0.5501602\n",
      "Training: 64/499,\tCost = 0.6433326\n",
      "Training: 65/499,\tCost = 0.5030604\n",
      "Training: 66/499,\tCost = 0.6567905\n",
      "Training: 67/499,\tCost = 0.5966704\n",
      "Training: 68/499,\tCost = 0.7967737\n",
      "Training: 69/499,\tCost = 0.6485950\n",
      "Training: 70/499,\tCost = 0.7715799\n",
      "Training: 71/499,\tCost = 0.6063400\n",
      "Training: 72/499,\tCost = 0.8538551\n",
      "Training: 73/499,\tCost = 0.7414636\n",
      "Training: 74/499,\tCost = 0.6333721\n",
      "Training: 75/499,\tCost = 0.6796978\n",
      "Training: 76/499,\tCost = 0.8289259\n",
      "Training: 77/499,\tCost = 0.8708066\n",
      "Training: 78/499,\tCost = 0.7626269\n",
      "Training: 79/499,\tCost = 0.6729198\n",
      "Training: 80/499,\tCost = 0.4839897\n",
      "Training: 81/499,\tCost = 0.6849571\n",
      "Training: 82/499,\tCost = 0.8165079\n",
      "Training: 83/499,\tCost = 0.5163770\n",
      "Training: 84/499,\tCost = 0.6851583\n",
      "Training: 85/499,\tCost = 0.4583684\n",
      "Training: 86/499,\tCost = 0.6949823\n",
      "Training: 87/499,\tCost = 0.6980525\n",
      "Training: 88/499,\tCost = 0.8007002\n",
      "Training: 89/499,\tCost = 0.5211475\n",
      "Training: 90/499,\tCost = 0.3785027\n",
      "Training: 91/499,\tCost = 0.5352769\n",
      "Training: 92/499,\tCost = 0.5599812\n",
      "Training: 93/499,\tCost = 0.5879403\n",
      "Training: 94/499,\tCost = 0.5526919\n",
      "Training: 95/499,\tCost = 0.6104562\n",
      "Training: 96/499,\tCost = 0.5247397\n",
      "Training: 97/499,\tCost = 0.5099210\n",
      "Training: 98/499,\tCost = 0.4313699\n",
      "Training: 99/499,\tCost = 0.3710469\n",
      "Training: 100/499,\tCost = 0.5354081\n",
      "Training: 101/499,\tCost = 0.4606621\n",
      "Training: 102/499,\tCost = 0.7568315\n",
      "Training: 103/499,\tCost = 0.3089753\n",
      "Training: 104/499,\tCost = 0.3385661\n",
      "Training: 105/499,\tCost = 0.3266175\n",
      "Training: 106/499,\tCost = 0.3529129\n",
      "Training: 107/499,\tCost = 0.6628764\n",
      "Training: 108/499,\tCost = 0.3829228\n",
      "Training: 109/499,\tCost = 0.4854345\n",
      "Training: 110/499,\tCost = 0.4047127\n",
      "Training: 111/499,\tCost = 0.4533083\n",
      "Training: 112/499,\tCost = 0.4943589\n",
      "Training: 113/499,\tCost = 0.4056918\n",
      "Training: 114/499,\tCost = 0.3392407\n",
      "Training: 115/499,\tCost = 0.6957155\n",
      "Training: 116/499,\tCost = 0.5510243\n",
      "Training: 117/499,\tCost = 0.7557847\n",
      "Training: 118/499,\tCost = 0.4746656\n",
      "Training: 119/499,\tCost = 0.3948776\n",
      "Training: 120/499,\tCost = 0.3671635\n",
      "Training: 121/499,\tCost = 0.5021605\n",
      "Training: 122/499,\tCost = 0.4682471\n",
      "Training: 123/499,\tCost = 0.6416410\n",
      "Training: 124/499,\tCost = 0.5411545\n",
      "Training: 125/499,\tCost = 0.8124019\n",
      "Training: 126/499,\tCost = 0.9422472\n",
      "Training: 127/499,\tCost = 0.5225485\n",
      "Training: 128/499,\tCost = 0.3626659\n",
      "Training: 129/499,\tCost = 0.6527238\n",
      "Training: 130/499,\tCost = 0.8747946\n",
      "Training: 131/499,\tCost = 0.5793145\n",
      "Training: 132/499,\tCost = 0.4655828\n",
      "Training: 133/499,\tCost = 0.4244171\n",
      "Training: 134/499,\tCost = 0.3667830\n",
      "Training: 135/499,\tCost = 0.2426754\n",
      "Training: 136/499,\tCost = 0.5082437\n",
      "Training: 137/499,\tCost = 0.4936366\n",
      "Training: 138/499,\tCost = 0.4906122\n",
      "Training: 139/499,\tCost = 0.6700917\n",
      "Training: 140/499,\tCost = 0.6108861\n",
      "Training: 141/499,\tCost = 0.6797513\n",
      "Training: 142/499,\tCost = 0.5755292\n",
      "Training: 143/499,\tCost = 0.8456242\n",
      "Training: 144/499,\tCost = 0.3901807\n",
      "Training: 145/499,\tCost = 0.6073177\n",
      "Training: 146/499,\tCost = 0.7195936\n",
      "Training: 147/499,\tCost = 1.0232658\n",
      "Training: 148/499,\tCost = 0.5105527\n",
      "Training: 149/499,\tCost = 0.4646620\n",
      "Training: 150/499,\tCost = 0.3153363\n",
      "Training: 151/499,\tCost = 0.6439987\n",
      "Training: 152/499,\tCost = 0.4558555\n",
      "Training: 153/499,\tCost = 0.4076064\n",
      "Training: 154/499,\tCost = 0.4540945\n",
      "Training: 155/499,\tCost = 0.4638497\n",
      "Training: 156/499,\tCost = 0.3602171\n",
      "Training: 157/499,\tCost = 0.6766661\n",
      "Training: 158/499,\tCost = 0.5408058\n",
      "Training: 159/499,\tCost = 0.5154618\n",
      "Training: 160/499,\tCost = 0.5599414\n",
      "Training: 161/499,\tCost = 0.4835456\n",
      "Training: 162/499,\tCost = 0.3994572\n",
      "Training: 163/499,\tCost = 0.3555515\n",
      "Training: 164/499,\tCost = 0.3960683\n",
      "Training: 165/499,\tCost = 0.4430623\n",
      "Training: 166/499,\tCost = 0.4595110\n",
      "Training: 167/499,\tCost = 0.5964478\n",
      "Training: 168/499,\tCost = 0.5642062\n",
      "Training: 169/499,\tCost = 0.5393686\n",
      "Training: 170/499,\tCost = 0.5205635\n",
      "Training: 171/499,\tCost = 0.4654225\n",
      "Training: 172/499,\tCost = 0.5852144\n",
      "Training: 173/499,\tCost = 0.2693819\n",
      "Training: 174/499,\tCost = 0.4995618\n",
      "Training: 175/499,\tCost = 0.6902594\n",
      "Training: 176/499,\tCost = 0.4650275\n",
      "Training: 177/499,\tCost = 0.4345834\n",
      "Training: 178/499,\tCost = 0.5457596\n",
      "Training: 179/499,\tCost = 0.2949339\n",
      "Training: 180/499,\tCost = 0.3446745\n",
      "Training: 181/499,\tCost = 0.2324125\n",
      "Training: 182/499,\tCost = 0.2707432\n",
      "Training: 183/499,\tCost = 0.2955486\n",
      "Training: 184/499,\tCost = 0.5809855\n",
      "Training: 185/499,\tCost = 0.3982052\n",
      "Training: 186/499,\tCost = 0.3425710\n",
      "Training: 187/499,\tCost = 0.3161851\n",
      "Training: 188/499,\tCost = 0.3359919\n",
      "Training: 189/499,\tCost = 0.2868705\n",
      "Training: 190/499,\tCost = 0.5161076\n",
      "Training: 191/499,\tCost = 0.4324133\n",
      "Training: 192/499,\tCost = 0.3674237\n",
      "Training: 193/499,\tCost = 0.3929720\n",
      "Training: 194/499,\tCost = 0.3886264\n",
      "Training: 195/499,\tCost = 0.4702004\n",
      "Training: 196/499,\tCost = 0.1885655\n",
      "Training: 197/499,\tCost = 0.1929967\n",
      "Training: 198/499,\tCost = 0.3555797\n",
      "Training: 199/499,\tCost = 0.4503777\n",
      "Training: 200/499,\tCost = 0.5424132\n",
      "Training: 201/499,\tCost = 0.5270259\n",
      "Training: 202/499,\tCost = 0.3579842\n",
      "Training: 203/499,\tCost = 0.3009554\n",
      "Training: 204/499,\tCost = 0.2680584\n",
      "Training: 205/499,\tCost = 0.4094986\n",
      "Training: 206/499,\tCost = 0.4124580\n",
      "Training: 207/499,\tCost = 0.6125622\n",
      "Training: 208/499,\tCost = 0.5668828\n",
      "Training: 209/499,\tCost = 0.7566936\n",
      "Training: 210/499,\tCost = 0.5093972\n",
      "Training: 211/499,\tCost = 0.4466228\n",
      "Training: 212/499,\tCost = 0.2260336\n",
      "Training: 213/499,\tCost = 0.4992987\n",
      "Training: 214/499,\tCost = 0.3398233\n",
      "Training: 215/499,\tCost = 0.5807778\n",
      "Training: 216/499,\tCost = 0.3847994\n",
      "Training: 217/499,\tCost = 0.2738499\n",
      "Training: 218/499,\tCost = 0.1843973\n",
      "Training: 219/499,\tCost = 0.3639914\n",
      "Training: 220/499,\tCost = 0.2534862\n",
      "Training: 221/499,\tCost = 0.4762622\n",
      "Training: 222/499,\tCost = 0.4861175\n",
      "Training: 223/499,\tCost = 0.3120731\n",
      "Training: 224/499,\tCost = 0.4326519\n",
      "Training: 225/499,\tCost = 0.6859194\n",
      "Training: 226/499,\tCost = 0.4819801\n",
      "Training: 227/499,\tCost = 0.4464422\n",
      "Training: 228/499,\tCost = 0.2566965\n",
      "Training: 229/499,\tCost = 0.1426443\n",
      "Training: 230/499,\tCost = 0.4205819\n",
      "Training: 231/499,\tCost = 0.5027804\n",
      "Training: 232/499,\tCost = 0.2585901\n",
      "Training: 233/499,\tCost = 0.3747316\n",
      "Training: 234/499,\tCost = 0.4047858\n",
      "Training: 235/499,\tCost = 0.3642997\n",
      "Training: 236/499,\tCost = 0.4620054\n",
      "Training: 237/499,\tCost = 0.5134323\n",
      "Training: 238/499,\tCost = 0.4020890\n",
      "Training: 239/499,\tCost = 0.4596116\n",
      "Training: 240/499,\tCost = 0.3378159\n"
     ]
    },
    {
     "name": "stdout",
     "output_type": "stream",
     "text": [
      "Training: 241/499,\tCost = 0.2567531\n",
      "Training: 242/499,\tCost = 0.5326920\n",
      "Training: 243/499,\tCost = 0.3485569\n",
      "Training: 244/499,\tCost = 0.4608072\n",
      "Training: 245/499,\tCost = 0.4398954\n",
      "Training: 246/499,\tCost = 0.5530253\n",
      "Training: 247/499,\tCost = 0.7589986\n",
      "Training: 248/499,\tCost = 0.3438108\n",
      "Training: 249/499,\tCost = 0.4955930\n",
      "Training: 250/499,\tCost = 0.2960352\n",
      "Training: 251/499,\tCost = 0.3534642\n",
      "Training: 252/499,\tCost = 0.3054363\n",
      "Training: 253/499,\tCost = 0.3524454\n",
      "Training: 254/499,\tCost = 0.2770233\n",
      "Training: 255/499,\tCost = 0.3005232\n",
      "Training: 256/499,\tCost = 0.2958634\n",
      "Training: 257/499,\tCost = 0.2462645\n",
      "Training: 258/499,\tCost = 0.3800678\n",
      "Training: 259/499,\tCost = 0.3112981\n",
      "Training: 260/499,\tCost = 0.2694618\n",
      "Training: 261/499,\tCost = 0.2758347\n",
      "Training: 262/499,\tCost = 0.3635988\n",
      "Training: 263/499,\tCost = 0.6004313\n",
      "Training: 264/499,\tCost = 0.3955016\n",
      "Training: 265/499,\tCost = 0.4317004\n",
      "Training: 266/499,\tCost = 0.5114193\n",
      "Training: 267/499,\tCost = 0.6212888\n",
      "Training: 268/499,\tCost = 0.5356721\n",
      "Training: 269/499,\tCost = 0.2369053\n",
      "Training: 270/499,\tCost = 0.1752891\n",
      "Training: 271/499,\tCost = 0.5603313\n",
      "Training: 272/499,\tCost = 0.4054295\n",
      "Training: 273/499,\tCost = 0.2360402\n",
      "Training: 274/499,\tCost = 0.3428285\n",
      "Training: 275/499,\tCost = 0.4214355\n",
      "Training: 276/499,\tCost = 0.4582482\n",
      "Training: 277/499,\tCost = 0.4075909\n",
      "Training: 278/499,\tCost = 0.3575486\n",
      "Training: 279/499,\tCost = 0.2434284\n",
      "Training: 280/499,\tCost = 0.1474733\n",
      "Training: 281/499,\tCost = 0.4082320\n",
      "Training: 282/499,\tCost = 0.2407575\n",
      "Training: 283/499,\tCost = 0.4616024\n",
      "Training: 284/499,\tCost = 0.2886462\n",
      "Training: 285/499,\tCost = 0.3968382\n",
      "Training: 286/499,\tCost = 0.7906522\n",
      "Training: 287/499,\tCost = 0.4243053\n",
      "Training: 288/499,\tCost = 0.2231185\n",
      "Training: 289/499,\tCost = 0.3080102\n",
      "Training: 290/499,\tCost = 0.3391143\n",
      "Training: 291/499,\tCost = 0.4457756\n",
      "Training: 292/499,\tCost = 0.3575771\n",
      "Training: 293/499,\tCost = 0.4302198\n",
      "Training: 294/499,\tCost = 0.3138251\n",
      "Training: 295/499,\tCost = 0.4086335\n",
      "Training: 296/499,\tCost = 0.3034240\n",
      "Training: 297/499,\tCost = 0.4523796\n",
      "Training: 298/499,\tCost = 0.6004828\n",
      "Training: 299/499,\tCost = 0.6556206\n",
      "Training: 300/499,\tCost = 0.3836718\n",
      "Training: 301/499,\tCost = 0.4273864\n",
      "Training: 302/499,\tCost = 0.3130571\n",
      "Training: 303/499,\tCost = 0.2452907\n",
      "Training: 304/499,\tCost = 0.3566974\n",
      "Training: 305/499,\tCost = 0.3705187\n",
      "Training: 306/499,\tCost = 0.5117319\n",
      "Training: 307/499,\tCost = 0.2850372\n",
      "Training: 308/499,\tCost = 0.4542480\n",
      "Training: 309/499,\tCost = 0.4098550\n",
      "Training: 310/499,\tCost = 0.3490520\n",
      "Training: 311/499,\tCost = 0.6353163\n",
      "Training: 312/499,\tCost = 0.3652186\n",
      "Training: 313/499,\tCost = 0.6169121\n",
      "Training: 314/499,\tCost = 0.3970692\n",
      "Training: 315/499,\tCost = 0.3532710\n",
      "Training: 316/499,\tCost = 0.5631901\n",
      "Training: 317/499,\tCost = 0.5038272\n",
      "Training: 318/499,\tCost = 0.2709429\n",
      "Training: 319/499,\tCost = 0.3161704\n",
      "Training: 320/499,\tCost = 0.3482175\n",
      "Training: 321/499,\tCost = 0.4341777\n",
      "Training: 322/499,\tCost = 0.4991905\n",
      "Training: 323/499,\tCost = 0.5085799\n",
      "Training: 324/499,\tCost = 0.5319800\n",
      "Training: 325/499,\tCost = 0.3216869\n",
      "Training: 326/499,\tCost = 0.2867910\n",
      "Training: 327/499,\tCost = 0.4538435\n",
      "Training: 328/499,\tCost = 0.3340655\n",
      "Training: 329/499,\tCost = 0.3607129\n",
      "Training: 330/499,\tCost = 0.3882176\n",
      "Training: 331/499,\tCost = 0.2843707\n",
      "Training: 332/499,\tCost = 0.4372958\n",
      "Training: 333/499,\tCost = 0.4327798\n",
      "Training: 334/499,\tCost = 0.2805578\n",
      "Training: 335/499,\tCost = 0.3427365\n",
      "Training: 336/499,\tCost = 0.2086090\n",
      "Training: 337/499,\tCost = 0.3620033\n",
      "Training: 338/499,\tCost = 0.1839603\n",
      "Training: 339/499,\tCost = 0.1800706\n",
      "Training: 340/499,\tCost = 0.2957031\n",
      "Training: 341/499,\tCost = 0.1860157\n",
      "Training: 342/499,\tCost = 0.2488161\n",
      "Training: 343/499,\tCost = 0.2698363\n",
      "Training: 344/499,\tCost = 0.4832112\n",
      "Training: 345/499,\tCost = 0.4163938\n",
      "Training: 346/499,\tCost = 0.3892974\n",
      "Training: 347/499,\tCost = 0.4417052\n",
      "Training: 348/499,\tCost = 0.4543585\n",
      "Training: 349/499,\tCost = 0.3182967\n",
      "Training: 350/499,\tCost = 0.2522865\n",
      "Training: 351/499,\tCost = 0.2753654\n",
      "Training: 352/499,\tCost = 0.3023797\n",
      "Training: 353/499,\tCost = 0.2468543\n",
      "Training: 354/499,\tCost = 0.3287025\n",
      "Training: 355/499,\tCost = 0.2349313\n",
      "Training: 356/499,\tCost = 0.4476038\n",
      "Training: 357/499,\tCost = 0.2229276\n",
      "Training: 358/499,\tCost = 0.2331878\n",
      "Training: 359/499,\tCost = 0.3053002\n",
      "Training: 360/499,\tCost = 0.3388306\n",
      "Training: 361/499,\tCost = 0.2754709\n",
      "Training: 362/499,\tCost = 0.2499522\n",
      "Training: 363/499,\tCost = 0.1991159\n",
      "Training: 364/499,\tCost = 0.4510320\n",
      "Training: 365/499,\tCost = 0.2133002\n",
      "Training: 366/499,\tCost = 0.1334730\n",
      "Training: 367/499,\tCost = 0.4174008\n",
      "Training: 368/499,\tCost = 0.3395057\n",
      "Training: 369/499,\tCost = 0.1870473\n",
      "Training: 370/499,\tCost = 0.3612711\n",
      "Training: 371/499,\tCost = 0.4800355\n",
      "Training: 372/499,\tCost = 0.5122691\n",
      "Training: 373/499,\tCost = 1.0034467\n",
      "Training: 374/499,\tCost = 1.0591649\n",
      "Training: 375/499,\tCost = 0.3901486\n",
      "Training: 376/499,\tCost = 0.2597781\n",
      "Training: 377/499,\tCost = 0.3935984\n",
      "Training: 378/499,\tCost = 0.2866115\n",
      "Training: 379/499,\tCost = 0.3532705\n",
      "Training: 380/499,\tCost = 0.3228725\n",
      "Training: 381/499,\tCost = 0.1975840\n",
      "Training: 382/499,\tCost = 0.3932488\n",
      "Training: 383/499,\tCost = 0.4605830\n",
      "Training: 384/499,\tCost = 0.1780805\n",
      "Training: 385/499,\tCost = 0.5288906\n",
      "Training: 386/499,\tCost = 0.4371745\n",
      "Training: 387/499,\tCost = 0.3547545\n",
      "Training: 388/499,\tCost = 0.1480803\n",
      "Training: 389/499,\tCost = 0.2797050\n",
      "Training: 390/499,\tCost = 0.2399546\n",
      "Training: 391/499,\tCost = 0.3219144\n",
      "Training: 392/499,\tCost = 0.2539221\n",
      "Training: 393/499,\tCost = 0.7172903\n",
      "Training: 394/499,\tCost = 0.5328171\n",
      "Training: 395/499,\tCost = 0.2046719\n",
      "Training: 396/499,\tCost = 0.4561035\n",
      "Training: 397/499,\tCost = 0.2740380\n",
      "Training: 398/499,\tCost = 0.4192998\n",
      "Training: 399/499,\tCost = 0.5359297\n",
      "Training: 400/499,\tCost = 0.3532636\n",
      "Training: 401/499,\tCost = 0.3312854\n",
      "Training: 402/499,\tCost = 0.2604949\n",
      "Training: 403/499,\tCost = 0.3427601\n",
      "Training: 404/499,\tCost = 0.3161386\n",
      "Training: 405/499,\tCost = 0.2863919\n",
      "Training: 406/499,\tCost = 0.2568540\n",
      "Training: 407/499,\tCost = 0.2662182\n",
      "Training: 408/499,\tCost = 0.2297815\n",
      "Training: 409/499,\tCost = 0.2417739\n",
      "Training: 410/499,\tCost = 0.3372683\n",
      "Training: 411/499,\tCost = 0.2395513\n",
      "Training: 412/499,\tCost = 0.5492617\n",
      "Training: 413/499,\tCost = 0.4556890\n",
      "Training: 414/499,\tCost = 0.4925931\n",
      "Training: 415/499,\tCost = 0.3988949\n",
      "Training: 416/499,\tCost = 0.2428851\n",
      "Training: 417/499,\tCost = 0.3312685\n",
      "Training: 418/499,\tCost = 0.2390940\n",
      "Training: 419/499,\tCost = 0.3607844\n",
      "Training: 420/499,\tCost = 0.3567373\n",
      "Training: 421/499,\tCost = 0.4518005\n",
      "Training: 422/499,\tCost = 0.4462501\n",
      "Training: 423/499,\tCost = 0.4893680\n",
      "Training: 424/499,\tCost = 0.5690448\n",
      "Training: 425/499,\tCost = 0.4757590\n",
      "Training: 426/499,\tCost = 0.2743622\n",
      "Training: 427/499,\tCost = 0.4477437\n",
      "Training: 428/499,\tCost = 0.3841037\n",
      "Training: 429/499,\tCost = 0.5269067\n",
      "Training: 430/499,\tCost = 0.4181177\n",
      "Training: 431/499,\tCost = 0.2467709\n",
      "Training: 432/499,\tCost = 0.3615207\n",
      "Training: 433/499,\tCost = 0.1607572\n",
      "Training: 434/499,\tCost = 0.1942364\n",
      "Training: 435/499,\tCost = 0.2615727\n",
      "Training: 436/499,\tCost = 0.2739001\n",
      "Training: 437/499,\tCost = 0.3290584\n",
      "Training: 438/499,\tCost = 0.3482269\n",
      "Training: 439/499,\tCost = 0.3485382\n",
      "Training: 440/499,\tCost = 0.2020487\n",
      "Training: 441/499,\tCost = 0.4129939\n",
      "Training: 442/499,\tCost = 0.3795677\n",
      "Training: 443/499,\tCost = 0.4041477\n",
      "Training: 444/499,\tCost = 0.3866925\n",
      "Training: 445/499,\tCost = 0.1722038\n",
      "Training: 446/499,\tCost = 0.1870419\n",
      "Training: 447/499,\tCost = 0.2695039\n",
      "Training: 448/499,\tCost = 0.4507710\n",
      "Training: 449/499,\tCost = 0.2866158\n",
      "Training: 450/499,\tCost = 0.4998153\n",
      "Training: 451/499,\tCost = 0.3176539\n",
      "Training: 452/499,\tCost = 0.2195742\n",
      "Training: 453/499,\tCost = 0.2316096\n",
      "Training: 454/499,\tCost = 0.4008468\n",
      "Training: 455/499,\tCost = 0.3180291\n",
      "Training: 456/499,\tCost = 0.3356266\n",
      "Training: 457/499,\tCost = 0.2454919\n",
      "Training: 458/499,\tCost = 0.4853231\n",
      "Training: 459/499,\tCost = 0.3839429\n",
      "Training: 460/499,\tCost = 0.3898283\n",
      "Training: 461/499,\tCost = 0.3878905\n",
      "Training: 462/499,\tCost = 0.4401265\n",
      "Training: 463/499,\tCost = 0.4444811\n",
      "Training: 464/499,\tCost = 0.3648145\n",
      "Training: 465/499,\tCost = 0.1538993\n",
      "Training: 466/499,\tCost = 0.2178101\n",
      "Training: 467/499,\tCost = 0.3156671\n",
      "Training: 468/499,\tCost = 0.2133072\n",
      "Training: 469/499,\tCost = 0.2502667\n"
     ]
    },
    {
     "name": "stdout",
     "output_type": "stream",
     "text": [
      "Training: 470/499,\tCost = 0.3012697\n",
      "Training: 471/499,\tCost = 0.2220025\n",
      "Training: 472/499,\tCost = 0.4785308\n",
      "Training: 473/499,\tCost = 0.3489027\n",
      "Training: 474/499,\tCost = 0.3826952\n",
      "Training: 475/499,\tCost = 0.2378300\n",
      "Training: 476/499,\tCost = 0.4082142\n",
      "Training: 477/499,\tCost = 0.3046075\n",
      "Training: 478/499,\tCost = 0.1859550\n",
      "Training: 479/499,\tCost = 0.5146540\n",
      "Training: 480/499,\tCost = 0.2767264\n",
      "Training: 481/499,\tCost = 0.2701322\n",
      "Training: 482/499,\tCost = 0.1941017\n",
      "Training: 483/499,\tCost = 0.3875972\n",
      "Training: 484/499,\tCost = 0.1440228\n",
      "Training: 485/499,\tCost = 0.2523559\n",
      "Training: 486/499,\tCost = 0.2575527\n",
      "Training: 487/499,\tCost = 0.1448227\n",
      "Training: 488/499,\tCost = 0.2480423\n",
      "Training: 489/499,\tCost = 0.5318943\n",
      "Training: 490/499,\tCost = 0.5897920\n",
      "Training: 491/499,\tCost = 0.2223407\n",
      "Training: 492/499,\tCost = 0.3551353\n",
      "Training: 493/499,\tCost = 0.1929469\n",
      "Training: 494/499,\tCost = 0.3446150\n",
      "Training: 495/499,\tCost = 0.5154169\n",
      "Training: 496/499,\tCost = 0.4131287\n",
      "Training: 497/499,\tCost = 0.1920605\n",
      "Training: 498/499,\tCost = 0.5003061\n"
     ]
    }
   ],
   "source": [
    "for i in range(N_batches):\n",
    "    costs.append(\n",
    "        net.train_on_batch(training_in[i*batchsize:(i+1)*batchsize,:], \n",
    "                          training_out_HOT[i*batchsize:(i+1)*batchsize,:])[0]  #First output of train on batch is COST, second the METRIC\n",
    "    )\n",
    "    print(\"Training: %d/%d,\\tCost = %2.7f\" % (i,N_batches,costs[-1]))"
   ]
  },
  {
   "cell_type": "code",
   "execution_count": 12,
   "metadata": {},
   "outputs": [
    {
     "data": {
      "text/plain": [
       "[<matplotlib.lines.Line2D at 0x12a8fc2e8>]"
      ]
     },
     "execution_count": 12,
     "metadata": {},
     "output_type": "execute_result"
    },
    {
     "data": {
      "image/png": "[encoded data removed]",
      "text/plain": [
       "<Figure size 432x288 with 1 Axes>"
      ]
     },
     "metadata": {
      "needs_background": "light"
     },
     "output_type": "display_data"
    }
   ],
   "source": [
    "plt.plot(costs)"
   ]
  },
  {
   "cell_type": "code",
   "execution_count": 13,
   "metadata": {},
   "outputs": [
    {
     "name": "stdout",
     "output_type": "stream",
     "text": [
      "91.97999999999999\n"
     ]
    }
   ],
   "source": [
    "predictions = np.argmax(net.predict_on_batch(test_in),axis=1)\n",
    "errors = np.count_nonzero(predictions- test_out)\n",
    "accuracy = (1- errors/N_test)*100\n",
    "print(accuracy)"
   ]
  },
  {
   "cell_type": "markdown",
   "metadata": {},
   "source": [
    "# Show the digits"
   ]
  },
  {
   "cell_type": "code",
   "execution_count": 14,
   "metadata": {},
   "outputs": [],
   "source": [
    "def show_image(which):\n",
    "    plt.figure()\n",
    "    plt.imshow(np.reshape(which,[N_width, N_width]), cmap='binary')\n",
    "    plt.show()"
   ]
  },
  {
   "cell_type": "code",
   "execution_count": 21,
   "metadata": {},
   "outputs": [
    {
     "data": {
      "image/png": "[encoded data removed]",
      "text/plain": [
       "<Figure size 432x288 with 1 Axes>"
      ]
     },
     "metadata": {
      "needs_background": "light"
     },
     "output_type": "display_data"
    }
   ],
   "source": [
    "show_image(test_in[6])"
   ]
  },
  {
   "cell_type": "markdown",
   "metadata": {},
   "source": [
    "Show the indices of the digits that were missclassified. You can look at them with the function `show_image(test_in[index])`, and get the proposed category with `predictions[index]`, if `index` is the index of the missclassified image."
   ]
  },
  {
   "cell_type": "code",
   "execution_count": 16,
   "metadata": {},
   "outputs": [
    {
     "data": {
      "text/plain": [
       "(array([   8,   33,   62,   63,  121,  149,  151,  167,  193,  195,  233,\n",
       "         241,  247,  259,  290,  300,  307,  313,  318,  320,  321,  325,\n",
       "         340,  341,  349,  352,  362,  376,  381,  403,  406,  412,  435,\n",
       "         444,  445,  448,  457,  460,  464,  468,  478,  479,  497,  502,\n",
       "         507,  511,  531,  532,  543,  550,  551,  565,  571,  578,  582,\n",
       "         591,  605,  610,  613,  619,  628,  629,  658,  659,  684,  689,\n",
       "         691,  692,  707,  712,  717,  720,  728,  740,  748,  760,  766,\n",
       "         791,  839,  844,  857,  898,  924,  938,  939,  944,  947,  950,\n",
       "         951,  956,  960,  965,  982, 1003, 1012, 1014, 1032, 1039, 1044,\n",
       "        1062, 1068, 1082, 1089, 1091, 1096, 1101, 1107, 1112, 1114, 1119,\n",
       "        1128, 1169, 1173, 1181, 1185, 1191, 1192, 1194, 1198, 1204, 1206,\n",
       "        1208, 1226, 1232, 1242, 1247, 1248, 1253, 1256, 1260, 1269, 1270,\n",
       "        1283, 1289, 1299, 1314, 1315, 1319, 1326, 1375, 1378, 1393, 1404,\n",
       "        1409, 1410, 1433, 1440, 1444, 1453, 1465, 1466, 1467, 1476, 1494,\n",
       "        1500, 1514, 1522, 1527, 1530, 1549, 1553, 1559, 1569, 1581, 1587,\n",
       "        1601, 1609, 1621, 1626, 1634, 1640, 1660, 1681, 1695, 1709, 1716,\n",
       "        1717, 1718, 1722, 1727, 1737, 1751, 1754, 1772, 1790, 1800, 1813,\n",
       "        1819, 1850, 1857, 1878, 1883, 1899, 1901, 1903, 1911, 1913, 1917,\n",
       "        1920, 1926, 1930, 1938, 1940, 1952, 1955, 1956, 1970, 1981, 2001,\n",
       "        2016, 2024, 2035, 2037, 2040, 2043, 2044, 2053, 2068, 2070, 2098,\n",
       "        2109, 2118, 2125, 2129, 2130, 2135, 2148, 2168, 2182, 2183, 2185,\n",
       "        2186, 2189, 2192, 2224, 2237, 2266, 2272, 2291, 2293, 2299, 2305,\n",
       "        2325, 2342, 2369, 2371, 2378, 2380, 2381, 2387, 2393, 2394, 2395,\n",
       "        2404, 2406, 2422, 2425, 2447, 2497, 2507, 2513, 2515, 2525, 2526,\n",
       "        2545, 2556, 2559, 2560, 2573, 2578, 2586, 2607, 2610, 2628, 2631,\n",
       "        2635, 2648, 2654, 2665, 2668, 2670, 2684, 2695, 2713, 2715, 2730,\n",
       "        2740, 2751, 2756, 2770, 2771, 2780, 2810, 2820, 2832, 2836, 2850,\n",
       "        2851, 2863, 2866, 2896, 2901, 2906, 2907, 2914, 2921, 2925, 2927,\n",
       "        2945, 2953, 2970, 2990, 2995, 2998, 3005, 3060, 3061, 3062, 3069,\n",
       "        3073, 3102, 3114, 3117, 3130, 3132, 3133, 3136, 3145, 3160, 3166,\n",
       "        3167, 3189, 3193, 3206, 3225, 3240, 3269, 3316, 3329, 3330, 3333,\n",
       "        3336, 3369, 3376, 3381, 3392, 3394, 3405, 3422, 3426, 3436, 3437,\n",
       "        3450, 3475, 3490, 3503, 3520, 3533, 3534, 3543, 3549, 3558, 3567,\n",
       "        3573, 3578, 3597, 3629, 3664, 3687, 3702, 3716, 3718, 3726, 3730,\n",
       "        3732, 3751, 3763, 3767, 3769, 3776, 3778, 3780, 3796, 3801, 3806,\n",
       "        3808, 3811, 3817, 3818, 3820, 3821, 3836, 3838, 3839, 3846, 3848,\n",
       "        3853, 3855, 3859, 3862, 3869, 3884, 3893, 3902, 3906, 3924, 3926,\n",
       "        3941, 3943, 3954, 3962, 3985, 4000, 4002, 4017, 4018, 4059, 4063,\n",
       "        4065, 4068, 4072, 4075, 4078, 4093, 4111, 4131, 4140, 4152, 4159,\n",
       "        4163, 4176, 4199, 4203, 4205, 4211, 4212, 4224, 4228, 4238, 4239,\n",
       "        4248, 4255, 4263, 4265, 4271, 4272, 4289, 4297, 4300, 4301, 4302,\n",
       "        4306, 4313, 4315, 4317, 4344, 4355, 4356, 4374, 4391, 4405, 4419,\n",
       "        4423, 4425, 4433, 4435, 4449, 4451, 4477, 4497, 4498, 4500, 4505,\n",
       "        4540, 4567, 4571, 4575, 4601, 4605, 4615, 4639, 4681, 4699, 4731,\n",
       "        4735, 4740, 4751, 4763, 4777, 4785, 4807, 4808, 4814, 4823, 4837,\n",
       "        4852, 4863, 4874, 4879, 4880, 4886, 4890, 4896, 4910, 4943, 4950,\n",
       "        4956, 4966, 4978, 4990, 5001, 5009, 5020, 5038, 5046, 5065, 5067,\n",
       "        5068, 5078, 5100, 5135, 5140, 5143, 5176, 5183, 5246, 5288, 5298,\n",
       "        5299, 5331, 5559, 5560, 5561, 5562, 5600, 5601, 5611, 5620, 5642,\n",
       "        5644, 5647, 5649, 5653, 5654, 5678, 5683, 5688, 5690, 5714, 5734,\n",
       "        5749, 5769, 5771, 5801, 5821, 5824, 5835, 5842, 5851, 5858, 5862,\n",
       "        5866, 5871, 5874, 5887, 5888, 5891, 5906, 5912, 5913, 5922, 5926,\n",
       "        5936, 5937, 5938, 5948, 5955, 5957, 5972, 5973, 5981, 5982, 5985,\n",
       "        5997, 6002, 6023, 6042, 6059, 6065, 6071, 6081, 6091, 6093, 6109,\n",
       "        6111, 6157, 6165, 6166, 6172, 6173, 6324, 6347, 6385, 6390, 6391,\n",
       "        6392, 6421, 6426, 6428, 6494, 6505, 6517, 6555, 6560, 6561, 6568,\n",
       "        6569, 6571, 6574, 6576, 6577, 6578, 6592, 6597, 6598, 6603, 6608,\n",
       "        6625, 6641, 6642, 6651, 6706, 6721, 6740, 6744, 6746, 6755, 6768,\n",
       "        6769, 6775, 6784, 6785, 6793, 6796, 6847, 6870, 6872, 6895, 6919,\n",
       "        6926, 6981, 7049, 7094, 7121, 7130, 7153, 7212, 7216, 7220, 7233,\n",
       "        7241, 7432, 7434, 7451, 7459, 7476, 7492, 7498, 7539, 7541, 7542,\n",
       "        7579, 7724, 7764, 7779, 7797, 7800, 7821, 7826, 7839, 7842, 7847,\n",
       "        7850, 7856, 7857, 7858, 7859, 7886, 7888, 7899, 7900, 7917, 7918,\n",
       "        7920, 7928, 7945, 7946, 8010, 8020, 8044, 8050, 8062, 8072, 8081,\n",
       "        8091, 8094, 8095, 8115, 8165, 8246, 8272, 8276, 8277, 8279, 8288,\n",
       "        8298, 8332, 8339, 8353, 8408, 8410, 8453, 8507, 8520, 8522, 8523,\n",
       "        8553, 8684, 9007, 9008, 9009, 9010, 9013, 9015, 9019, 9024, 9026,\n",
       "        9031, 9036, 9044, 9045, 9141, 9211, 9317, 9342, 9398, 9433, 9446,\n",
       "        9522, 9534, 9538, 9560, 9587, 9614, 9624, 9634, 9642, 9662, 9664,\n",
       "        9680, 9692, 9697, 9698, 9700, 9716, 9719, 9729, 9734, 9744, 9745,\n",
       "        9749, 9752, 9768, 9770, 9777, 9779, 9792, 9808, 9811, 9817, 9832,\n",
       "        9839, 9840, 9856, 9863, 9867, 9879, 9883, 9888, 9890, 9893, 9905,\n",
       "        9925, 9941, 9943, 9944, 9953, 9970, 9975, 9982, 9986, 9992]),)"
      ]
     },
     "execution_count": 16,
     "metadata": {},
     "output_type": "execute_result"
    }
   ],
   "source": [
    "np.where(predictions - test_out != 0)"
   ]
  },
  {
   "cell_type": "code",
   "execution_count": 17,
   "metadata": {},
   "outputs": [
    {
     "data": {
      "image/png": "[encoded data removed]",
      "text/plain": [
       "<Figure size 432x288 with 1 Axes>"
      ]
     },
     "metadata": {
      "needs_background": "light"
     },
     "output_type": "display_data"
    },
    {
     "name": "stdout",
     "output_type": "stream",
     "text": [
      "Proposed: 8\n",
      "True: 9\n"
     ]
    }
   ],
   "source": [
    "show_image(test_in[241])\n",
    "print(\"Proposed:\", predictions[241])\n",
    "print(\"True:\", test_out[241])"
   ]
  },
  {
   "cell_type": "markdown",
   "metadata": {},
   "source": [
    "---"
   ]
  },
  {
   "cell_type": "markdown",
   "metadata": {},
   "source": [
    "# Automatic training with Keras function"
   ]
  },
  {
   "cell_type": "code",
   "execution_count": 18,
   "metadata": {},
   "outputs": [
    {
     "name": "stdout",
     "output_type": "stream",
     "text": [
      "_________________________________________________________________\n",
      "Layer (type)                 Output Shape              Param #   \n",
      "=================================================================\n",
      "conv2d_3 (Conv2D)            (None, 28, 28, 8)         208       \n",
      "_________________________________________________________________\n",
      "average_pooling2d_3 (Average (None, 14, 14, 8)         0         \n",
      "_________________________________________________________________\n",
      "conv2d_4 (Conv2D)            (None, 14, 14, 8)         1608      \n",
      "_________________________________________________________________\n",
      "average_pooling2d_4 (Average (None, 7, 7, 8)           0         \n",
      "_________________________________________________________________\n",
      "flatten_2 (Flatten)          (None, 392)               0         \n",
      "_________________________________________________________________\n",
      "dense_2 (Dense)              (None, 10)                3930      \n",
      "=================================================================\n",
      "Total params: 5,746\n",
      "Trainable params: 5,746\n",
      "Non-trainable params: 0\n",
      "_________________________________________________________________\n"
     ]
    }
   ],
   "source": [
    "net = create_net()"
   ]
  },
  {
   "cell_type": "code",
   "execution_count": 19,
   "metadata": {},
   "outputs": [
    {
     "name": "stdout",
     "output_type": "stream",
     "text": [
      "Train on 45000 samples, validate on 5000 samples\n",
      "Epoch 1/10\n",
      "45000/45000 [==============================] - 9s 202us/step - loss: 0.5458 - categorical_accuracy: 0.8437 - val_loss: 0.2460 - val_categorical_accuracy: 0.9292\n",
      "Epoch 2/10\n",
      "45000/45000 [==============================] - 10s 219us/step - loss: 0.1934 - categorical_accuracy: 0.9434 - val_loss: 0.1800 - val_categorical_accuracy: 0.9464\n",
      "Epoch 3/10\n",
      "45000/45000 [==============================] - 9s 209us/step - loss: 0.1430 - categorical_accuracy: 0.9576 - val_loss: 0.1409 - val_categorical_accuracy: 0.9586\n",
      "Epoch 4/10\n",
      "45000/45000 [==============================] - 9s 208us/step - loss: 0.1187 - categorical_accuracy: 0.9653 - val_loss: 0.1269 - val_categorical_accuracy: 0.9614\n",
      "Epoch 5/10\n",
      "45000/45000 [==============================] - 10s 214us/step - loss: 0.1016 - categorical_accuracy: 0.9696 - val_loss: 0.1220 - val_categorical_accuracy: 0.9634\n",
      "Epoch 6/10\n",
      "45000/45000 [==============================] - 10s 212us/step - loss: 0.0901 - categorical_accuracy: 0.9730 - val_loss: 0.1135 - val_categorical_accuracy: 0.9686\n",
      "Epoch 7/10\n",
      "45000/45000 [==============================] - 10s 213us/step - loss: 0.0802 - categorical_accuracy: 0.9763 - val_loss: 0.1057 - val_categorical_accuracy: 0.9672\n",
      "Epoch 8/10\n",
      "45000/45000 [==============================] - 10s 228us/step - loss: 0.0743 - categorical_accuracy: 0.9776 - val_loss: 0.1054 - val_categorical_accuracy: 0.9682\n",
      "Epoch 9/10\n",
      "44700/45000 [============================>.] - ETA: 0s - loss: 0.0687 - categorical_accuracy: 0.9792"
     ]
    },
    {
     "ename": "KeyboardInterrupt",
     "evalue": "",
     "output_type": "error",
     "traceback": [
      "\u001b[0;31m---------------------------------------------------------------------------\u001b[0m",
      "\u001b[0;31mKeyboardInterrupt\u001b[0m                         Traceback (most recent call last)",
      "\u001b[0;32m<ipython-input-19-45d86ff56554>\u001b[0m in \u001b[0;36m<module>\u001b[0;34m\u001b[0m\n\u001b[1;32m      3\u001b[0m                   \u001b[0mbatch_size\u001b[0m\u001b[0;34m=\u001b[0m\u001b[0;36m100\u001b[0m\u001b[0;34m,\u001b[0m\u001b[0;34m\u001b[0m\u001b[0m\n\u001b[1;32m      4\u001b[0m                  \u001b[0mepochs\u001b[0m\u001b[0;34m=\u001b[0m\u001b[0;36m10\u001b[0m\u001b[0;34m,\u001b[0m\u001b[0;34m\u001b[0m\u001b[0m\n\u001b[0;32m----> 5\u001b[0;31m                  validation_split=0.1)\n\u001b[0m",
      "\u001b[0;32m/usr/local/lib/python3.6/site-packages/keras/engine/training.py\u001b[0m in \u001b[0;36mfit\u001b[0;34m(self, x, y, batch_size, epochs, verbose, callbacks, validation_split, validation_data, shuffle, class_weight, sample_weight, initial_epoch, steps_per_epoch, validation_steps, **kwargs)\u001b[0m\n\u001b[1;32m   1037\u001b[0m                                         \u001b[0minitial_epoch\u001b[0m\u001b[0;34m=\u001b[0m\u001b[0minitial_epoch\u001b[0m\u001b[0;34m,\u001b[0m\u001b[0;34m\u001b[0m\u001b[0m\n\u001b[1;32m   1038\u001b[0m                                         \u001b[0msteps_per_epoch\u001b[0m\u001b[0;34m=\u001b[0m\u001b[0msteps_per_epoch\u001b[0m\u001b[0;34m,\u001b[0m\u001b[0;34m\u001b[0m\u001b[0m\n\u001b[0;32m-> 1039\u001b[0;31m                                         validation_steps=validation_steps)\n\u001b[0m\u001b[1;32m   1040\u001b[0m \u001b[0;34m\u001b[0m\u001b[0m\n\u001b[1;32m   1041\u001b[0m     def evaluate(self, x=None, y=None,\n",
      "\u001b[0;32m/usr/local/lib/python3.6/site-packages/keras/engine/training_arrays.py\u001b[0m in \u001b[0;36mfit_loop\u001b[0;34m(model, f, ins, out_labels, batch_size, epochs, verbose, callbacks, val_f, val_ins, shuffle, callback_metrics, initial_epoch, steps_per_epoch, validation_steps)\u001b[0m\n\u001b[1;32m    210\u001b[0m                         val_outs = test_loop(model, val_f, val_ins,\n\u001b[1;32m    211\u001b[0m                                              \u001b[0mbatch_size\u001b[0m\u001b[0;34m=\u001b[0m\u001b[0mbatch_size\u001b[0m\u001b[0;34m,\u001b[0m\u001b[0;34m\u001b[0m\u001b[0m\n\u001b[0;32m--> 212\u001b[0;31m                                              verbose=0)\n\u001b[0m\u001b[1;32m    213\u001b[0m                         \u001b[0mval_outs\u001b[0m \u001b[0;34m=\u001b[0m \u001b[0mto_list\u001b[0m\u001b[0;34m(\u001b[0m\u001b[0mval_outs\u001b[0m\u001b[0;34m)\u001b[0m\u001b[0;34m\u001b[0m\u001b[0m\n\u001b[1;32m    214\u001b[0m                         \u001b[0;31m# Same labels assumed.\u001b[0m\u001b[0;34m\u001b[0m\u001b[0;34m\u001b[0m\u001b[0m\n",
      "\u001b[0;32m/usr/local/lib/python3.6/site-packages/keras/engine/training_arrays.py\u001b[0m in \u001b[0;36mtest_loop\u001b[0;34m(model, f, ins, batch_size, verbose, steps)\u001b[0m\n\u001b[1;32m    390\u001b[0m                 \u001b[0mins_batch\u001b[0m\u001b[0;34m[\u001b[0m\u001b[0mi\u001b[0m\u001b[0;34m]\u001b[0m \u001b[0;34m=\u001b[0m \u001b[0mins_batch\u001b[0m\u001b[0;34m[\u001b[0m\u001b[0mi\u001b[0m\u001b[0;34m]\u001b[0m\u001b[0;34m.\u001b[0m\u001b[0mtoarray\u001b[0m\u001b[0;34m(\u001b[0m\u001b[0;34m)\u001b[0m\u001b[0;34m\u001b[0m\u001b[0m\n\u001b[1;32m    391\u001b[0m \u001b[0;34m\u001b[0m\u001b[0m\n\u001b[0;32m--> 392\u001b[0;31m             \u001b[0mbatch_outs\u001b[0m \u001b[0;34m=\u001b[0m \u001b[0mf\u001b[0m\u001b[0;34m(\u001b[0m\u001b[0mins_batch\u001b[0m\u001b[0;34m)\u001b[0m\u001b[0;34m\u001b[0m\u001b[0m\n\u001b[0m\u001b[1;32m    393\u001b[0m             \u001b[0;32mif\u001b[0m \u001b[0misinstance\u001b[0m\u001b[0;34m(\u001b[0m\u001b[0mbatch_outs\u001b[0m\u001b[0;34m,\u001b[0m \u001b[0mlist\u001b[0m\u001b[0;34m)\u001b[0m\u001b[0;34m:\u001b[0m\u001b[0;34m\u001b[0m\u001b[0m\n\u001b[1;32m    394\u001b[0m                 \u001b[0;32mif\u001b[0m \u001b[0mbatch_index\u001b[0m \u001b[0;34m==\u001b[0m \u001b[0;36m0\u001b[0m\u001b[0;34m:\u001b[0m\u001b[0;34m\u001b[0m\u001b[0m\n",
      "\u001b[0;32m/usr/local/lib/python3.6/site-packages/keras/backend/tensorflow_backend.py\u001b[0m in \u001b[0;36m__call__\u001b[0;34m(self, inputs)\u001b[0m\n\u001b[1;32m   2719\u001b[0m                     \u001b[0;34m'In order to feed symbolic tensors to a Keras model '\u001b[0m\u001b[0;34m\u001b[0m\u001b[0m\n\u001b[1;32m   2720\u001b[0m                     'in TensorFlow, you need tensorflow 1.8 or higher.')\n\u001b[0;32m-> 2721\u001b[0;31m             \u001b[0;32mreturn\u001b[0m \u001b[0mself\u001b[0m\u001b[0;34m.\u001b[0m\u001b[0m_legacy_call\u001b[0m\u001b[0;34m(\u001b[0m\u001b[0minputs\u001b[0m\u001b[0;34m)\u001b[0m\u001b[0;34m\u001b[0m\u001b[0m\n\u001b[0m\u001b[1;32m   2722\u001b[0m \u001b[0;34m\u001b[0m\u001b[0m\n\u001b[1;32m   2723\u001b[0m \u001b[0;34m\u001b[0m\u001b[0m\n",
      "\u001b[0;32m/usr/local/lib/python3.6/site-packages/keras/backend/tensorflow_backend.py\u001b[0m in \u001b[0;36m_legacy_call\u001b[0;34m(self, inputs)\u001b[0m\n\u001b[1;32m   2691\u001b[0m         \u001b[0msession\u001b[0m \u001b[0;34m=\u001b[0m \u001b[0mget_session\u001b[0m\u001b[0;34m(\u001b[0m\u001b[0;34m)\u001b[0m\u001b[0;34m\u001b[0m\u001b[0m\n\u001b[1;32m   2692\u001b[0m         updated = session.run(fetches=fetches, feed_dict=feed_dict,\n\u001b[0;32m-> 2693\u001b[0;31m                               **self.session_kwargs)\n\u001b[0m\u001b[1;32m   2694\u001b[0m         \u001b[0;32mreturn\u001b[0m \u001b[0mupdated\u001b[0m\u001b[0;34m[\u001b[0m\u001b[0;34m:\u001b[0m\u001b[0mlen\u001b[0m\u001b[0;34m(\u001b[0m\u001b[0mself\u001b[0m\u001b[0;34m.\u001b[0m\u001b[0moutputs\u001b[0m\u001b[0;34m)\u001b[0m\u001b[0;34m]\u001b[0m\u001b[0;34m\u001b[0m\u001b[0m\n\u001b[1;32m   2695\u001b[0m \u001b[0;34m\u001b[0m\u001b[0m\n",
      "\u001b[0;32m/usr/local/lib/python3.6/site-packages/tensorflow/python/client/session.py\u001b[0m in \u001b[0;36mrun\u001b[0;34m(self, fetches, feed_dict, options, run_metadata)\u001b[0m\n\u001b[1;32m    893\u001b[0m     \u001b[0;32mtry\u001b[0m\u001b[0;34m:\u001b[0m\u001b[0;34m\u001b[0m\u001b[0m\n\u001b[1;32m    894\u001b[0m       result = self._run(None, fetches, feed_dict, options_ptr,\n\u001b[0;32m--> 895\u001b[0;31m                          run_metadata_ptr)\n\u001b[0m\u001b[1;32m    896\u001b[0m       \u001b[0;32mif\u001b[0m \u001b[0mrun_metadata\u001b[0m\u001b[0;34m:\u001b[0m\u001b[0;34m\u001b[0m\u001b[0m\n\u001b[1;32m    897\u001b[0m         \u001b[0mproto_data\u001b[0m \u001b[0;34m=\u001b[0m \u001b[0mtf_session\u001b[0m\u001b[0;34m.\u001b[0m\u001b[0mTF_GetBuffer\u001b[0m\u001b[0;34m(\u001b[0m\u001b[0mrun_metadata_ptr\u001b[0m\u001b[0;34m)\u001b[0m\u001b[0;34m\u001b[0m\u001b[0m\n",
      "\u001b[0;32m/usr/local/lib/python3.6/site-packages/tensorflow/python/client/session.py\u001b[0m in \u001b[0;36m_run\u001b[0;34m(self, handle, fetches, feed_dict, options, run_metadata)\u001b[0m\n\u001b[1;32m   1126\u001b[0m     \u001b[0;32mif\u001b[0m \u001b[0mfinal_fetches\u001b[0m \u001b[0;32mor\u001b[0m \u001b[0mfinal_targets\u001b[0m \u001b[0;32mor\u001b[0m \u001b[0;34m(\u001b[0m\u001b[0mhandle\u001b[0m \u001b[0;32mand\u001b[0m \u001b[0mfeed_dict_tensor\u001b[0m\u001b[0;34m)\u001b[0m\u001b[0;34m:\u001b[0m\u001b[0;34m\u001b[0m\u001b[0m\n\u001b[1;32m   1127\u001b[0m       results = self._do_run(handle, final_targets, final_fetches,\n\u001b[0;32m-> 1128\u001b[0;31m                              feed_dict_tensor, options, run_metadata)\n\u001b[0m\u001b[1;32m   1129\u001b[0m     \u001b[0;32melse\u001b[0m\u001b[0;34m:\u001b[0m\u001b[0;34m\u001b[0m\u001b[0m\n\u001b[1;32m   1130\u001b[0m       \u001b[0mresults\u001b[0m \u001b[0;34m=\u001b[0m \u001b[0;34m[\u001b[0m\u001b[0;34m]\u001b[0m\u001b[0;34m\u001b[0m\u001b[0m\n",
      "\u001b[0;32m/usr/local/lib/python3.6/site-packages/tensorflow/python/client/session.py\u001b[0m in \u001b[0;36m_do_run\u001b[0;34m(self, handle, target_list, fetch_list, feed_dict, options, run_metadata)\u001b[0m\n\u001b[1;32m   1342\u001b[0m     \u001b[0;32mif\u001b[0m \u001b[0mhandle\u001b[0m \u001b[0;32mis\u001b[0m \u001b[0;32mNone\u001b[0m\u001b[0;34m:\u001b[0m\u001b[0;34m\u001b[0m\u001b[0m\n\u001b[1;32m   1343\u001b[0m       return self._do_call(_run_fn, self._session, feeds, fetches, targets,\n\u001b[0;32m-> 1344\u001b[0;31m                            options, run_metadata)\n\u001b[0m\u001b[1;32m   1345\u001b[0m     \u001b[0;32melse\u001b[0m\u001b[0;34m:\u001b[0m\u001b[0;34m\u001b[0m\u001b[0m\n\u001b[1;32m   1346\u001b[0m       \u001b[0;32mreturn\u001b[0m \u001b[0mself\u001b[0m\u001b[0;34m.\u001b[0m\u001b[0m_do_call\u001b[0m\u001b[0;34m(\u001b[0m\u001b[0m_prun_fn\u001b[0m\u001b[0;34m,\u001b[0m \u001b[0mself\u001b[0m\u001b[0;34m.\u001b[0m\u001b[0m_session\u001b[0m\u001b[0;34m,\u001b[0m \u001b[0mhandle\u001b[0m\u001b[0;34m,\u001b[0m \u001b[0mfeeds\u001b[0m\u001b[0;34m,\u001b[0m \u001b[0mfetches\u001b[0m\u001b[0;34m)\u001b[0m\u001b[0;34m\u001b[0m\u001b[0m\n",
      "\u001b[0;32m/usr/local/lib/python3.6/site-packages/tensorflow/python/client/session.py\u001b[0m in \u001b[0;36m_do_call\u001b[0;34m(self, fn, *args)\u001b[0m\n\u001b[1;32m   1348\u001b[0m   \u001b[0;32mdef\u001b[0m \u001b[0m_do_call\u001b[0m\u001b[0;34m(\u001b[0m\u001b[0mself\u001b[0m\u001b[0;34m,\u001b[0m \u001b[0mfn\u001b[0m\u001b[0;34m,\u001b[0m \u001b[0;34m*\u001b[0m\u001b[0margs\u001b[0m\u001b[0;34m)\u001b[0m\u001b[0;34m:\u001b[0m\u001b[0;34m\u001b[0m\u001b[0m\n\u001b[1;32m   1349\u001b[0m     \u001b[0;32mtry\u001b[0m\u001b[0;34m:\u001b[0m\u001b[0;34m\u001b[0m\u001b[0m\n\u001b[0;32m-> 1350\u001b[0;31m       \u001b[0;32mreturn\u001b[0m \u001b[0mfn\u001b[0m\u001b[0;34m(\u001b[0m\u001b[0;34m*\u001b[0m\u001b[0margs\u001b[0m\u001b[0;34m)\u001b[0m\u001b[0;34m\u001b[0m\u001b[0m\n\u001b[0m\u001b[1;32m   1351\u001b[0m     \u001b[0;32mexcept\u001b[0m \u001b[0merrors\u001b[0m\u001b[0;34m.\u001b[0m\u001b[0mOpError\u001b[0m \u001b[0;32mas\u001b[0m \u001b[0me\u001b[0m\u001b[0;34m:\u001b[0m\u001b[0;34m\u001b[0m\u001b[0m\n\u001b[1;32m   1352\u001b[0m       \u001b[0mmessage\u001b[0m \u001b[0;34m=\u001b[0m \u001b[0mcompat\u001b[0m\u001b[0;34m.\u001b[0m\u001b[0mas_text\u001b[0m\u001b[0;34m(\u001b[0m\u001b[0me\u001b[0m\u001b[0;34m.\u001b[0m\u001b[0mmessage\u001b[0m\u001b[0;34m)\u001b[0m\u001b[0;34m\u001b[0m\u001b[0m\n",
      "\u001b[0;32m/usr/local/lib/python3.6/site-packages/tensorflow/python/client/session.py\u001b[0m in \u001b[0;36m_run_fn\u001b[0;34m(session, feed_dict, fetch_list, target_list, options, run_metadata)\u001b[0m\n\u001b[1;32m   1327\u001b[0m           return tf_session.TF_Run(session, options,\n\u001b[1;32m   1328\u001b[0m                                    \u001b[0mfeed_dict\u001b[0m\u001b[0;34m,\u001b[0m \u001b[0mfetch_list\u001b[0m\u001b[0;34m,\u001b[0m \u001b[0mtarget_list\u001b[0m\u001b[0;34m,\u001b[0m\u001b[0;34m\u001b[0m\u001b[0m\n\u001b[0;32m-> 1329\u001b[0;31m                                    status, run_metadata)\n\u001b[0m\u001b[1;32m   1330\u001b[0m \u001b[0;34m\u001b[0m\u001b[0m\n\u001b[1;32m   1331\u001b[0m     \u001b[0;32mdef\u001b[0m \u001b[0m_prun_fn\u001b[0m\u001b[0;34m(\u001b[0m\u001b[0msession\u001b[0m\u001b[0;34m,\u001b[0m \u001b[0mhandle\u001b[0m\u001b[0;34m,\u001b[0m \u001b[0mfeed_dict\u001b[0m\u001b[0;34m,\u001b[0m \u001b[0mfetch_list\u001b[0m\u001b[0;34m)\u001b[0m\u001b[0;34m:\u001b[0m\u001b[0;34m\u001b[0m\u001b[0m\n",
      "\u001b[0;31mKeyboardInterrupt\u001b[0m: "
     ]
    }
   ],
   "source": [
    "history = net.fit(training_in, \n",
    "                  training_out_HOT, \n",
    "                  batch_size=100,\n",
    "                 epochs=10,\n",
    "                 validation_split=0.1)"
   ]
  },
  {
   "cell_type": "markdown",
   "metadata": {},
   "source": [
    "Show the difference between categorical accuracy calculated on the training dataset itself and on the validation set."
   ]
  },
  {
   "cell_type": "code",
   "execution_count": null,
   "metadata": {},
   "outputs": [],
   "source": [
    "fig = plt.figure()\n",
    "plt.plot(history.history['categorical_accuracy'], linewidth = 3, label=\"Training accuracy\")\n",
    "plt.plot(history.history['val_categorical_accuracy'], linewidth=3,  label=\"Validation accuracy\")\n",
    "plt.legend()\n",
    "plt.show()"
   ]
  },
  {
   "cell_type": "markdown",
   "metadata": {},
   "source": [
    "The actual accuracy is lower than what you get on the training set itself."
   ]
  },
  {
   "cell_type": "markdown",
   "metadata": {},
   "source": [
    "---"
   ]
  },
  {
   "cell_type": "markdown",
   "metadata": {},
   "source": [
    "# Add noise to the dataset\n",
    "Test prediction of the network on a noisy test dataset.\n"
   ]
  },
  {
   "cell_type": "code",
   "execution_count": 63,
   "metadata": {},
   "outputs": [],
   "source": [
    "test_in = test_in.reshape([-1,N_pixels])"
   ]
  },
  {
   "cell_type": "code",
   "execution_count": 64,
   "metadata": {},
   "outputs": [],
   "source": [
    "val_noise = np.random.uniform(low=-0.4, high=0.4, size=[N_test,N_pixels])\n",
    "bool_noise = np.random.uniform(low=0, high=1, size=[N_test,N_pixels])\n",
    "\n",
    "test_in[bool_noise>0.5] = np.maximum(np.minimum(test_in[bool_noise>0.5] + val_noise[bool_noise>0.5],1),0)"
   ]
  },
  {
   "cell_type": "code",
   "execution_count": 66,
   "metadata": {},
   "outputs": [
    {
     "data": {
      "image/png": "[encoded data removed]",
      "text/plain": [
       "<Figure size 432x288 with 1 Axes>"
      ]
     },
     "metadata": {
      "needs_background": "light"
     },
     "output_type": "display_data"
    }
   ],
   "source": [
    "show_image(test_in[3])"
   ]
  },
  {
   "cell_type": "markdown",
   "metadata": {},
   "source": [
    "Accuracy on a noisy dataset"
   ]
  },
  {
   "cell_type": "code",
   "execution_count": 68,
   "metadata": {},
   "outputs": [
    {
     "name": "stdout",
     "output_type": "stream",
     "text": [
      "90.66\n"
     ]
    }
   ],
   "source": [
    "test_in = test_in.reshape([-1,N_width,N_width,1])\n",
    "predictions = np.argmax(net.predict_on_batch(test_in),axis=1)\n",
    "errors = np.count_nonzero(predictions- test_out)\n",
    "accuracy = (1- errors/N_test)*100\n",
    "print(accuracy)"
   ]
  },
  {
   "cell_type": "markdown",
   "metadata": {},
   "source": [
    "---"
   ]
  },
  {
   "cell_type": "markdown",
   "metadata": {},
   "source": [
    "# Delete the half of the picture"
   ]
  },
  {
   "cell_type": "code",
   "execution_count": 69,
   "metadata": {},
   "outputs": [],
   "source": [
    "test_in[:,:,int(N_width/2):,0] = 0"
   ]
  },
  {
   "cell_type": "code",
   "execution_count": 70,
   "metadata": {},
   "outputs": [
    {
     "data": {
      "image/png": "[encoded data removed]",
      "text/plain": [
       "<Figure size 432x288 with 1 Axes>"
      ]
     },
     "metadata": {
      "needs_background": "light"
     },
     "output_type": "display_data"
    }
   ],
   "source": [
    "show_image(test_in[3])"
   ]
  },
  {
   "cell_type": "code",
   "execution_count": 71,
   "metadata": {},
   "outputs": [
    {
     "name": "stdout",
     "output_type": "stream",
     "text": [
      "58.489999999999995\n"
     ]
    }
   ],
   "source": [
    "test_in = test_in.reshape([-1,N_width,N_width,1])\n",
    "predictions = np.argmax(net.predict_on_batch(test_in),axis=1)\n",
    "errors = np.count_nonzero(predictions- test_out)\n",
    "accuracy = (1- errors/N_test)*100\n",
    "print(accuracy)"
   ]
  },
  {
   "cell_type": "markdown",
   "metadata": {},
   "source": [
    "The accuracy is still high, considering that the probability of guessing one digit out of ten possibilities is 1/10."
   ]
  }
 ],
 "metadata": {
  "kernelspec": {
   "display_name": "Python 3",
   "language": "python",
   "name": "python3"
  },
  "language_info": {
   "codemirror_mode": {
    "name": "ipython",
    "version": 3
   },
   "file_extension": ".py",
   "mimetype": "text/x-python",
   "name": "python",
   "nbconvert_exporter": "python",
   "pygments_lexer": "ipython3",
   "version": "3.6.5"
  },
  "toc": {
   "base_numbering": 1,
   "nav_menu": {},
   "number_sections": true,
   "sideBar": true,
   "skip_h1_title": false,
   "title_cell": "Table of Contents",
   "title_sidebar": "Contents",
   "toc_cell": false,
   "toc_position": {},
   "toc_section_display": true,
   "toc_window_display": false
  }
 },
 "nbformat": 4,
 "nbformat_minor": 2
}
