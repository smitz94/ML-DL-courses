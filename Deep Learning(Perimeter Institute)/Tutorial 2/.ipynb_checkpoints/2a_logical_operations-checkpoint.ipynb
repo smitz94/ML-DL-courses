{
 "cells": [
  {
   "cell_type": "markdown",
   "metadata": {},
   "source": [
    "The output of an artificial neuron with input $x_1$ and $x_2$ is\n",
    "\\begin{equation}\n",
    " y = f(\\mathbf{w} \\cdot \\mathbf{x} + b)\n",
    "\\end{equation}\n",
    "where $f$ is the activation function and $\\mathbf{w} \\cdot \\mathbf{x} = w_1 x_1 + w_2 x_2$."
   ]
  },
  {
   "cell_type": "markdown",
   "metadata": {},
   "source": [
    "# AND operation\n",
    "\n",
    "| Input   | Output|     \n",
    "|---------|-------|\n",
    "| 00 | 0 |\n",
    "| 01 | 0 |\n",
    "| 10 | 0 |\n",
    "| 11 | 1 |\n",
    "\n",
    "We consider an artificial neuron with a sigmoid activation function. In the limit $w \\gg 1$, and with $b=-w \\frac{3}{2}$, we get the desired output."
   ]
  },
  {
   "cell_type": "code",
   "execution_count": null,
   "metadata": {},
   "outputs": [],
   "source": []
  },
  {
   "cell_type": "markdown",
   "metadata": {},
   "source": [
    "# OR operation\n",
    "\n",
    "| Input   | Output|     \n",
    "|---------|-------|\n",
    "| 00 | 0 |\n",
    "| 01 | 1 |\n",
    "| 10 | 1 |\n",
    "| 11 | 1 |\n",
    "\n",
    "We consider an artificial neuron with a sigmoid activation function. In the limit $w \\gg 1$, and with $b=-w\\frac{1}{2}$, we get the desired output.\n"
   ]
  },
  {
   "cell_type": "markdown",
   "metadata": {},
   "source": [
    "# NOT operation\n",
    "\n",
    "| Input   | Output|     \n",
    "|---------|-------|\n",
    "| 0 | 1 |\n",
    "| 1 | 0 |\n",
    "\n",
    "We consider an artificial neuron with a sigmoid activation function. In the limit $w \\ll -1$, and with $b=-w\\frac{1}{2}$, we get the desired output.\n"
   ]
  },
  {
   "cell_type": "markdown",
   "metadata": {},
   "source": [
    "# XOR operation\n",
    "\n",
    "| Input   | Output|     \n",
    "|---------|-------|\n",
    "| 00 | 0 |\n",
    "| 01 | 1 |\n",
    "| 10 | 1 |\n",
    "| 11 | 0 |\n",
    "\n",
    "In this case we decompose the operation in two layers: $A\\bar{B} + \\bar{A}B$, keeping in mind that logical multiplication is $\\text{AND}$ and logical sum is $\\text{OR}$. In other words, we have two $\\text{AND}$ neurons in the first layer and one $\\text{OR}$ neuron in the second layer.\n",
    "\n",
    "To implement the first operation, $A\\bar{B}$, we consider an artificial neuron with a sigmoid activation function. In the limit $w \\gg 1$, we choose $w_1=w$, $w_2=-w$ and $b=-w\\frac{1}{2}$.\n",
    "\n",
    "To implement the second operation, $\\bar{A}B$, we consider an artificial neuron with a sigmoid activation function. In the limit $w \\gg 1$, we choose $w_1=-w$, $w_2=w$ and $b=-w\\frac{1}{2}$.\n",
    "\n",
    "By combining the two outputs with an $\\text{OR}$ neuron, we get the desired output."
   ]
  }
 ],
 "metadata": {
  "kernelspec": {
   "display_name": "Python 3",
   "language": "python",
   "name": "python3"
  },
  "language_info": {
   "codemirror_mode": {
    "name": "ipython",
    "version": 3
   },
   "file_extension": ".py",
   "mimetype": "text/x-python",
   "name": "python",
   "nbconvert_exporter": "python",
   "pygments_lexer": "ipython3",
   "version": "3.7.4"
  },
  "toc": {
   "base_numbering": 1,
   "nav_menu": {},
   "number_sections": true,
   "sideBar": true,
   "skip_h1_title": false,
   "title_cell": "Table of Contents",
   "title_sidebar": "Contents",
   "toc_cell": false,
   "toc_position": {},
   "toc_section_display": true,
   "toc_window_display": false
  }
 },
 "nbformat": 4,
 "nbformat_minor": 2
}
