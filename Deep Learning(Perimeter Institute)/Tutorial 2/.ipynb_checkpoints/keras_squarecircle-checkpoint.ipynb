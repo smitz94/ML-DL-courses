{
 "cells": [
  {
   "cell_type": "markdown",
   "metadata": {},
   "source": [
    "# Import libraries"
   ]
  },
  {
   "cell_type": "code",
   "execution_count": 1,
   "metadata": {},
   "outputs": [],
   "source": [
    "import numpy as np\n",
    "import matplotlib.pyplot as plt\n",
    "%matplotlib inline\n",
    "\n",
    "import tensorflow.keras as K"
   ]
  },
  {
   "cell_type": "markdown",
   "metadata": {},
   "source": [
    "# Create dataset"
   ]
  },
  {
   "cell_type": "code",
   "execution_count": 14,
   "metadata": {},
   "outputs": [],
   "source": [
    "CIRCLE = np.array([1,0])\n",
    "SQUARE = np.array([0,1])\n",
    "\n",
    "image_width = 28\n",
    "\n",
    "def new_batch(N_batch):\n",
    "    y_in = np.zeros([N_batch,image_width**2])\n",
    "    y_res = np.zeros([N_batch,2])\n",
    "    \n",
    "    for k in range(0,N_batch):\n",
    "        cs = np.random.uniform(low=0,high=1)\n",
    "        if cs >= 0.5:\n",
    "            y_in[k] = new_square().reshape(image_width**2)\n",
    "            y_res[k] = SQUARE\n",
    "        else: \n",
    "            y_in[k] = new_circle().reshape(image_width**2)\n",
    "            y_res[k] = CIRCLE\n",
    "            \n",
    "    return y_in, y_res\n",
    "\n",
    "def new_square():\n",
    "    newimage = np.zeros([image_width,image_width])\n",
    "    size = np.random.randint(1,20)\n",
    "    loc = np.random.randint(0, image_width-size, size=2)\n",
    "    \n",
    "    newimage[loc[0]:(loc[0]+size),loc[1]:(loc[1]+size)]=1\n",
    "    \n",
    "    return newimage\n",
    "\n",
    "def new_circle():\n",
    "    newimage = np.zeros([image_width,image_width])\n",
    "    size = np.random.randint(1,13)\n",
    "\n",
    "    m = min(size, image_width-size)\n",
    "    M = max(size, image_width-size)\n",
    "    \n",
    "    loc = np.random.randint(m, M, size=2)\n",
    "        \n",
    "    for i in range(0,image_width):\n",
    "        for j in range(0,image_width):\n",
    "            if np.sqrt((i-loc[0])**2+(j-loc[1])**2)<= size:\n",
    "                newimage[i,j]=1\n",
    "                \n",
    "    return newimage"
   ]
  },
  {
   "cell_type": "markdown",
   "metadata": {},
   "source": [
    "# Define neural network"
   ]
  },
  {
   "cell_type": "code",
   "execution_count": 15,
   "metadata": {},
   "outputs": [],
   "source": [
    "def create_net():\n",
    "    net = K.Sequential()\n",
    "    net.add(K.layers.Dense(30,activation=\"relu\", input_shape=(image_width**2,)))\n",
    "    net.add(K.layers.Dense(2,activation=\"softmax\"))\n",
    "    net.compile(loss=\"categorical_crossentropy\", optimizer=K.optimizers.SGD(lr=1.0), metrics=[\"categorical_accuracy\"])\n",
    "    return net"
   ]
  },
  {
   "cell_type": "code",
   "execution_count": 16,
   "metadata": {},
   "outputs": [],
   "source": [
    "net = create_net()"
   ]
  },
  {
   "cell_type": "markdown",
   "metadata": {},
   "source": [
    "# Train the neural network"
   ]
  },
  {
   "cell_type": "code",
   "execution_count": 17,
   "metadata": {
    "scrolled": true
   },
   "outputs": [
    {
     "name": "stdout",
     "output_type": "stream",
     "text": [
      "Train on 90000 samples, validate on 10000 samples\n",
      "WARNING:tensorflow:From /home/leopoldo/neuralnets/lib/python3.7/site-packages/tensorflow/python/ops/math_ops.py:3066: to_int32 (from tensorflow.python.ops.math_ops) is deprecated and will be removed in a future version.\n",
      "Instructions for updating:\n",
      "Use tf.cast instead.\n",
      "Epoch 1/30\n",
      "90000/90000 [==============================] - 1s 10us/sample - loss: 0.6428 - categorical_accuracy: 0.6192 - val_loss: 0.5704 - val_categorical_accuracy: 0.6710\n",
      "Epoch 2/30\n",
      "90000/90000 [==============================] - 1s 10us/sample - loss: 0.6178 - categorical_accuracy: 0.6396 - val_loss: 0.6702 - val_categorical_accuracy: 0.6126\n",
      "Epoch 3/30\n",
      "90000/90000 [==============================] - 1s 9us/sample - loss: 0.5857 - categorical_accuracy: 0.6631 - val_loss: 0.5290 - val_categorical_accuracy: 0.7232\n",
      "Epoch 4/30\n",
      "90000/90000 [==============================] - 1s 9us/sample - loss: 0.5036 - categorical_accuracy: 0.7348 - val_loss: 0.4792 - val_categorical_accuracy: 0.7640\n",
      "Epoch 5/30\n",
      "90000/90000 [==============================] - 1s 8us/sample - loss: 0.3919 - categorical_accuracy: 0.8103 - val_loss: 0.4180 - val_categorical_accuracy: 0.7969\n",
      "Epoch 6/30\n",
      "90000/90000 [==============================] - 1s 8us/sample - loss: 0.3397 - categorical_accuracy: 0.8500 - val_loss: 0.2214 - val_categorical_accuracy: 0.9079\n",
      "Epoch 7/30\n",
      "90000/90000 [==============================] - 1s 9us/sample - loss: 0.2913 - categorical_accuracy: 0.8715 - val_loss: 0.2240 - val_categorical_accuracy: 0.8861\n",
      "Epoch 8/30\n",
      "90000/90000 [==============================] - 1s 10us/sample - loss: 0.3023 - categorical_accuracy: 0.8653 - val_loss: 0.3907 - val_categorical_accuracy: 0.7960\n",
      "Epoch 9/30\n",
      "90000/90000 [==============================] - 1s 9us/sample - loss: 0.2775 - categorical_accuracy: 0.8667 - val_loss: 0.1625 - val_categorical_accuracy: 0.9418\n",
      "Epoch 10/30\n",
      "90000/90000 [==============================] - 1s 9us/sample - loss: 0.1648 - categorical_accuracy: 0.9404 - val_loss: 0.1566 - val_categorical_accuracy: 0.9385\n",
      "Epoch 11/30\n",
      "90000/90000 [==============================] - 1s 9us/sample - loss: 0.1236 - categorical_accuracy: 0.9557 - val_loss: 0.1430 - val_categorical_accuracy: 0.9441\n",
      "Epoch 12/30\n",
      "90000/90000 [==============================] - 1s 8us/sample - loss: 0.0698 - categorical_accuracy: 0.9770 - val_loss: 0.0296 - val_categorical_accuracy: 0.9908\n",
      "Epoch 13/30\n",
      "90000/90000 [==============================] - 1s 9us/sample - loss: 0.1445 - categorical_accuracy: 0.9375 - val_loss: 0.1672 - val_categorical_accuracy: 0.9131\n",
      "Epoch 14/30\n",
      "90000/90000 [==============================] - 1s 8us/sample - loss: 0.1499 - categorical_accuracy: 0.9328 - val_loss: 0.0691 - val_categorical_accuracy: 0.9744\n",
      "Epoch 15/30\n",
      "90000/90000 [==============================] - 1s 9us/sample - loss: 0.1616 - categorical_accuracy: 0.9316 - val_loss: 0.2318 - val_categorical_accuracy: 0.8576\n",
      "Epoch 16/30\n",
      "90000/90000 [==============================] - 1s 9us/sample - loss: 0.1309 - categorical_accuracy: 0.9384 - val_loss: 0.1971 - val_categorical_accuracy: 0.8895\n",
      "Epoch 17/30\n",
      "90000/90000 [==============================] - 1s 9us/sample - loss: 0.2557 - categorical_accuracy: 0.8718 - val_loss: 0.1114 - val_categorical_accuracy: 0.9468\n",
      "Epoch 18/30\n",
      "90000/90000 [==============================] - 1s 9us/sample - loss: 0.1229 - categorical_accuracy: 0.9527 - val_loss: 0.0539 - val_categorical_accuracy: 0.9854\n",
      "Epoch 19/30\n",
      "90000/90000 [==============================] - 1s 9us/sample - loss: 0.0177 - categorical_accuracy: 0.9952 - val_loss: 0.0128 - val_categorical_accuracy: 0.9972\n",
      "Epoch 20/30\n",
      "90000/90000 [==============================] - 1s 10us/sample - loss: 0.0046 - categorical_accuracy: 0.9994 - val_loss: 0.0084 - val_categorical_accuracy: 0.9983\n",
      "Epoch 21/30\n",
      "90000/90000 [==============================] - 1s 10us/sample - loss: 0.0062 - categorical_accuracy: 0.9992 - val_loss: 0.0047 - val_categorical_accuracy: 0.9994\n",
      "Epoch 22/30\n",
      "90000/90000 [==============================] - 1s 9us/sample - loss: 0.0013 - categorical_accuracy: 1.0000 - val_loss: 0.0039 - val_categorical_accuracy: 0.9994\n",
      "Epoch 23/30\n",
      "90000/90000 [==============================] - 1s 9us/sample - loss: 9.6054e-04 - categorical_accuracy: 1.0000 - val_loss: 0.0036 - val_categorical_accuracy: 0.9994\n",
      "Epoch 24/30\n",
      "90000/90000 [==============================] - 1s 8us/sample - loss: 7.6375e-04 - categorical_accuracy: 1.0000 - val_loss: 0.0035 - val_categorical_accuracy: 0.9995\n",
      "Epoch 25/30\n",
      "90000/90000 [==============================] - 1s 12us/sample - loss: 6.3305e-04 - categorical_accuracy: 1.0000 - val_loss: 0.0034 - val_categorical_accuracy: 0.9995\n",
      "Epoch 26/30\n",
      "90000/90000 [==============================] - 1s 12us/sample - loss: 5.4475e-04 - categorical_accuracy: 1.0000 - val_loss: 0.0033 - val_categorical_accuracy: 0.9995\n",
      "Epoch 27/30\n",
      "90000/90000 [==============================] - 1s 13us/sample - loss: 4.7626e-04 - categorical_accuracy: 1.0000 - val_loss: 0.0032 - val_categorical_accuracy: 0.9995\n",
      "Epoch 28/30\n",
      "90000/90000 [==============================] - 1s 11us/sample - loss: 4.2262e-04 - categorical_accuracy: 1.0000 - val_loss: 0.0031 - val_categorical_accuracy: 0.9994\n",
      "Epoch 29/30\n",
      "90000/90000 [==============================] - 1s 10us/sample - loss: 3.8233e-04 - categorical_accuracy: 1.0000 - val_loss: 0.0031 - val_categorical_accuracy: 0.9994\n",
      "Epoch 30/30\n",
      "90000/90000 [==============================] - 1s 10us/sample - loss: 3.4800e-04 - categorical_accuracy: 1.0000 - val_loss: 0.0030 - val_categorical_accuracy: 0.9994\n"
     ]
    }
   ],
   "source": [
    "N_batch = 100000\n",
    "train_in, train_res = new_batch(N_batch)\n",
    "hist = net.fit(train_in, train_res, batch_size=100, epochs=30, validation_split=0.1)"
   ]
  },
  {
   "cell_type": "code",
   "execution_count": 18,
   "metadata": {},
   "outputs": [
    {
     "data": {
      "image/png": "[encoded data removed]",
      "text/plain": [
       "<Figure size 432x288 with 1 Axes>"
      ]
     },
     "metadata": {
      "needs_background": "light"
     },
     "output_type": "display_data"
    }
   ],
   "source": [
    "fig = plt.figure()\n",
    "plt.plot(hist.history['categorical_accuracy'], linewidth = 3)\n",
    "plt.plot(hist.history['val_categorical_accuracy'], linewidth=3)\n",
    "plt.show()"
   ]
  },
  {
   "cell_type": "markdown",
   "metadata": {},
   "source": [
    "# Analyze the network accuracy"
   ]
  },
  {
   "cell_type": "code",
   "execution_count": 33,
   "metadata": {},
   "outputs": [],
   "source": [
    "def show_image(which):\n",
    "    fig = plt.figure()\n",
    "    plt.imshow(np.reshape(which,[28,28]),interpolation='nearest', cmap='binary')\n",
    "    plt.show()\n",
    "\n",
    "def partial_test(start, stop,show_mistakes=False):\n",
    "    predictions = net.predict_on_batch(test_in[start:stop,:])\n",
    "    predictions_val = np.argmax(predictions,axis = 1)\n",
    "    true_val = np.argmax(test_res[start:stop,:], axis=1)\n",
    "    print(\"Predictions\", predictions_val)\n",
    "    print(\"True labels\", true_val)\n",
    "    \n",
    "    which = np.where(true_val!=predictions_val)[0]\n",
    "\n",
    "    if show_mistakes == 1:\n",
    "        for j in which:\n",
    "            show_image(test_in[j])\n",
    "            print(\"True \", true_val[j], \" - Predicted \", predictions_val[j], \" with prob. \", predictions[j,predictions_val[j]])\n",
    "       \n",
    "\n",
    "    return len(which)/(stop-start)*100"
   ]
  },
  {
   "cell_type": "code",
   "execution_count": 34,
   "metadata": {
    "scrolled": true
   },
   "outputs": [
    {
     "name": "stdout",
     "output_type": "stream",
     "text": [
      "Predictions [1 1 1 ... 0 0 1]\n",
      "True labels [1 1 1 ... 0 0 1]\n"
     ]
    },
    {
     "data": {
      "image/png": "[encoded data removed]",
      "text/plain": [
       "<Figure size 432x288 with 1 Axes>"
      ]
     },
     "metadata": {
      "needs_background": "light"
     },
     "output_type": "display_data"
    },
    {
     "name": "stdout",
     "output_type": "stream",
     "text": [
      "True  0  - Predicted  1  with prob.  0.572051\n"
     ]
    },
    {
     "data": {
      "image/png": "[encoded data removed]",
      "text/plain": [
       "<Figure size 432x288 with 1 Axes>"
      ]
     },
     "metadata": {
      "needs_background": "light"
     },
     "output_type": "display_data"
    },
    {
     "name": "stdout",
     "output_type": "stream",
     "text": [
      "True  0  - Predicted  1  with prob.  0.99994314\n",
      "Accuracy:  99.96 %\n"
     ]
    }
   ],
   "source": [
    "N_test = 5000\n",
    "test_in, test_res = new_batch(N_test)\n",
    "errors = partial_test(0,N_test,1)\n",
    "print(\"Accuracy: \",100.-errors,\"%\")"
   ]
  },
  {
   "cell_type": "code",
   "execution_count": 28,
   "metadata": {},
   "outputs": [
    {
     "data": {
      "image/png": "[encoded data removed]",
      "text/plain": [
       "<Figure size 432x288 with 1 Axes>"
      ]
     },
     "metadata": {
      "needs_background": "light"
     },
     "output_type": "display_data"
    }
   ],
   "source": [
    "show_image(new_square())"
   ]
  },
  {
   "cell_type": "code",
   "execution_count": 32,
   "metadata": {},
   "outputs": [
    {
     "data": {
      "image/png": "[encoded data removed]",
      "text/plain": [
       "<Figure size 432x288 with 1 Axes>"
      ]
     },
     "metadata": {
      "needs_background": "light"
     },
     "output_type": "display_data"
    }
   ],
   "source": [
    "show_image(new_circle())"
   ]
  }
 ],
 "metadata": {
  "kernelspec": {
   "display_name": "Python 3",
   "language": "python",
   "name": "python3"
  },
  "language_info": {
   "codemirror_mode": {
    "name": "ipython",
    "version": 3
   },
   "file_extension": ".py",
   "mimetype": "text/x-python",
   "name": "python",
   "nbconvert_exporter": "python",
   "pygments_lexer": "ipython3",
   "version": "3.7.4"
  }
 },
 "nbformat": 4,
 "nbformat_minor": 2
}
