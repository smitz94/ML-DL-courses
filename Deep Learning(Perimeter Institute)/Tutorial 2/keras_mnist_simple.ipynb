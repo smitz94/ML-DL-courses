{
 "cells": [
  {
   "cell_type": "markdown",
   "metadata": {},
   "source": [
    "# Import libraries"
   ]
  },
  {
   "cell_type": "code",
   "execution_count": 1,
   "metadata": {},
   "outputs": [],
   "source": [
    "import numpy as np\n",
    "import matplotlib.pyplot as plt\n",
    "%matplotlib inline\n",
    "\n",
    "import tensorflow.keras as K"
   ]
  },
  {
   "cell_type": "code",
   "execution_count": 2,
   "metadata": {},
   "outputs": [],
   "source": [
    "import pickle\n",
    "import gzip"
   ]
  },
  {
   "cell_type": "markdown",
   "metadata": {},
   "source": [
    "# Load the MNIST dataset"
   ]
  },
  {
   "cell_type": "markdown",
   "metadata": {},
   "source": [
    "The dataset is composed in three parts: training, validation and test. We can load each of them in a different variable with the following command. The file is also stored locally on the Tutorials website."
   ]
  },
  {
   "cell_type": "code",
   "execution_count": 4,
   "metadata": {},
   "outputs": [],
   "source": [
    "dataset = gzip.open('mnist.pkl.gz', 'rb')\n",
    "training_data, validation_data, test_data = pickle.load(dataset,encoding='bytes')\n",
    "dataset.close()"
   ]
  },
  {
   "cell_type": "markdown",
   "metadata": {},
   "source": [
    "We define the one_hot encoding function that is able to convert the label that gives the correct digit into a vector of dimension 10."
   ]
  },
  {
   "cell_type": "code",
   "execution_count": 10,
   "metadata": {},
   "outputs": [],
   "source": [
    "n_categories = 10\n",
    "def hot_enc(j):\n",
    "    e = np.zeros([len(j),n_categories])\n",
    "    e[range(len(j)),j]=1.\n",
    "    return e"
   ]
  },
  {
   "cell_type": "markdown",
   "metadata": {},
   "source": [
    "Each part of the dataset has two parts: the image and its correct classification. We save the images in a variable and the label in another variable. In order to apply the _crossentropy_ cost function, we apply one hot encoding to the labels, i.e. $3 \\rightarrow (0,0,0,1,0,0,0,0,0,0)$."
   ]
  },
  {
   "cell_type": "code",
   "execution_count": 15,
   "metadata": {},
   "outputs": [],
   "source": [
    "training_in, training_out = training_data\n",
    "training_out_HOT = hot_enc(training_out)\n",
    "N_samples = len(training_in)\n",
    "\n",
    "test_in, test_out = test_data\n",
    "test_out_HOT = hot_enc(test_out)\n",
    "N_test = len(test_in)"
   ]
  },
  {
   "cell_type": "markdown",
   "metadata": {},
   "source": [
    "Number of pixel of the image. Since the images are squares, its square root is the width and height."
   ]
  },
  {
   "cell_type": "code",
   "execution_count": 27,
   "metadata": {},
   "outputs": [],
   "source": [
    "N_pixels = np.shape(training_in)[1]"
   ]
  },
  {
   "cell_type": "markdown",
   "metadata": {},
   "source": [
    "# Define the neural network "
   ]
  },
  {
   "cell_type": "code",
   "execution_count": 37,
   "metadata": {},
   "outputs": [],
   "source": [
    "def create_net(eta):\n",
    "    net = K.models.Sequential()\n",
    "    net.add(K.layers.Dense(100,input_shape=(N_pixels,), activation='relu'))\n",
    "    net.add(K.layers.GaussianDropout(0.1))\n",
    "    net.add(K.layers.Dense(50,activation='relu'))\n",
    "    net.add(K.layers.Dense(n_categories, activation='softmax'))\n",
    "    net.compile(loss='categorical_crossentropy', optimizer=K.optimizers.SGD(lr=eta), metrics=['categorical_accuracy'])\n",
    "    net.summary()\n",
    "    return net"
   ]
  },
  {
   "cell_type": "code",
   "execution_count": 38,
   "metadata": {},
   "outputs": [
    {
     "name": "stdout",
     "output_type": "stream",
     "text": [
      "_________________________________________________________________\n",
      "Layer (type)                 Output Shape              Param #   \n",
      "=================================================================\n",
      "dense_11 (Dense)             (None, 100)               78500     \n",
      "_________________________________________________________________\n",
      "gaussian_dropout_3 (Gaussian (None, 100)               0         \n",
      "_________________________________________________________________\n",
      "dense_12 (Dense)             (None, 50)                5050      \n",
      "_________________________________________________________________\n",
      "dense_13 (Dense)             (None, 10)                510       \n",
      "=================================================================\n",
      "Total params: 84,060\n",
      "Trainable params: 84,060\n",
      "Non-trainable params: 0\n",
      "_________________________________________________________________\n"
     ]
    }
   ],
   "source": [
    "eta = 1.0\n",
    "net = create_net(eta)"
   ]
  },
  {
   "cell_type": "markdown",
   "metadata": {},
   "source": [
    "# Train the network"
   ]
  },
  {
   "cell_type": "code",
   "execution_count": 39,
   "metadata": {},
   "outputs": [],
   "source": [
    "costs = []\n",
    "batchsize = 100\n",
    "N_batches = int(N_samples/batchsize)-1"
   ]
  },
  {
   "cell_type": "markdown",
   "metadata": {},
   "source": [
    "Keep in mind that we call _Epoch_ each time we go through the entire dataset. In other words, the code below trains the network for a single epoch."
   ]
  },
  {
   "cell_type": "code",
   "execution_count": 44,
   "metadata": {},
   "outputs": [
    {
     "name": "stdout",
     "output_type": "stream",
     "text": [
      "Training: 0/499,\tCost = 0.2227561\n",
      "Training: 1/499,\tCost = 0.2650533\n",
      "Training: 2/499,\tCost = 0.2169061\n",
      "Training: 3/499,\tCost = 0.0838285\n",
      "Training: 4/499,\tCost = 0.1922266\n",
      "Training: 5/499,\tCost = 0.2067805\n",
      "Training: 6/499,\tCost = 0.2481104\n",
      "Training: 7/499,\tCost = 0.2479007\n",
      "Training: 8/499,\tCost = 0.2621571\n",
      "Training: 9/499,\tCost = 0.3668781\n",
      "Training: 10/499,\tCost = 0.4651476\n",
      "Training: 11/499,\tCost = 0.4409310\n",
      "Training: 12/499,\tCost = 0.3532189\n",
      "Training: 13/499,\tCost = 0.3146908\n",
      "Training: 14/499,\tCost = 0.2403073\n",
      "Training: 15/499,\tCost = 0.2616359\n",
      "Training: 16/499,\tCost = 0.2319023\n",
      "Training: 17/499,\tCost = 0.2219260\n",
      "Training: 18/499,\tCost = 0.1894606\n",
      "Training: 19/499,\tCost = 0.2182457\n",
      "Training: 20/499,\tCost = 0.3262188\n",
      "Training: 21/499,\tCost = 0.2150277\n",
      "Training: 22/499,\tCost = 0.1541584\n",
      "Training: 23/499,\tCost = 0.1494135\n",
      "Training: 24/499,\tCost = 0.1896083\n",
      "Training: 25/499,\tCost = 0.1538988\n",
      "Training: 26/499,\tCost = 0.2286618\n",
      "Training: 27/499,\tCost = 0.3962154\n",
      "Training: 28/499,\tCost = 0.2420748\n",
      "Training: 29/499,\tCost = 0.2012431\n",
      "Training: 30/499,\tCost = 0.2169728\n",
      "Training: 31/499,\tCost = 0.1234691\n",
      "Training: 32/499,\tCost = 0.3275000\n",
      "Training: 33/499,\tCost = 0.1681890\n",
      "Training: 34/499,\tCost = 0.1797709\n",
      "Training: 35/499,\tCost = 0.2246398\n",
      "Training: 36/499,\tCost = 0.2188427\n",
      "Training: 37/499,\tCost = 0.2226299\n",
      "Training: 38/499,\tCost = 0.1343050\n",
      "Training: 39/499,\tCost = 0.1343324\n",
      "Training: 40/499,\tCost = 0.2880002\n",
      "Training: 41/499,\tCost = 0.2854468\n",
      "Training: 42/499,\tCost = 0.2119687\n",
      "Training: 43/499,\tCost = 0.1423968\n",
      "Training: 44/499,\tCost = 0.2023419\n",
      "Training: 45/499,\tCost = 0.1402739\n",
      "Training: 46/499,\tCost = 0.2982144\n",
      "Training: 47/499,\tCost = 0.1327774\n",
      "Training: 48/499,\tCost = 0.2272724\n",
      "Training: 49/499,\tCost = 0.3063391\n",
      "Training: 50/499,\tCost = 0.1876680\n",
      "Training: 51/499,\tCost = 0.4133707\n",
      "Training: 52/499,\tCost = 0.3410195\n",
      "Training: 53/499,\tCost = 0.3199481\n",
      "Training: 54/499,\tCost = 0.0920955\n",
      "Training: 55/499,\tCost = 0.2202629\n",
      "Training: 56/499,\tCost = 0.2593897\n",
      "Training: 57/499,\tCost = 0.2329207\n",
      "Training: 58/499,\tCost = 0.2963561\n",
      "Training: 59/499,\tCost = 0.1455593\n",
      "Training: 60/499,\tCost = 0.1556942\n",
      "Training: 61/499,\tCost = 0.1180217\n",
      "Training: 62/499,\tCost = 0.1385910\n",
      "Training: 63/499,\tCost = 0.1925429\n",
      "Training: 64/499,\tCost = 0.3262138\n",
      "Training: 65/499,\tCost = 0.2927617\n",
      "Training: 66/499,\tCost = 0.2795578\n",
      "Training: 67/499,\tCost = 0.1555547\n",
      "Training: 68/499,\tCost = 0.3917745\n",
      "Training: 69/499,\tCost = 0.3063752\n",
      "Training: 70/499,\tCost = 0.3248483\n",
      "Training: 71/499,\tCost = 0.2876457\n",
      "Training: 72/499,\tCost = 0.2649999\n",
      "Training: 73/499,\tCost = 0.2222713\n",
      "Training: 74/499,\tCost = 0.1111613\n",
      "Training: 75/499,\tCost = 0.1684885\n",
      "Training: 76/499,\tCost = 0.1759326\n",
      "Training: 77/499,\tCost = 0.2912917\n",
      "Training: 78/499,\tCost = 0.5104837\n",
      "Training: 79/499,\tCost = 0.2817852\n",
      "Training: 80/499,\tCost = 0.3196135\n",
      "Training: 81/499,\tCost = 0.4384674\n",
      "Training: 82/499,\tCost = 0.3571163\n",
      "Training: 83/499,\tCost = 0.1430868\n",
      "Training: 84/499,\tCost = 0.4040614\n",
      "Training: 85/499,\tCost = 0.2723188\n",
      "Training: 86/499,\tCost = 0.4008199\n",
      "Training: 87/499,\tCost = 0.4995168\n",
      "Training: 88/499,\tCost = 0.6718301\n",
      "Training: 89/499,\tCost = 0.2601275\n",
      "Training: 90/499,\tCost = 0.1994267\n",
      "Training: 91/499,\tCost = 0.2491534\n",
      "Training: 92/499,\tCost = 0.2326785\n",
      "Training: 93/499,\tCost = 0.2577948\n",
      "Training: 94/499,\tCost = 0.3143382\n",
      "Training: 95/499,\tCost = 0.2729307\n",
      "Training: 96/499,\tCost = 0.1905770\n",
      "Training: 97/499,\tCost = 0.2213383\n",
      "Training: 98/499,\tCost = 0.1432187\n",
      "Training: 99/499,\tCost = 0.0955320\n",
      "Training: 100/499,\tCost = 0.2822642\n",
      "Training: 101/499,\tCost = 0.2965045\n",
      "Training: 102/499,\tCost = 0.5126893\n",
      "Training: 103/499,\tCost = 0.1930384\n",
      "Training: 104/499,\tCost = 0.1213947\n",
      "Training: 105/499,\tCost = 0.1217810\n",
      "Training: 106/499,\tCost = 0.1415336\n",
      "Training: 107/499,\tCost = 0.2799846\n",
      "Training: 108/499,\tCost = 0.1412254\n",
      "Training: 109/499,\tCost = 0.2317325\n",
      "Training: 110/499,\tCost = 0.1546612\n",
      "Training: 111/499,\tCost = 0.1659293\n",
      "Training: 112/499,\tCost = 0.3518886\n",
      "Training: 113/499,\tCost = 0.1942434\n",
      "Training: 114/499,\tCost = 0.2521999\n",
      "Training: 115/499,\tCost = 0.4049319\n",
      "Training: 116/499,\tCost = 0.2996591\n",
      "Training: 117/499,\tCost = 0.3975694\n",
      "Training: 118/499,\tCost = 0.3201250\n",
      "Training: 119/499,\tCost = 0.2604225\n",
      "Training: 120/499,\tCost = 0.2332392\n",
      "Training: 121/499,\tCost = 0.2058730\n",
      "Training: 122/499,\tCost = 0.1699295\n",
      "Training: 123/499,\tCost = 0.2984948\n",
      "Training: 124/499,\tCost = 0.3430228\n",
      "Training: 125/499,\tCost = 0.2875796\n",
      "Training: 126/499,\tCost = 0.4649400\n",
      "Training: 127/499,\tCost = 0.3328729\n",
      "Training: 128/499,\tCost = 0.1661264\n",
      "Training: 129/499,\tCost = 0.3283615\n",
      "Training: 130/499,\tCost = 0.5438973\n",
      "Training: 131/499,\tCost = 0.2132098\n",
      "Training: 132/499,\tCost = 0.1525532\n",
      "Training: 133/499,\tCost = 0.2193965\n",
      "Training: 134/499,\tCost = 0.1719316\n",
      "Training: 135/499,\tCost = 0.2068112\n",
      "Training: 136/499,\tCost = 0.3195508\n",
      "Training: 137/499,\tCost = 0.3410364\n",
      "Training: 138/499,\tCost = 0.2739560\n",
      "Training: 139/499,\tCost = 0.2215371\n",
      "Training: 140/499,\tCost = 0.2181209\n",
      "Training: 141/499,\tCost = 0.1648862\n",
      "Training: 142/499,\tCost = 0.2991674\n",
      "Training: 143/499,\tCost = 0.4460407\n",
      "Training: 144/499,\tCost = 0.1096359\n",
      "Training: 145/499,\tCost = 0.2071027\n",
      "Training: 146/499,\tCost = 0.2539653\n",
      "Training: 147/499,\tCost = 0.5926788\n",
      "Training: 148/499,\tCost = 0.7041043\n",
      "Training: 149/499,\tCost = 0.2631035\n",
      "Training: 150/499,\tCost = 0.2004174\n",
      "Training: 151/499,\tCost = 0.3429311\n",
      "Training: 152/499,\tCost = 0.2700131\n",
      "Training: 153/499,\tCost = 0.1864958\n",
      "Training: 154/499,\tCost = 0.2117042\n",
      "Training: 155/499,\tCost = 0.2369612\n",
      "Training: 156/499,\tCost = 0.1988293\n",
      "Training: 157/499,\tCost = 0.3681401\n",
      "Training: 158/499,\tCost = 0.3725705\n",
      "Training: 159/499,\tCost = 0.3332862\n",
      "Training: 160/499,\tCost = 0.3617864\n",
      "Training: 161/499,\tCost = 0.4176404\n",
      "Training: 162/499,\tCost = 0.1659556\n",
      "Training: 163/499,\tCost = 0.1875444\n",
      "Training: 164/499,\tCost = 0.1698489\n",
      "Training: 165/499,\tCost = 0.1921230\n",
      "Training: 166/499,\tCost = 0.2311950\n",
      "Training: 167/499,\tCost = 0.3915440\n",
      "Training: 168/499,\tCost = 0.2238597\n",
      "Training: 169/499,\tCost = 0.2251143\n",
      "Training: 170/499,\tCost = 0.1914726\n",
      "Training: 171/499,\tCost = 0.1614448\n",
      "Training: 172/499,\tCost = 0.3587051\n",
      "Training: 173/499,\tCost = 0.1131828\n",
      "Training: 174/499,\tCost = 0.2445467\n",
      "Training: 175/499,\tCost = 0.3840273\n",
      "Training: 176/499,\tCost = 0.2676764\n",
      "Training: 177/499,\tCost = 0.4575884\n",
      "Training: 178/499,\tCost = 0.2171968\n",
      "Training: 179/499,\tCost = 0.2301528\n",
      "Training: 180/499,\tCost = 0.2104332\n",
      "Training: 181/499,\tCost = 0.2291428\n",
      "Training: 182/499,\tCost = 0.2080037\n",
      "Training: 183/499,\tCost = 0.2134267\n",
      "Training: 184/499,\tCost = 0.2531331\n",
      "Training: 185/499,\tCost = 0.1339719\n",
      "Training: 186/499,\tCost = 0.1606533\n",
      "Training: 187/499,\tCost = 0.2467292\n",
      "Training: 188/499,\tCost = 0.1505020\n",
      "Training: 189/499,\tCost = 0.1451656\n",
      "Training: 190/499,\tCost = 0.2568310\n",
      "Training: 191/499,\tCost = 0.1739460\n",
      "Training: 192/499,\tCost = 0.2907525\n",
      "Training: 193/499,\tCost = 0.2552711\n",
      "Training: 194/499,\tCost = 0.1411288\n",
      "Training: 195/499,\tCost = 0.4085769\n",
      "Training: 196/499,\tCost = 0.1229135\n",
      "Training: 197/499,\tCost = 0.1255657\n",
      "Training: 198/499,\tCost = 0.2714891\n",
      "Training: 199/499,\tCost = 0.2147711\n",
      "Training: 200/499,\tCost = 0.3075432\n",
      "Training: 201/499,\tCost = 0.4175690\n",
      "Training: 202/499,\tCost = 0.1486549\n",
      "Training: 203/499,\tCost = 0.2049528\n",
      "Training: 204/499,\tCost = 0.0929286\n",
      "Training: 205/499,\tCost = 0.2710502\n",
      "Training: 206/499,\tCost = 0.2857173\n",
      "Training: 207/499,\tCost = 0.4147741\n",
      "Training: 208/499,\tCost = 0.2947813\n",
      "Training: 209/499,\tCost = 0.4567840\n",
      "Training: 210/499,\tCost = 0.2543581\n",
      "Training: 211/499,\tCost = 0.1921860\n",
      "Training: 212/499,\tCost = 0.1155220\n",
      "Training: 213/499,\tCost = 0.1704804\n",
      "Training: 214/499,\tCost = 0.1558342\n",
      "Training: 215/499,\tCost = 0.2453945\n",
      "Training: 216/499,\tCost = 0.1507756\n",
      "Training: 217/499,\tCost = 0.1419462\n",
      "Training: 218/499,\tCost = 0.0924907\n",
      "Training: 219/499,\tCost = 0.2086634\n",
      "Training: 220/499,\tCost = 0.0904198\n",
      "Training: 221/499,\tCost = 0.3073226\n",
      "Training: 222/499,\tCost = 0.2472492\n",
      "Training: 223/499,\tCost = 0.1757932\n",
      "Training: 224/499,\tCost = 0.2649223\n",
      "Training: 225/499,\tCost = 0.3074101\n",
      "Training: 226/499,\tCost = 0.3298723\n",
      "Training: 227/499,\tCost = 0.2712644\n",
      "Training: 228/499,\tCost = 0.3098100\n",
      "Training: 229/499,\tCost = 0.2271372\n",
      "Training: 230/499,\tCost = 0.2621116\n",
      "Training: 231/499,\tCost = 0.3004366\n",
      "Training: 232/499,\tCost = 0.1265351\n",
      "Training: 233/499,\tCost = 0.2879159\n",
      "Training: 234/499,\tCost = 0.2286304\n",
      "Training: 235/499,\tCost = 0.1422214\n",
      "Training: 236/499,\tCost = 0.3385798\n",
      "Training: 237/499,\tCost = 0.5445453\n",
      "Training: 238/499,\tCost = 0.1551735\n",
      "Training: 239/499,\tCost = 0.2876326\n",
      "Training: 240/499,\tCost = 0.4348352\n",
      "Training: 241/499,\tCost = 0.2256391\n",
      "Training: 242/499,\tCost = 0.2959115\n",
      "Training: 243/499,\tCost = 0.1476946\n",
      "Training: 244/499,\tCost = 0.2269291\n",
      "Training: 245/499,\tCost = 0.2207990\n",
      "Training: 246/499,\tCost = 0.3897378\n",
      "Training: 247/499,\tCost = 0.4397565\n",
      "Training: 248/499,\tCost = 0.1542102\n",
      "Training: 249/499,\tCost = 0.2332874\n",
      "Training: 250/499,\tCost = 0.1461454\n",
      "Training: 251/499,\tCost = 0.2509490\n",
      "Training: 252/499,\tCost = 0.1428174\n",
      "Training: 253/499,\tCost = 0.2012773\n",
      "Training: 254/499,\tCost = 0.1353426\n",
      "Training: 255/499,\tCost = 0.2022200\n"
     ]
    },
    {
     "name": "stdout",
     "output_type": "stream",
     "text": [
      "Training: 256/499,\tCost = 0.2247756\n",
      "Training: 257/499,\tCost = 0.2492800\n",
      "Training: 258/499,\tCost = 0.1150653\n",
      "Training: 259/499,\tCost = 0.1939035\n",
      "Training: 260/499,\tCost = 0.1183121\n",
      "Training: 261/499,\tCost = 0.1604333\n",
      "Training: 262/499,\tCost = 0.1694030\n",
      "Training: 263/499,\tCost = 0.3467530\n",
      "Training: 264/499,\tCost = 0.1836167\n",
      "Training: 265/499,\tCost = 0.3683804\n",
      "Training: 266/499,\tCost = 0.3066223\n",
      "Training: 267/499,\tCost = 0.3533469\n",
      "Training: 268/499,\tCost = 0.3128729\n",
      "Training: 269/499,\tCost = 0.1844331\n",
      "Training: 270/499,\tCost = 0.1059487\n",
      "Training: 271/499,\tCost = 0.5944105\n",
      "Training: 272/499,\tCost = 0.3267230\n",
      "Training: 273/499,\tCost = 0.1341233\n",
      "Training: 274/499,\tCost = 0.2593476\n",
      "Training: 275/499,\tCost = 0.1977710\n",
      "Training: 276/499,\tCost = 0.2793771\n",
      "Training: 277/499,\tCost = 0.2589239\n",
      "Training: 278/499,\tCost = 0.2058689\n",
      "Training: 279/499,\tCost = 0.2187088\n",
      "Training: 280/499,\tCost = 0.0599507\n",
      "Training: 281/499,\tCost = 0.1611224\n",
      "Training: 282/499,\tCost = 0.2833387\n",
      "Training: 283/499,\tCost = 0.3763443\n",
      "Training: 284/499,\tCost = 0.2305566\n",
      "Training: 285/499,\tCost = 0.3089975\n",
      "Training: 286/499,\tCost = 0.4368842\n",
      "Training: 287/499,\tCost = 0.1891393\n",
      "Training: 288/499,\tCost = 0.1723935\n",
      "Training: 289/499,\tCost = 0.2757699\n",
      "Training: 290/499,\tCost = 0.2868692\n",
      "Training: 291/499,\tCost = 0.4527567\n",
      "Training: 292/499,\tCost = 0.3529165\n",
      "Training: 293/499,\tCost = 0.5118899\n",
      "Training: 294/499,\tCost = 0.2141792\n",
      "Training: 295/499,\tCost = 0.1831710\n",
      "Training: 296/499,\tCost = 0.1411304\n",
      "Training: 297/499,\tCost = 0.2750627\n",
      "Training: 298/499,\tCost = 0.2595682\n",
      "Training: 299/499,\tCost = 0.2996314\n",
      "Training: 300/499,\tCost = 0.2959183\n",
      "Training: 301/499,\tCost = 0.2449907\n",
      "Training: 302/499,\tCost = 0.2093077\n",
      "Training: 303/499,\tCost = 0.1040567\n",
      "Training: 304/499,\tCost = 0.1870341\n",
      "Training: 305/499,\tCost = 0.2010518\n",
      "Training: 306/499,\tCost = 0.2497503\n",
      "Training: 307/499,\tCost = 0.1838226\n",
      "Training: 308/499,\tCost = 0.3031763\n",
      "Training: 309/499,\tCost = 0.1907343\n",
      "Training: 310/499,\tCost = 0.2933056\n",
      "Training: 311/499,\tCost = 0.2400233\n",
      "Training: 312/499,\tCost = 0.2197561\n",
      "Training: 313/499,\tCost = 0.3884487\n",
      "Training: 314/499,\tCost = 0.1983030\n",
      "Training: 315/499,\tCost = 0.1759903\n",
      "Training: 316/499,\tCost = 0.2504427\n",
      "Training: 317/499,\tCost = 0.3619018\n",
      "Training: 318/499,\tCost = 0.2331375\n",
      "Training: 319/499,\tCost = 0.1475529\n",
      "Training: 320/499,\tCost = 0.2951908\n",
      "Training: 321/499,\tCost = 0.3033373\n",
      "Training: 322/499,\tCost = 0.4219341\n",
      "Training: 323/499,\tCost = 0.3580937\n",
      "Training: 324/499,\tCost = 0.3832774\n",
      "Training: 325/499,\tCost = 0.0998822\n",
      "Training: 326/499,\tCost = 0.1557430\n",
      "Training: 327/499,\tCost = 0.2804193\n",
      "Training: 328/499,\tCost = 0.2114052\n",
      "Training: 329/499,\tCost = 0.0816234\n",
      "Training: 330/499,\tCost = 0.1437498\n",
      "Training: 331/499,\tCost = 0.1379500\n",
      "Training: 332/499,\tCost = 0.1557350\n",
      "Training: 333/499,\tCost = 0.2851573\n",
      "Training: 334/499,\tCost = 0.1225545\n",
      "Training: 335/499,\tCost = 0.1720000\n",
      "Training: 336/499,\tCost = 0.0728628\n",
      "Training: 337/499,\tCost = 0.2115330\n",
      "Training: 338/499,\tCost = 0.1120131\n",
      "Training: 339/499,\tCost = 0.0489335\n",
      "Training: 340/499,\tCost = 0.1986980\n",
      "Training: 341/499,\tCost = 0.0730205\n",
      "Training: 342/499,\tCost = 0.1800768\n",
      "Training: 343/499,\tCost = 0.0996085\n",
      "Training: 344/499,\tCost = 0.3220685\n",
      "Training: 345/499,\tCost = 0.2617605\n",
      "Training: 346/499,\tCost = 0.1553365\n",
      "Training: 347/499,\tCost = 0.1980660\n",
      "Training: 348/499,\tCost = 0.3404098\n",
      "Training: 349/499,\tCost = 0.3105463\n",
      "Training: 350/499,\tCost = 0.1582041\n",
      "Training: 351/499,\tCost = 0.2290208\n",
      "Training: 352/499,\tCost = 0.1875057\n",
      "Training: 353/499,\tCost = 0.1833844\n",
      "Training: 354/499,\tCost = 0.3466307\n",
      "Training: 355/499,\tCost = 0.1674299\n",
      "Training: 356/499,\tCost = 0.2318767\n",
      "Training: 357/499,\tCost = 0.1900830\n",
      "Training: 358/499,\tCost = 0.2092775\n",
      "Training: 359/499,\tCost = 0.1540675\n",
      "Training: 360/499,\tCost = 0.2491904\n",
      "Training: 361/499,\tCost = 0.1602487\n",
      "Training: 362/499,\tCost = 0.2377484\n",
      "Training: 363/499,\tCost = 0.0571316\n",
      "Training: 364/499,\tCost = 0.4418316\n",
      "Training: 365/499,\tCost = 0.0947437\n",
      "Training: 366/499,\tCost = 0.1371513\n",
      "Training: 367/499,\tCost = 0.1753598\n",
      "Training: 368/499,\tCost = 0.3277261\n",
      "Training: 369/499,\tCost = 0.2629403\n",
      "Training: 370/499,\tCost = 0.2292915\n",
      "Training: 371/499,\tCost = 0.3196195\n",
      "Training: 372/499,\tCost = 0.2530845\n",
      "Training: 373/499,\tCost = 0.6546159\n",
      "Training: 374/499,\tCost = 0.4012040\n",
      "Training: 375/499,\tCost = 0.5819788\n",
      "Training: 376/499,\tCost = 0.2171804\n",
      "Training: 377/499,\tCost = 0.2341081\n",
      "Training: 378/499,\tCost = 0.2313059\n",
      "Training: 379/499,\tCost = 0.2778616\n",
      "Training: 380/499,\tCost = 0.2019645\n",
      "Training: 381/499,\tCost = 0.1241002\n",
      "Training: 382/499,\tCost = 0.1553241\n",
      "Training: 383/499,\tCost = 0.3726791\n",
      "Training: 384/499,\tCost = 0.2248480\n",
      "Training: 385/499,\tCost = 0.3192161\n",
      "Training: 386/499,\tCost = 0.2891208\n",
      "Training: 387/499,\tCost = 0.2652282\n",
      "Training: 388/499,\tCost = 0.1131361\n",
      "Training: 389/499,\tCost = 0.1719743\n",
      "Training: 390/499,\tCost = 0.1821563\n",
      "Training: 391/499,\tCost = 0.2900865\n",
      "Training: 392/499,\tCost = 0.2522932\n",
      "Training: 393/499,\tCost = 0.5038721\n",
      "Training: 394/499,\tCost = 0.3207155\n",
      "Training: 395/499,\tCost = 0.1710206\n",
      "Training: 396/499,\tCost = 0.2184244\n",
      "Training: 397/499,\tCost = 0.0751630\n",
      "Training: 398/499,\tCost = 0.2808620\n",
      "Training: 399/499,\tCost = 0.1620448\n",
      "Training: 400/499,\tCost = 0.1098153\n",
      "Training: 401/499,\tCost = 0.2104588\n",
      "Training: 402/499,\tCost = 0.2251987\n",
      "Training: 403/499,\tCost = 0.3857182\n",
      "Training: 404/499,\tCost = 0.3116805\n",
      "Training: 405/499,\tCost = 0.2222488\n",
      "Training: 406/499,\tCost = 0.1850828\n",
      "Training: 407/499,\tCost = 0.1568544\n",
      "Training: 408/499,\tCost = 0.1766405\n",
      "Training: 409/499,\tCost = 0.2293032\n",
      "Training: 410/499,\tCost = 0.2012109\n",
      "Training: 411/499,\tCost = 0.2526575\n",
      "Training: 412/499,\tCost = 0.3487206\n",
      "Training: 413/499,\tCost = 0.3395182\n",
      "Training: 414/499,\tCost = 0.4363601\n",
      "Training: 415/499,\tCost = 0.3343924\n",
      "Training: 416/499,\tCost = 0.2037302\n",
      "Training: 417/499,\tCost = 0.1670009\n",
      "Training: 418/499,\tCost = 0.1574322\n",
      "Training: 419/499,\tCost = 0.3181394\n",
      "Training: 420/499,\tCost = 0.2219901\n",
      "Training: 421/499,\tCost = 0.2663903\n",
      "Training: 422/499,\tCost = 0.0999302\n",
      "Training: 423/499,\tCost = 0.3331043\n",
      "Training: 424/499,\tCost = 0.2456597\n",
      "Training: 425/499,\tCost = 0.2323544\n",
      "Training: 426/499,\tCost = 0.1964265\n",
      "Training: 427/499,\tCost = 0.3169004\n",
      "Training: 428/499,\tCost = 0.1909399\n",
      "Training: 429/499,\tCost = 0.2822389\n",
      "Training: 430/499,\tCost = 0.3346315\n",
      "Training: 431/499,\tCost = 0.2025568\n",
      "Training: 432/499,\tCost = 0.2777265\n",
      "Training: 433/499,\tCost = 0.0603384\n",
      "Training: 434/499,\tCost = 0.1059631\n",
      "Training: 435/499,\tCost = 0.3064313\n",
      "Training: 436/499,\tCost = 0.1619155\n",
      "Training: 437/499,\tCost = 0.0942917\n",
      "Training: 438/499,\tCost = 0.2618322\n",
      "Training: 439/499,\tCost = 0.3523272\n",
      "Training: 440/499,\tCost = 0.1849515\n",
      "Training: 441/499,\tCost = 0.2101128\n",
      "Training: 442/499,\tCost = 0.2021142\n",
      "Training: 443/499,\tCost = 0.2205821\n",
      "Training: 444/499,\tCost = 0.2164333\n",
      "Training: 445/499,\tCost = 0.0835091\n",
      "Training: 446/499,\tCost = 0.1668131\n",
      "Training: 447/499,\tCost = 0.1296472\n",
      "Training: 448/499,\tCost = 0.3209430\n",
      "Training: 449/499,\tCost = 0.2611971\n",
      "Training: 450/499,\tCost = 0.2601925\n",
      "Training: 451/499,\tCost = 0.2413958\n",
      "Training: 452/499,\tCost = 0.2506130\n",
      "Training: 453/499,\tCost = 0.0759283\n",
      "Training: 454/499,\tCost = 0.2206064\n",
      "Training: 455/499,\tCost = 0.3140788\n",
      "Training: 456/499,\tCost = 0.2202416\n",
      "Training: 457/499,\tCost = 0.1836521\n",
      "Training: 458/499,\tCost = 0.3773824\n",
      "Training: 459/499,\tCost = 0.1561340\n",
      "Training: 460/499,\tCost = 0.2769635\n",
      "Training: 461/499,\tCost = 0.3125428\n",
      "Training: 462/499,\tCost = 0.5337219\n",
      "Training: 463/499,\tCost = 0.5427215\n",
      "Training: 464/499,\tCost = 0.3630080\n",
      "Training: 465/499,\tCost = 0.0589147\n",
      "Training: 466/499,\tCost = 0.1565541\n",
      "Training: 467/499,\tCost = 0.2018452\n",
      "Training: 468/499,\tCost = 0.1919344\n",
      "Training: 469/499,\tCost = 0.2227910\n",
      "Training: 470/499,\tCost = 0.1815101\n",
      "Training: 471/499,\tCost = 0.2085464\n",
      "Training: 472/499,\tCost = 0.5511105\n",
      "Training: 473/499,\tCost = 0.2103095\n",
      "Training: 474/499,\tCost = 0.2632956\n",
      "Training: 475/499,\tCost = 0.1881253\n",
      "Training: 476/499,\tCost = 0.3707827\n",
      "Training: 477/499,\tCost = 0.4007518\n",
      "Training: 478/499,\tCost = 0.1399023\n",
      "Training: 479/499,\tCost = 0.2533630\n",
      "Training: 480/499,\tCost = 0.1830657\n",
      "Training: 481/499,\tCost = 0.2865029\n",
      "Training: 482/499,\tCost = 0.0805184\n",
      "Training: 483/499,\tCost = 0.2934418\n",
      "Training: 484/499,\tCost = 0.2069123\n",
      "Training: 485/499,\tCost = 0.2705418\n",
      "Training: 486/499,\tCost = 0.2471406\n",
      "Training: 487/499,\tCost = 0.1291311\n",
      "Training: 488/499,\tCost = 0.2372669\n",
      "Training: 489/499,\tCost = 0.4343508\n",
      "Training: 490/499,\tCost = 0.5175737\n",
      "Training: 491/499,\tCost = 0.2844091\n",
      "Training: 492/499,\tCost = 0.2449110\n",
      "Training: 493/499,\tCost = 0.1080965\n",
      "Training: 494/499,\tCost = 0.2971595\n",
      "Training: 495/499,\tCost = 0.4779105\n",
      "Training: 496/499,\tCost = 0.2814156\n",
      "Training: 497/499,\tCost = 0.1424316\n",
      "Training: 498/499,\tCost = 0.4651687\n"
     ]
    }
   ],
   "source": [
    "for i in range(N_batches):\n",
    "    costs.append(\n",
    "        net.train_on_batch(training_in[i*batchsize:(i+1)*batchsize,:], \n",
    "                          training_out_HOT[i*batchsize:(i+1)*batchsize,:])[0]  #First output of train on batch is COST, second the METRIC\n",
    "    )\n",
    "    print(\"Training: %d/%d,\\tCost = %2.7f\" % (i,N_batches,costs[-1]))"
   ]
  },
  {
   "cell_type": "code",
   "execution_count": 45,
   "metadata": {},
   "outputs": [
    {
     "data": {
      "text/plain": [
       "[<matplotlib.lines.Line2D at 0x7f005c2ceeb8>]"
      ]
     },
     "execution_count": 45,
     "metadata": {},
     "output_type": "execute_result"
    },
    {
     "data": {
      "image/png": "[encoded data removed]",
      "text/plain": [
       "<Figure size 432x288 with 1 Axes>"
      ]
     },
     "metadata": {
      "needs_background": "light"
     },
     "output_type": "display_data"
    }
   ],
   "source": [
    "plt.plot(costs)"
   ]
  },
  {
   "cell_type": "code",
   "execution_count": 73,
   "metadata": {},
   "outputs": [
    {
     "name": "stdout",
     "output_type": "stream",
     "text": [
      "93.11\n"
     ]
    }
   ],
   "source": [
    "predictions = np.argmax(net.predict_on_batch(test_in),axis=1)\n",
    "errors = np.count_nonzero(predictions- test_out)\n",
    "accuracy = (1- errors/N_test)*100\n",
    "print(accuracy)"
   ]
  },
  {
   "cell_type": "markdown",
   "metadata": {},
   "source": [
    "# Show the digits"
   ]
  },
  {
   "cell_type": "code",
   "execution_count": 64,
   "metadata": {},
   "outputs": [],
   "source": [
    "def show_image(which):\n",
    "    plt.figure()\n",
    "    plt.imshow(np.reshape(which,[28,28]), cmap='binary')\n",
    "    plt.show()"
   ]
  },
  {
   "cell_type": "code",
   "execution_count": 67,
   "metadata": {},
   "outputs": [
    {
     "data": {
      "image/png": "[encoded data removed]",
      "text/plain": [
       "<Figure size 432x288 with 1 Axes>"
      ]
     },
     "metadata": {
      "needs_background": "light"
     },
     "output_type": "display_data"
    }
   ],
   "source": [
    "show_image(test_in[5])"
   ]
  },
  {
   "cell_type": "markdown",
   "metadata": {},
   "source": [
    "Show the indices of the digits that were missclassified. You can look at them with the function `show_image(test_in[index])`, and get the proposed category with `predictions[index]`, if `index` is the index of the missclassified image."
   ]
  },
  {
   "cell_type": "code",
   "execution_count": 70,
   "metadata": {},
   "outputs": [
    {
     "data": {
      "text/plain": [
       "(array([  33,   38,   62,  104,  124,  149,  151,  195,  217,  232,  233,\n",
       "         241,  247,  259,  266,  290,  300,  321,  324,  340,  344,  352,\n",
       "         362,  363,  381,  386,  391,  400,  403,  421,  435,  444,  445,\n",
       "         449,  457,  479,  508,  511,  543,  550,  552,  565,  583,  591,\n",
       "         610,  613,  619,  627,  630,  646,  658,  659,  691,  707,  717,\n",
       "         720,  726,  740,  741,  786,  800,  839,  844,  870,  881,  882,\n",
       "         924,  926,  930,  936,  938,  939,  947,  956,  959,  965,  992,\n",
       "        1014, 1039, 1044, 1068, 1073, 1107, 1112, 1114, 1128, 1138, 1153,\n",
       "        1159, 1166, 1182, 1191, 1192, 1194, 1198, 1200, 1202, 1208, 1212,\n",
       "        1219, 1224, 1226, 1234, 1242, 1247, 1248, 1251, 1253, 1256, 1260,\n",
       "        1283, 1292, 1299, 1319, 1325, 1326, 1328, 1337, 1357, 1391, 1413,\n",
       "        1415, 1436, 1440, 1463, 1465, 1469, 1494, 1500, 1522, 1523, 1527,\n",
       "        1530, 1549, 1553, 1559, 1562, 1587, 1609, 1626, 1634, 1640, 1641,\n",
       "        1678, 1681, 1686, 1695, 1696, 1702, 1709, 1717, 1718, 1730, 1732,\n",
       "        1737, 1748, 1751, 1754, 1772, 1773, 1790, 1813, 1828, 1839, 1850,\n",
       "        1868, 1878, 1901, 1903, 1913, 1938, 1940, 1941, 1952, 1965, 1968,\n",
       "        1973, 1982, 1984, 2004, 2016, 2018, 2024, 2043, 2044, 2053, 2063,\n",
       "        2070, 2098, 2107, 2109, 2116, 2118, 2129, 2130, 2135, 2138, 2153,\n",
       "        2182, 2185, 2186, 2266, 2272, 2293, 2299, 2308, 2325, 2369, 2371,\n",
       "        2380, 2387, 2393, 2396, 2406, 2422, 2429, 2433, 2454, 2462, 2488,\n",
       "        2514, 2560, 2598, 2607, 2610, 2617, 2639, 2648, 2651, 2654, 2695,\n",
       "        2713, 2730, 2750, 2782, 2834, 2836, 2877, 2896, 2921, 2925, 2927,\n",
       "        2939, 2945, 2949, 2953, 2970, 2975, 2976, 2995, 3005, 3023, 3060,\n",
       "        3062, 3073, 3078, 3106, 3110, 3114, 3117, 3130, 3132, 3136, 3157,\n",
       "        3189, 3201, 3206, 3218, 3225, 3240, 3251, 3254, 3269, 3284, 3289,\n",
       "        3329, 3333, 3342, 3384, 3392, 3405, 3437, 3466, 3475, 3503, 3520,\n",
       "        3534, 3550, 3557, 3559, 3563, 3567, 3573, 3597, 3604, 3629, 3674,\n",
       "        3688, 3718, 3726, 3727, 3737, 3749, 3751, 3767, 3776, 3780, 3796,\n",
       "        3808, 3811, 3817, 3818, 3821, 3823, 3836, 3838, 3853, 3855, 3862,\n",
       "        3869, 3876, 3893, 3906, 3926, 3941, 3943, 3946, 3951, 3964, 3976,\n",
       "        3985, 3995, 4000, 4002, 4007, 4017, 4063, 4065, 4075, 4078, 4093,\n",
       "        4116, 4124, 4126, 4154, 4156, 4163, 4176, 4180, 4199, 4201, 4205,\n",
       "        4211, 4212, 4224, 4239, 4248, 4259, 4265, 4289, 4290, 4297, 4306,\n",
       "        4313, 4317, 4363, 4374, 4380, 4382, 4399, 4415, 4427, 4433, 4435,\n",
       "        4438, 4451, 4455, 4477, 4497, 4498, 4504, 4521, 4523, 4534, 4536,\n",
       "        4567, 4575, 4601, 4615, 4619, 4635, 4699, 4724, 4731, 4738, 4743,\n",
       "        4751, 4785, 4789, 4798, 4807, 4814, 4816, 4823, 4826, 4837, 4838,\n",
       "        4852, 4860, 4874, 4876, 4880, 4886, 4890, 4899, 4952, 4956, 4966,\n",
       "        4990, 4995, 4997, 5038, 5046, 5054, 5067, 5068, 5074, 5078, 5086,\n",
       "        5129, 5138, 5140, 5143, 5159, 5165, 5176, 5183, 5288, 5331, 5409,\n",
       "        5457, 5495, 5547, 5564, 5573, 5623, 5634, 5642, 5677, 5678, 5691,\n",
       "        5734, 5749, 5835, 5841, 5842, 5870, 5871, 5887, 5888, 5913, 5934,\n",
       "        5936, 5955, 5973, 5975, 5983, 6011, 6023, 6027, 6035, 6037, 6057,\n",
       "        6059, 6065, 6071, 6075, 6081, 6091, 6093, 6112, 6124, 6126, 6157,\n",
       "        6166, 6172, 6173, 6174, 6194, 6347, 6391, 6421, 6432, 6455, 6465,\n",
       "        6494, 6501, 6505, 6511, 6517, 6542, 6555, 6560, 6571, 6572, 6574,\n",
       "        6597, 6603, 6608, 6610, 6621, 6625, 6632, 6641, 6651, 6657, 6691,\n",
       "        6706, 6749, 6755, 6765, 6783, 6784, 6817, 6872, 6878, 6912, 7002,\n",
       "        7035, 7117, 7121, 7130, 7210, 7216, 7233, 7235, 7338, 7394, 7432,\n",
       "        7434, 7451, 7457, 7459, 7472, 7473, 7481, 7514, 7539, 7595, 7713,\n",
       "        7779, 7783, 7786, 7797, 7800, 7806, 7812, 7821, 7839, 7847, 7849,\n",
       "        7851, 7856, 7860, 7886, 7899, 7916, 7917, 7921, 7928, 7945, 7990,\n",
       "        8004, 8020, 8061, 8081, 8091, 8094, 8095, 8115, 8128, 8171, 8246,\n",
       "        8253, 8255, 8259, 8272, 8277, 8279, 8293, 8294, 8297, 8298, 8301,\n",
       "        8318, 8339, 8345, 8362, 8383, 8406, 8408, 8410, 8413, 8453, 8456,\n",
       "        8476, 8504, 8520, 8522, 8523, 8527, 8607, 8639, 8842, 8908, 8952,\n",
       "        9008, 9009, 9010, 9015, 9016, 9022, 9024, 9046, 9057, 9161, 9168,\n",
       "        9170, 9182, 9209, 9245, 9280, 9316, 9375, 9449, 9487, 9513, 9538,\n",
       "        9544, 9587, 9614, 9634, 9642, 9664, 9669, 9679, 9692, 9698, 9712,\n",
       "        9716, 9719, 9729, 9732, 9742, 9745, 9749, 9751, 9752, 9758, 9764,\n",
       "        9768, 9770, 9779, 9792, 9804, 9808, 9811, 9812, 9828, 9832, 9839,\n",
       "        9856, 9858, 9860, 9867, 9879, 9881, 9888, 9892, 9893, 9904, 9905,\n",
       "        9925, 9941, 9943, 9944, 9954, 9980, 9982]),)"
      ]
     },
     "execution_count": 70,
     "metadata": {},
     "output_type": "execute_result"
    }
   ],
   "source": [
    "np.where(predictions - test_out != 0)"
   ]
  },
  {
   "cell_type": "code",
   "execution_count": 72,
   "metadata": {},
   "outputs": [
    {
     "data": {
      "image/png": "[encoded data removed]",
      "text/plain": [
       "<Figure size 432x288 with 1 Axes>"
      ]
     },
     "metadata": {
      "needs_background": "light"
     },
     "output_type": "display_data"
    },
    {
     "name": "stdout",
     "output_type": "stream",
     "text": [
      "Proposed: 0\n",
      "True: 4\n"
     ]
    }
   ],
   "source": [
    "show_image(test_in[33])\n",
    "print(\"Proposed:\", predictions[33])\n",
    "print(\"True:\", test_out[33])"
   ]
  }
 ],
 "metadata": {
  "kernelspec": {
   "display_name": "Python 3",
   "language": "python",
   "name": "python3"
  },
  "language_info": {
   "codemirror_mode": {
    "name": "ipython",
    "version": 3
   },
   "file_extension": ".py",
   "mimetype": "text/x-python",
   "name": "python",
   "nbconvert_exporter": "python",
   "pygments_lexer": "ipython3",
   "version": "3.7.3"
  }
 },
 "nbformat": 4,
 "nbformat_minor": 2
}
